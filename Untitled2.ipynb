{
 "cells": [
  {
   "cell_type": "code",
   "execution_count": 1,
   "id": "ef6a95f2",
   "metadata": {},
   "outputs": [
    {
     "name": "stderr",
     "output_type": "stream",
     "text": [
      "[nltk_data] Downloading package stopwords to\n",
      "[nltk_data]     C:\\Users\\Владислав\\AppData\\Roaming\\nltk_data...\n",
      "[nltk_data]   Package stopwords is already up-to-date!\n",
      "[nltk_data] Downloading package punkt to\n",
      "[nltk_data]     C:\\Users\\Владислав\\AppData\\Roaming\\nltk_data...\n",
      "[nltk_data]   Package punkt is already up-to-date!\n"
     ]
    }
   ],
   "source": [
    "import pandas as pd\n",
    "import json\n",
    "import seaborn as sns\n",
    "import re\n",
    "from sklearn.model_selection import train_test_split\n",
    "import nltk\n",
    "nltk.download('stopwords')\n",
    "import string\n",
    "from nltk.corpus import stopwords\n",
    "from nltk.tokenize import word_tokenize\n",
    "from nltk.stem import SnowballStemmer\n",
    "nltk.download('punkt')\n",
    "from sklearn.pipeline import Pipeline\n",
    "from sklearn.linear_model import LogisticRegression\n",
    "from sklearn.feature_extraction.text import TfidfVectorizer\n",
    "from sklearn.metrics import precision_score, recall_score, precision_recall_curve\n",
    "from matplotlib import pyplot as plt\n",
    "import numpy as np\n",
    "from sklearn.model_selection import GridSearchCV\n",
    "from sklearn.decomposition import TruncatedSVD\n",
    "from sklearn.feature_extraction.text import TfidfVectorizer\n",
    "from sklearn.feature_extraction.text import CountVectorizer\n",
    "from sklearn.metrics import classification_report\n",
    "from sklearn.model_selection import RandomizedSearchCV  # or GridSearchCV\n",
    "from sklearn.pipeline import Pipeline\n",
    "import os\n",
    "os.chdir(\"/Users/Владислав/Data science\")"
   ]
  },
  {
   "cell_type": "code",
   "execution_count": 151,
   "id": "96cc03db",
   "metadata": {},
   "outputs": [
    {
     "ename": "ParserError",
     "evalue": "Error tokenizing data. C error: Calling read(nbytes) on source failed. Try engine='python'.",
     "output_type": "error",
     "traceback": [
      "\u001b[1;31m---------------------------------------------------------------------------\u001b[0m",
      "\u001b[1;31mParserError\u001b[0m                               Traceback (most recent call last)",
      "\u001b[1;32m<ipython-input-151-2f68a5d66700>\u001b[0m in \u001b[0;36m<module>\u001b[1;34m\u001b[0m\n\u001b[1;32m----> 1\u001b[1;33m \u001b[0mdf\u001b[0m \u001b[1;33m=\u001b[0m \u001b[0mpd\u001b[0m\u001b[1;33m.\u001b[0m\u001b[0mread_csv\u001b[0m\u001b[1;33m(\u001b[0m\u001b[1;34m'lenta-ru-news.csv'\u001b[0m\u001b[1;33m)\u001b[0m\u001b[1;33m\u001b[0m\u001b[1;33m\u001b[0m\u001b[0m\n\u001b[0m",
      "\u001b[1;32mC:\\ProgramData\\Anaconda3\\lib\\site-packages\\pandas\\io\\parsers.py\u001b[0m in \u001b[0;36mread_csv\u001b[1;34m(filepath_or_buffer, sep, delimiter, header, names, index_col, usecols, squeeze, prefix, mangle_dupe_cols, dtype, engine, converters, true_values, false_values, skipinitialspace, skiprows, skipfooter, nrows, na_values, keep_default_na, na_filter, verbose, skip_blank_lines, parse_dates, infer_datetime_format, keep_date_col, date_parser, dayfirst, cache_dates, iterator, chunksize, compression, thousands, decimal, lineterminator, quotechar, quoting, doublequote, escapechar, comment, encoding, dialect, error_bad_lines, warn_bad_lines, delim_whitespace, low_memory, memory_map, float_precision, storage_options)\u001b[0m\n\u001b[0;32m    608\u001b[0m     \u001b[0mkwds\u001b[0m\u001b[1;33m.\u001b[0m\u001b[0mupdate\u001b[0m\u001b[1;33m(\u001b[0m\u001b[0mkwds_defaults\u001b[0m\u001b[1;33m)\u001b[0m\u001b[1;33m\u001b[0m\u001b[1;33m\u001b[0m\u001b[0m\n\u001b[0;32m    609\u001b[0m \u001b[1;33m\u001b[0m\u001b[0m\n\u001b[1;32m--> 610\u001b[1;33m     \u001b[1;32mreturn\u001b[0m \u001b[0m_read\u001b[0m\u001b[1;33m(\u001b[0m\u001b[0mfilepath_or_buffer\u001b[0m\u001b[1;33m,\u001b[0m \u001b[0mkwds\u001b[0m\u001b[1;33m)\u001b[0m\u001b[1;33m\u001b[0m\u001b[1;33m\u001b[0m\u001b[0m\n\u001b[0m\u001b[0;32m    611\u001b[0m \u001b[1;33m\u001b[0m\u001b[0m\n\u001b[0;32m    612\u001b[0m \u001b[1;33m\u001b[0m\u001b[0m\n",
      "\u001b[1;32mC:\\ProgramData\\Anaconda3\\lib\\site-packages\\pandas\\io\\parsers.py\u001b[0m in \u001b[0;36m_read\u001b[1;34m(filepath_or_buffer, kwds)\u001b[0m\n\u001b[0;32m    466\u001b[0m \u001b[1;33m\u001b[0m\u001b[0m\n\u001b[0;32m    467\u001b[0m     \u001b[1;32mwith\u001b[0m \u001b[0mparser\u001b[0m\u001b[1;33m:\u001b[0m\u001b[1;33m\u001b[0m\u001b[1;33m\u001b[0m\u001b[0m\n\u001b[1;32m--> 468\u001b[1;33m         \u001b[1;32mreturn\u001b[0m \u001b[0mparser\u001b[0m\u001b[1;33m.\u001b[0m\u001b[0mread\u001b[0m\u001b[1;33m(\u001b[0m\u001b[0mnrows\u001b[0m\u001b[1;33m)\u001b[0m\u001b[1;33m\u001b[0m\u001b[1;33m\u001b[0m\u001b[0m\n\u001b[0m\u001b[0;32m    469\u001b[0m \u001b[1;33m\u001b[0m\u001b[0m\n\u001b[0;32m    470\u001b[0m \u001b[1;33m\u001b[0m\u001b[0m\n",
      "\u001b[1;32mC:\\ProgramData\\Anaconda3\\lib\\site-packages\\pandas\\io\\parsers.py\u001b[0m in \u001b[0;36mread\u001b[1;34m(self, nrows)\u001b[0m\n\u001b[0;32m   1055\u001b[0m     \u001b[1;32mdef\u001b[0m \u001b[0mread\u001b[0m\u001b[1;33m(\u001b[0m\u001b[0mself\u001b[0m\u001b[1;33m,\u001b[0m \u001b[0mnrows\u001b[0m\u001b[1;33m=\u001b[0m\u001b[1;32mNone\u001b[0m\u001b[1;33m)\u001b[0m\u001b[1;33m:\u001b[0m\u001b[1;33m\u001b[0m\u001b[1;33m\u001b[0m\u001b[0m\n\u001b[0;32m   1056\u001b[0m         \u001b[0mnrows\u001b[0m \u001b[1;33m=\u001b[0m \u001b[0mvalidate_integer\u001b[0m\u001b[1;33m(\u001b[0m\u001b[1;34m\"nrows\"\u001b[0m\u001b[1;33m,\u001b[0m \u001b[0mnrows\u001b[0m\u001b[1;33m)\u001b[0m\u001b[1;33m\u001b[0m\u001b[1;33m\u001b[0m\u001b[0m\n\u001b[1;32m-> 1057\u001b[1;33m         \u001b[0mindex\u001b[0m\u001b[1;33m,\u001b[0m \u001b[0mcolumns\u001b[0m\u001b[1;33m,\u001b[0m \u001b[0mcol_dict\u001b[0m \u001b[1;33m=\u001b[0m \u001b[0mself\u001b[0m\u001b[1;33m.\u001b[0m\u001b[0m_engine\u001b[0m\u001b[1;33m.\u001b[0m\u001b[0mread\u001b[0m\u001b[1;33m(\u001b[0m\u001b[0mnrows\u001b[0m\u001b[1;33m)\u001b[0m\u001b[1;33m\u001b[0m\u001b[1;33m\u001b[0m\u001b[0m\n\u001b[0m\u001b[0;32m   1058\u001b[0m \u001b[1;33m\u001b[0m\u001b[0m\n\u001b[0;32m   1059\u001b[0m         \u001b[1;32mif\u001b[0m \u001b[0mindex\u001b[0m \u001b[1;32mis\u001b[0m \u001b[1;32mNone\u001b[0m\u001b[1;33m:\u001b[0m\u001b[1;33m\u001b[0m\u001b[1;33m\u001b[0m\u001b[0m\n",
      "\u001b[1;32mC:\\ProgramData\\Anaconda3\\lib\\site-packages\\pandas\\io\\parsers.py\u001b[0m in \u001b[0;36mread\u001b[1;34m(self, nrows)\u001b[0m\n\u001b[0;32m   2059\u001b[0m     \u001b[1;32mdef\u001b[0m \u001b[0mread\u001b[0m\u001b[1;33m(\u001b[0m\u001b[0mself\u001b[0m\u001b[1;33m,\u001b[0m \u001b[0mnrows\u001b[0m\u001b[1;33m=\u001b[0m\u001b[1;32mNone\u001b[0m\u001b[1;33m)\u001b[0m\u001b[1;33m:\u001b[0m\u001b[1;33m\u001b[0m\u001b[1;33m\u001b[0m\u001b[0m\n\u001b[0;32m   2060\u001b[0m         \u001b[1;32mtry\u001b[0m\u001b[1;33m:\u001b[0m\u001b[1;33m\u001b[0m\u001b[1;33m\u001b[0m\u001b[0m\n\u001b[1;32m-> 2061\u001b[1;33m             \u001b[0mdata\u001b[0m \u001b[1;33m=\u001b[0m \u001b[0mself\u001b[0m\u001b[1;33m.\u001b[0m\u001b[0m_reader\u001b[0m\u001b[1;33m.\u001b[0m\u001b[0mread\u001b[0m\u001b[1;33m(\u001b[0m\u001b[0mnrows\u001b[0m\u001b[1;33m)\u001b[0m\u001b[1;33m\u001b[0m\u001b[1;33m\u001b[0m\u001b[0m\n\u001b[0m\u001b[0;32m   2062\u001b[0m         \u001b[1;32mexcept\u001b[0m \u001b[0mStopIteration\u001b[0m\u001b[1;33m:\u001b[0m\u001b[1;33m\u001b[0m\u001b[1;33m\u001b[0m\u001b[0m\n\u001b[0;32m   2063\u001b[0m             \u001b[1;32mif\u001b[0m \u001b[0mself\u001b[0m\u001b[1;33m.\u001b[0m\u001b[0m_first_chunk\u001b[0m\u001b[1;33m:\u001b[0m\u001b[1;33m\u001b[0m\u001b[1;33m\u001b[0m\u001b[0m\n",
      "\u001b[1;32mpandas\\_libs\\parsers.pyx\u001b[0m in \u001b[0;36mpandas._libs.parsers.TextReader.read\u001b[1;34m()\u001b[0m\n",
      "\u001b[1;32mpandas\\_libs\\parsers.pyx\u001b[0m in \u001b[0;36mpandas._libs.parsers.TextReader._read_low_memory\u001b[1;34m()\u001b[0m\n",
      "\u001b[1;32mpandas\\_libs\\parsers.pyx\u001b[0m in \u001b[0;36mpandas._libs.parsers.TextReader._read_rows\u001b[1;34m()\u001b[0m\n",
      "\u001b[1;32mpandas\\_libs\\parsers.pyx\u001b[0m in \u001b[0;36mpandas._libs.parsers.TextReader._tokenize_rows\u001b[1;34m()\u001b[0m\n",
      "\u001b[1;32mpandas\\_libs\\parsers.pyx\u001b[0m in \u001b[0;36mpandas._libs.parsers.raise_parser_error\u001b[1;34m()\u001b[0m\n",
      "\u001b[1;31mParserError\u001b[0m: Error tokenizing data. C error: Calling read(nbytes) on source failed. Try engine='python'."
     ]
    }
   ],
   "source": [
    "df = pd.read_csv('lenta-ru-news.csv')"
   ]
  },
  {
   "cell_type": "code",
   "execution_count": 3,
   "id": "77446c14",
   "metadata": {},
   "outputs": [
    {
     "data": {
      "text/html": [
       "<div>\n",
       "<style scoped>\n",
       "    .dataframe tbody tr th:only-of-type {\n",
       "        vertical-align: middle;\n",
       "    }\n",
       "\n",
       "    .dataframe tbody tr th {\n",
       "        vertical-align: top;\n",
       "    }\n",
       "\n",
       "    .dataframe thead th {\n",
       "        text-align: right;\n",
       "    }\n",
       "</style>\n",
       "<table border=\"1\" class=\"dataframe\">\n",
       "  <thead>\n",
       "    <tr style=\"text-align: right;\">\n",
       "      <th></th>\n",
       "      <th>url</th>\n",
       "      <th>title</th>\n",
       "      <th>text</th>\n",
       "      <th>topic</th>\n",
       "      <th>tags</th>\n",
       "    </tr>\n",
       "  </thead>\n",
       "  <tbody>\n",
       "    <tr>\n",
       "      <th>0</th>\n",
       "      <td>https://lenta.ru/news/2018/12/14/cancer/</td>\n",
       "      <td>Названы регионы России с самой высокой смертно...</td>\n",
       "      <td>Вице-премьер по социальным вопросам Татьяна Го...</td>\n",
       "      <td>Россия</td>\n",
       "      <td>Общество</td>\n",
       "    </tr>\n",
       "    <tr>\n",
       "      <th>1</th>\n",
       "      <td>https://lenta.ru/news/2018/12/15/doping/</td>\n",
       "      <td>Австрия не представила доказательств вины росс...</td>\n",
       "      <td>Австрийские правоохранительные органы не предс...</td>\n",
       "      <td>Спорт</td>\n",
       "      <td>Зимние виды</td>\n",
       "    </tr>\n",
       "    <tr>\n",
       "      <th>2</th>\n",
       "      <td>https://lenta.ru/news/2018/12/15/disneyland/</td>\n",
       "      <td>Обнаружено самое счастливое место на планете</td>\n",
       "      <td>Сотрудники социальной сети Instagram проанализ...</td>\n",
       "      <td>Путешествия</td>\n",
       "      <td>Мир</td>\n",
       "    </tr>\n",
       "    <tr>\n",
       "      <th>3</th>\n",
       "      <td>https://lenta.ru/news/2018/12/15/usa25/</td>\n",
       "      <td>В США раскрыли сумму расходов на расследование...</td>\n",
       "      <td>С начала расследования российского вмешательст...</td>\n",
       "      <td>Мир</td>\n",
       "      <td>Политика</td>\n",
       "    </tr>\n",
       "    <tr>\n",
       "      <th>4</th>\n",
       "      <td>https://lenta.ru/news/2018/12/15/integrity/</td>\n",
       "      <td>Хакеры рассказали о планах Великобритании зами...</td>\n",
       "      <td>Хакерская группировка Anonymous опубликовала н...</td>\n",
       "      <td>Мир</td>\n",
       "      <td>Общество</td>\n",
       "    </tr>\n",
       "  </tbody>\n",
       "</table>\n",
       "</div>"
      ],
      "text/plain": [
       "                                            url  \\\n",
       "0      https://lenta.ru/news/2018/12/14/cancer/   \n",
       "1      https://lenta.ru/news/2018/12/15/doping/   \n",
       "2  https://lenta.ru/news/2018/12/15/disneyland/   \n",
       "3       https://lenta.ru/news/2018/12/15/usa25/   \n",
       "4   https://lenta.ru/news/2018/12/15/integrity/   \n",
       "\n",
       "                                               title  \\\n",
       "0  Названы регионы России с самой высокой смертно...   \n",
       "1  Австрия не представила доказательств вины росс...   \n",
       "2       Обнаружено самое счастливое место на планете   \n",
       "3  В США раскрыли сумму расходов на расследование...   \n",
       "4  Хакеры рассказали о планах Великобритании зами...   \n",
       "\n",
       "                                                text        topic         tags  \n",
       "0  Вице-премьер по социальным вопросам Татьяна Го...       Россия     Общество  \n",
       "1  Австрийские правоохранительные органы не предс...        Спорт  Зимние виды  \n",
       "2  Сотрудники социальной сети Instagram проанализ...  Путешествия          Мир  \n",
       "3  С начала расследования российского вмешательст...          Мир     Политика  \n",
       "4  Хакерская группировка Anonymous опубликовала н...          Мир     Общество  "
      ]
     },
     "execution_count": 3,
     "metadata": {},
     "output_type": "execute_result"
    }
   ],
   "source": [
    "df.head()"
   ]
  },
  {
   "cell_type": "code",
   "execution_count": 4,
   "id": "7428280d",
   "metadata": {},
   "outputs": [
    {
     "data": {
      "text/plain": [
       "0              Россия\n",
       "1               Спорт\n",
       "2         Путешествия\n",
       "3                 Мир\n",
       "4                 Мир\n",
       "             ...     \n",
       "739346         Россия\n",
       "739347         Россия\n",
       "739348         Россия\n",
       "739349         Россия\n",
       "739350         Россия\n",
       "Name: topic, Length: 739351, dtype: object"
      ]
     },
     "execution_count": 4,
     "metadata": {},
     "output_type": "execute_result"
    }
   ],
   "source": [
    "df.topic"
   ]
  },
  {
   "cell_type": "code",
   "execution_count": 19,
   "id": "c5852178",
   "metadata": {},
   "outputs": [
    {
     "data": {
      "text/html": [
       "<div>\n",
       "<style scoped>\n",
       "    .dataframe tbody tr th:only-of-type {\n",
       "        vertical-align: middle;\n",
       "    }\n",
       "\n",
       "    .dataframe tbody tr th {\n",
       "        vertical-align: top;\n",
       "    }\n",
       "\n",
       "    .dataframe thead th {\n",
       "        text-align: right;\n",
       "    }\n",
       "</style>\n",
       "<table border=\"1\" class=\"dataframe\">\n",
       "  <thead>\n",
       "    <tr style=\"text-align: right;\">\n",
       "      <th></th>\n",
       "      <th>title</th>\n",
       "      <th>text</th>\n",
       "      <th>topic</th>\n",
       "    </tr>\n",
       "  </thead>\n",
       "  <tbody>\n",
       "    <tr>\n",
       "      <th>0</th>\n",
       "      <td>Названы регионы России с самой высокой смертно...</td>\n",
       "      <td>Вице-премьер по социальным вопросам Татьяна Го...</td>\n",
       "      <td>Россия</td>\n",
       "    </tr>\n",
       "    <tr>\n",
       "      <th>1</th>\n",
       "      <td>Австрия не представила доказательств вины росс...</td>\n",
       "      <td>Австрийские правоохранительные органы не предс...</td>\n",
       "      <td>Спорт</td>\n",
       "    </tr>\n",
       "    <tr>\n",
       "      <th>2</th>\n",
       "      <td>Обнаружено самое счастливое место на планете</td>\n",
       "      <td>Сотрудники социальной сети Instagram проанализ...</td>\n",
       "      <td>Путешествия</td>\n",
       "    </tr>\n",
       "    <tr>\n",
       "      <th>3</th>\n",
       "      <td>В США раскрыли сумму расходов на расследование...</td>\n",
       "      <td>С начала расследования российского вмешательст...</td>\n",
       "      <td>Мир</td>\n",
       "    </tr>\n",
       "    <tr>\n",
       "      <th>4</th>\n",
       "      <td>Хакеры рассказали о планах Великобритании зами...</td>\n",
       "      <td>Хакерская группировка Anonymous опубликовала н...</td>\n",
       "      <td>Мир</td>\n",
       "    </tr>\n",
       "  </tbody>\n",
       "</table>\n",
       "</div>"
      ],
      "text/plain": [
       "                                               title  \\\n",
       "0  Названы регионы России с самой высокой смертно...   \n",
       "1  Австрия не представила доказательств вины росс...   \n",
       "2       Обнаружено самое счастливое место на планете   \n",
       "3  В США раскрыли сумму расходов на расследование...   \n",
       "4  Хакеры рассказали о планах Великобритании зами...   \n",
       "\n",
       "                                                text        topic  \n",
       "0  Вице-премьер по социальным вопросам Татьяна Го...       Россия  \n",
       "1  Австрийские правоохранительные органы не предс...        Спорт  \n",
       "2  Сотрудники социальной сети Instagram проанализ...  Путешествия  \n",
       "3  С начала расследования российского вмешательст...          Мир  \n",
       "4  Хакерская группировка Anonymous опубликовала н...          Мир  "
      ]
     },
     "execution_count": 19,
     "metadata": {},
     "output_type": "execute_result"
    }
   ],
   "source": [
    "df.drop(['url', 'tags'], axis = 1, inplace = True)\n",
    "df.head()"
   ]
  },
  {
   "cell_type": "code",
   "execution_count": null,
   "id": "8d8e952d",
   "metadata": {},
   "outputs": [],
   "source": [
    "df = df[(df.topic != 'Оружие') & (df.topic != 'ЧМ-2014') & (df.topic != 'МедНовости') & (df.topic != 'Сочи') & \\\n",
    "        (df.topic != 'Библиотека') & (df.topic != 'Легпром') & (df.topic != 'Культпросвет ')].reset_index(drop=True)"
   ]
  },
  {
   "cell_type": "code",
   "execution_count": 7,
   "id": "d81298fb",
   "metadata": {},
   "outputs": [
    {
     "data": {
      "text/plain": [
       "Россия               160519\n",
       "Мир                  136680\n",
       "Экономика             79538\n",
       "Спорт                 64421\n",
       "Культура              53803\n",
       "Бывший СССР           53402\n",
       "Наука и техника       53136\n",
       "Интернет и СМИ        44675\n",
       "Из жизни              27611\n",
       "Дом                   21734\n",
       "Силовые структуры     19596\n",
       "Ценности               7766\n",
       "Бизнес                 7399\n",
       "Путешествия            6408\n",
       "69-я параллель         1268\n",
       "Крым                    666\n",
       "Name: topic, dtype: int64"
      ]
     },
     "execution_count": 7,
     "metadata": {},
     "output_type": "execute_result"
    }
   ],
   "source": [
    "df.topic.value_counts()"
   ]
  },
  {
   "cell_type": "code",
   "execution_count": 21,
   "id": "ec62d73d",
   "metadata": {},
   "outputs": [
    {
     "data": {
      "text/plain": [
       "194"
      ]
     },
     "execution_count": 21,
     "metadata": {},
     "output_type": "execute_result"
    }
   ],
   "source": [
    "df.duplicated(subset=['title','text']).sum()"
   ]
  },
  {
   "cell_type": "code",
   "execution_count": 22,
   "id": "9e660ce1",
   "metadata": {},
   "outputs": [
    {
     "name": "stdout",
     "output_type": "stream",
     "text": [
      "0\n"
     ]
    }
   ],
   "source": [
    "print(len(df[df['title'] == \"\"]))"
   ]
  },
  {
   "cell_type": "code",
   "execution_count": 23,
   "id": "6bf41b8a",
   "metadata": {},
   "outputs": [
    {
     "name": "stdout",
     "output_type": "stream",
     "text": [
      "0\n"
     ]
    }
   ],
   "source": [
    "print(len(df[df['text'] == \"\"]))"
   ]
  },
  {
   "cell_type": "code",
   "execution_count": 24,
   "id": "60e24f7f",
   "metadata": {},
   "outputs": [
    {
     "name": "stdout",
     "output_type": "stream",
     "text": [
      "0\n"
     ]
    }
   ],
   "source": [
    "print(len(df[df['topic'] == \"\"]))"
   ]
  },
  {
   "cell_type": "code",
   "execution_count": 25,
   "id": "98a7d061",
   "metadata": {},
   "outputs": [],
   "source": [
    "df.drop_duplicates(subset=['title','text'],keep='last',inplace=True)"
   ]
  },
  {
   "cell_type": "code",
   "execution_count": 26,
   "id": "fc32fa2a",
   "metadata": {},
   "outputs": [
    {
     "data": {
      "text/plain": [
       "0"
      ]
     },
     "execution_count": 26,
     "metadata": {},
     "output_type": "execute_result"
    }
   ],
   "source": [
    "df.duplicated(subset=['title','text']).sum()"
   ]
  },
  {
   "cell_type": "code",
   "execution_count": 27,
   "id": "72b5b8a5",
   "metadata": {},
   "outputs": [
    {
     "name": "stdout",
     "output_type": "stream",
     "text": [
      "0\n"
     ]
    }
   ],
   "source": [
    "print(len(df[df['topic'] == np.nan]))"
   ]
  },
  {
   "cell_type": "code",
   "execution_count": 28,
   "id": "7b02e586",
   "metadata": {},
   "outputs": [
    {
     "name": "stdout",
     "output_type": "stream",
     "text": [
      "0\n"
     ]
    }
   ],
   "source": [
    "print(len(df[df['text'] == np.nan]))"
   ]
  },
  {
   "cell_type": "code",
   "execution_count": 29,
   "id": "0430b085",
   "metadata": {},
   "outputs": [
    {
     "name": "stdout",
     "output_type": "stream",
     "text": [
      "0\n"
     ]
    }
   ],
   "source": [
    "print(len(df[df['title'] == np.nan]))"
   ]
  },
  {
   "cell_type": "code",
   "execution_count": 30,
   "id": "e5612b0c",
   "metadata": {},
   "outputs": [
    {
     "data": {
      "text/html": [
       "<div>\n",
       "<style scoped>\n",
       "    .dataframe tbody tr th:only-of-type {\n",
       "        vertical-align: middle;\n",
       "    }\n",
       "\n",
       "    .dataframe tbody tr th {\n",
       "        vertical-align: top;\n",
       "    }\n",
       "\n",
       "    .dataframe thead th {\n",
       "        text-align: right;\n",
       "    }\n",
       "</style>\n",
       "<table border=\"1\" class=\"dataframe\">\n",
       "  <thead>\n",
       "    <tr style=\"text-align: right;\">\n",
       "      <th></th>\n",
       "      <th>text</th>\n",
       "      <th>topic</th>\n",
       "    </tr>\n",
       "  </thead>\n",
       "  <tbody>\n",
       "    <tr>\n",
       "      <th>3530</th>\n",
       "      <td>В учебном центре врачебной практики Praxi Medi...</td>\n",
       "      <td>NaN</td>\n",
       "    </tr>\n",
       "    <tr>\n",
       "      <th>8736</th>\n",
       "      <td>Организаторы выставки «ИгроМир» и фестиваля Co...</td>\n",
       "      <td>NaN</td>\n",
       "    </tr>\n",
       "    <tr>\n",
       "      <th>9956</th>\n",
       "      <td>Российская студия разработчиков Enplex Games р...</td>\n",
       "      <td>NaN</td>\n",
       "    </tr>\n",
       "    <tr>\n",
       "      <th>10308</th>\n",
       "      <td>Современный рынок товаров и услуг настолько ра...</td>\n",
       "      <td>NaN</td>\n",
       "    </tr>\n",
       "    <tr>\n",
       "      <th>16333</th>\n",
       "      <td>Оргкомитет Восточного экономического форума на...</td>\n",
       "      <td>NaN</td>\n",
       "    </tr>\n",
       "    <tr>\n",
       "      <th>...</th>\n",
       "      <td>...</td>\n",
       "      <td>...</td>\n",
       "    </tr>\n",
       "    <tr>\n",
       "      <th>624259</th>\n",
       "      <td>Министр финансов Люксембурга Жан-Клод Джанкер ...</td>\n",
       "      <td>NaN</td>\n",
       "    </tr>\n",
       "    <tr>\n",
       "      <th>624671</th>\n",
       "      <td>Председатель комитета Госдумы по аграрным вопр...</td>\n",
       "      <td>NaN</td>\n",
       "    </tr>\n",
       "    <tr>\n",
       "      <th>625428</th>\n",
       "      <td>23 февраля в Москве прошли праздничные митинги...</td>\n",
       "      <td>NaN</td>\n",
       "    </tr>\n",
       "    <tr>\n",
       "      <th>625793</th>\n",
       "      <td>Во Франции опубликован словарь из 3 тысяч бюро...</td>\n",
       "      <td>NaN</td>\n",
       "    </tr>\n",
       "    <tr>\n",
       "      <th>625837</th>\n",
       "      <td>Президент РФ Владимир Путин подписал указы о п...</td>\n",
       "      <td>NaN</td>\n",
       "    </tr>\n",
       "  </tbody>\n",
       "</table>\n",
       "<p>208 rows × 2 columns</p>\n",
       "</div>"
      ],
      "text/plain": [
       "                                                     text topic\n",
       "3530    В учебном центре врачебной практики Praxi Medi...   NaN\n",
       "8736    Организаторы выставки «ИгроМир» и фестиваля Co...   NaN\n",
       "9956    Российская студия разработчиков Enplex Games р...   NaN\n",
       "10308   Современный рынок товаров и услуг настолько ра...   NaN\n",
       "16333   Оргкомитет Восточного экономического форума на...   NaN\n",
       "...                                                   ...   ...\n",
       "624259  Министр финансов Люксембурга Жан-Клод Джанкер ...   NaN\n",
       "624671  Председатель комитета Госдумы по аграрным вопр...   NaN\n",
       "625428  23 февраля в Москве прошли праздничные митинги...   NaN\n",
       "625793  Во Франции опубликован словарь из 3 тысяч бюро...   NaN\n",
       "625837  Президент РФ Владимир Путин подписал указы о п...   NaN\n",
       "\n",
       "[208 rows x 2 columns]"
      ]
     },
     "execution_count": 30,
     "metadata": {},
     "output_type": "execute_result"
    }
   ],
   "source": [
    "row_mask=df.isnull().any(axis=1)\n",
    "col_mask=df.isnull().any(axis=0)\n",
    "df.loc[row_mask,col_mask]"
   ]
  },
  {
   "cell_type": "code",
   "execution_count": 31,
   "id": "7fdbfed6",
   "metadata": {},
   "outputs": [],
   "source": [
    "df = df.drop(index=df.loc[row_mask,col_mask].index)"
   ]
  },
  {
   "cell_type": "code",
   "execution_count": 32,
   "id": "8ea4f5fc",
   "metadata": {},
   "outputs": [
    {
     "data": {
      "text/html": [
       "<div>\n",
       "<style scoped>\n",
       "    .dataframe tbody tr th:only-of-type {\n",
       "        vertical-align: middle;\n",
       "    }\n",
       "\n",
       "    .dataframe tbody tr th {\n",
       "        vertical-align: top;\n",
       "    }\n",
       "\n",
       "    .dataframe thead th {\n",
       "        text-align: right;\n",
       "    }\n",
       "</style>\n",
       "<table border=\"1\" class=\"dataframe\">\n",
       "  <thead>\n",
       "    <tr style=\"text-align: right;\">\n",
       "      <th></th>\n",
       "    </tr>\n",
       "  </thead>\n",
       "  <tbody>\n",
       "  </tbody>\n",
       "</table>\n",
       "</div>"
      ],
      "text/plain": [
       "Empty DataFrame\n",
       "Columns: []\n",
       "Index: []"
      ]
     },
     "execution_count": 32,
     "metadata": {},
     "output_type": "execute_result"
    }
   ],
   "source": [
    "row_mask=df.isnull().any(axis=1)\n",
    "col_mask=df.isnull().any(axis=0)\n",
    "df.loc[row_mask,col_mask]"
   ]
  },
  {
   "cell_type": "code",
   "execution_count": 33,
   "id": "6ab87b4f",
   "metadata": {},
   "outputs": [
    {
     "data": {
      "image/png": "[encoded data removed]",
      "text/plain": [
       "<Figure size 1440x720 with 1 Axes>"
      ]
     },
     "metadata": {
      "needs_background": "light"
     },
     "output_type": "display_data"
    }
   ],
   "source": [
    "plt.figure(figsize=(20,10))\n",
    "count = df.topic.value_counts()\n",
    "sns.barplot(x=count.index, y=count)\n",
    "plt.xlabel('Category')\n",
    "plt.ylabel('Count')\n",
    "plt.xticks(rotation=90);"
   ]
  },
  {
   "cell_type": "code",
   "execution_count": 35,
   "id": "31b2a2fa",
   "metadata": {},
   "outputs": [
    {
     "data": {
      "text/plain": [
       "132"
      ]
     },
     "execution_count": 35,
     "metadata": {},
     "output_type": "execute_result"
    }
   ],
   "source": [
    "df['title'].astype(str).apply(len).max()"
   ]
  },
  {
   "cell_type": "code",
   "execution_count": 36,
   "id": "d5fc2dc5",
   "metadata": {},
   "outputs": [
    {
     "data": {
      "text/plain": [
       "9"
      ]
     },
     "execution_count": 36,
     "metadata": {},
     "output_type": "execute_result"
    }
   ],
   "source": [
    "df['title'].astype(str).apply(len).min()"
   ]
  },
  {
   "cell_type": "code",
   "execution_count": 37,
   "id": "c88ec681",
   "metadata": {},
   "outputs": [
    {
     "data": {
      "text/plain": [
       "55387"
      ]
     },
     "execution_count": 37,
     "metadata": {},
     "output_type": "execute_result"
    }
   ],
   "source": [
    "df['text'].astype(str).apply(len).max()"
   ]
  },
  {
   "cell_type": "code",
   "execution_count": 38,
   "id": "2a2d2a74",
   "metadata": {},
   "outputs": [
    {
     "data": {
      "text/plain": [
       "3"
      ]
     },
     "execution_count": 38,
     "metadata": {},
     "output_type": "execute_result"
    }
   ],
   "source": [
    "df['text'].astype(str).apply(len).min()"
   ]
  },
  {
   "cell_type": "code",
   "execution_count": 39,
   "id": "5605dda8",
   "metadata": {},
   "outputs": [],
   "source": [
    "df = df[(df['text'].astype(str).apply(len) < 5000) &  (df['text'].astype(str).apply(len) > 1000)].reset_index(drop=True)"
   ]
  },
  {
   "cell_type": "code",
   "execution_count": 40,
   "id": "25ea8fd4",
   "metadata": {},
   "outputs": [
    {
     "data": {
      "text/html": [
       "<div>\n",
       "<style scoped>\n",
       "    .dataframe tbody tr th:only-of-type {\n",
       "        vertical-align: middle;\n",
       "    }\n",
       "\n",
       "    .dataframe tbody tr th {\n",
       "        vertical-align: top;\n",
       "    }\n",
       "\n",
       "    .dataframe thead th {\n",
       "        text-align: right;\n",
       "    }\n",
       "</style>\n",
       "<table border=\"1\" class=\"dataframe\">\n",
       "  <thead>\n",
       "    <tr style=\"text-align: right;\">\n",
       "      <th></th>\n",
       "      <th>title</th>\n",
       "      <th>text</th>\n",
       "      <th>topic</th>\n",
       "    </tr>\n",
       "  </thead>\n",
       "  <tbody>\n",
       "    <tr>\n",
       "      <th>0</th>\n",
       "      <td>Австрия не представила доказательств вины росс...</td>\n",
       "      <td>Австрийские правоохранительные органы не предс...</td>\n",
       "      <td>Спорт</td>\n",
       "    </tr>\n",
       "    <tr>\n",
       "      <th>1</th>\n",
       "      <td>В США раскрыли сумму расходов на расследование...</td>\n",
       "      <td>С начала расследования российского вмешательст...</td>\n",
       "      <td>Мир</td>\n",
       "    </tr>\n",
       "    <tr>\n",
       "      <th>2</th>\n",
       "      <td>Хакеры рассказали о планах Великобритании зами...</td>\n",
       "      <td>Хакерская группировка Anonymous опубликовала н...</td>\n",
       "      <td>Мир</td>\n",
       "    </tr>\n",
       "    <tr>\n",
       "      <th>3</th>\n",
       "      <td>Архиепископ канонической УПЦ отказался прийти ...</td>\n",
       "      <td>Архиепископ канонической Украинской православн...</td>\n",
       "      <td>Бывший СССР</td>\n",
       "    </tr>\n",
       "    <tr>\n",
       "      <th>4</th>\n",
       "      <td>Российскую молодежь предложили обучать духовны...</td>\n",
       "      <td>Российская молодежь лучше усвоит духовные ценн...</td>\n",
       "      <td>Интернет и СМИ</td>\n",
       "    </tr>\n",
       "  </tbody>\n",
       "</table>\n",
       "</div>"
      ],
      "text/plain": [
       "                                               title  \\\n",
       "0  Австрия не представила доказательств вины росс...   \n",
       "1  В США раскрыли сумму расходов на расследование...   \n",
       "2  Хакеры рассказали о планах Великобритании зами...   \n",
       "3  Архиепископ канонической УПЦ отказался прийти ...   \n",
       "4  Российскую молодежь предложили обучать духовны...   \n",
       "\n",
       "                                                text           topic  \n",
       "0  Австрийские правоохранительные органы не предс...           Спорт  \n",
       "1  С начала расследования российского вмешательст...             Мир  \n",
       "2  Хакерская группировка Anonymous опубликовала н...             Мир  \n",
       "3  Архиепископ канонической Украинской православн...     Бывший СССР  \n",
       "4  Российская молодежь лучше усвоит духовные ценн...  Интернет и СМИ  "
      ]
     },
     "execution_count": 40,
     "metadata": {},
     "output_type": "execute_result"
    }
   ],
   "source": [
    "df.head()"
   ]
  },
  {
   "cell_type": "code",
   "execution_count": 41,
   "id": "70e01325",
   "metadata": {},
   "outputs": [],
   "source": [
    "df_mini = df[df.topic != 'Россия'].append(df[df.topic == 'Россия'].head(10000))"
   ]
  },
  {
   "cell_type": "code",
   "execution_count": 42,
   "id": "339edb6e",
   "metadata": {},
   "outputs": [],
   "source": [
    "df_mini = df_mini[df_mini.topic != 'Мир'].append(df_mini[df_mini.topic == 'Мир'].head(10000))"
   ]
  },
  {
   "cell_type": "code",
   "execution_count": 43,
   "id": "ce15c2d1",
   "metadata": {},
   "outputs": [],
   "source": [
    "df_mini = df_mini[df_mini.topic != 'Экономика'].append(df_mini[df_mini.topic == 'Экономика'].head(10000))"
   ]
  },
  {
   "cell_type": "code",
   "execution_count": 44,
   "id": "27c0ac6b",
   "metadata": {},
   "outputs": [],
   "source": [
    "df_mini = df_mini[df_mini.topic != 'Спорт'].append(df_mini[df_mini.topic == 'Спорт'].head(10000))"
   ]
  },
  {
   "cell_type": "code",
   "execution_count": 45,
   "id": "dcf02014",
   "metadata": {},
   "outputs": [],
   "source": [
    "df_mini = df_mini[df_mini.topic != 'Культура'].append(df_mini[df_mini.topic == 'Культура'].head(10000))"
   ]
  },
  {
   "cell_type": "code",
   "execution_count": 46,
   "id": "4cf4ad5a",
   "metadata": {},
   "outputs": [],
   "source": [
    "df_mini = df_mini[df_mini.topic != 'Бывший СССР'].append(df_mini[df_mini.topic == 'Бывший СССР'].head(10000))"
   ]
  },
  {
   "cell_type": "code",
   "execution_count": 47,
   "id": "510af88f",
   "metadata": {},
   "outputs": [],
   "source": [
    "df_mini = df_mini[df_mini.topic != 'Наука и техника'].append(df_mini[df_mini.topic == 'Наука и техника'].head(10000))"
   ]
  },
  {
   "cell_type": "code",
   "execution_count": 48,
   "id": "35aa062b",
   "metadata": {},
   "outputs": [],
   "source": [
    "df_mini = df_mini[df_mini.topic != 'Интернет и СМИ'].append(df_mini[df_mini.topic == 'Интернет и СМИ'].head(10000))"
   ]
  },
  {
   "cell_type": "code",
   "execution_count": 49,
   "id": "3f5dc63c",
   "metadata": {},
   "outputs": [],
   "source": [
    "df_mini = df_mini[df_mini.topic != 'Из жизни'].append(df_mini[df_mini.topic == 'Из жизни'].head(10000))"
   ]
  },
  {
   "cell_type": "code",
   "execution_count": 50,
   "id": "b61d8c0b",
   "metadata": {},
   "outputs": [],
   "source": [
    "df_mini = df_mini[df_mini.topic != 'Дом'].append(df_mini[df_mini.topic == 'Дом'].head(10000))"
   ]
  },
  {
   "cell_type": "code",
   "execution_count": 51,
   "id": "c8a54465",
   "metadata": {},
   "outputs": [],
   "source": [
    "df_mini = df_mini[df_mini.topic != 'Силовые структуры'].append(df_mini[df_mini.topic == 'Силовые структуры'].head(10000)).reset_index(drop=True)"
   ]
  },
  {
   "cell_type": "code",
   "execution_count": 38,
   "id": "def44a42",
   "metadata": {},
   "outputs": [
    {
     "data": {
      "image/png": "[encoded data removed]",
      "text/plain": [
       "<Figure size 1440x720 with 1 Axes>"
      ]
     },
     "metadata": {
      "needs_background": "light"
     },
     "output_type": "display_data"
    }
   ],
   "source": [
    "plt.figure(figsize=(20,10))\n",
    "count = df_mini.topic.value_counts()\n",
    "sns.barplot(x=count.index, y=count)\n",
    "plt.xlabel('Category')\n",
    "plt.ylabel('Count')\n",
    "plt.xticks(rotation=90);"
   ]
  },
  {
   "cell_type": "code",
   "execution_count": 39,
   "id": "46bed6c0",
   "metadata": {},
   "outputs": [
    {
     "data": {
      "text/plain": [
       "98"
      ]
     },
     "execution_count": 39,
     "metadata": {},
     "output_type": "execute_result"
    }
   ],
   "source": [
    "df_mini['title'].astype(str).apply(len).max()"
   ]
  },
  {
   "cell_type": "code",
   "execution_count": 40,
   "id": "e5ae93ed",
   "metadata": {},
   "outputs": [
    {
     "data": {
      "text/plain": [
       "1001"
      ]
     },
     "execution_count": 40,
     "metadata": {},
     "output_type": "execute_result"
    }
   ],
   "source": [
    "df_mini['text'].astype(str).apply(len).min()"
   ]
  },
  {
   "cell_type": "code",
   "execution_count": 41,
   "id": "87dbd352",
   "metadata": {},
   "outputs": [
    {
     "data": {
      "text/plain": [
       "<AxesSubplot:>"
      ]
     },
     "execution_count": 41,
     "metadata": {},
     "output_type": "execute_result"
    },
    {
     "data": {
      "image/png": "[encoded data removed]",
      "text/plain": [
       "<Figure size 432x288 with 1 Axes>"
      ]
     },
     "metadata": {
      "needs_background": "light"
     },
     "output_type": "display_data"
    }
   ],
   "source": [
    "df_mini['text'].astype(str).apply(len).plot()"
   ]
  },
  {
   "cell_type": "code",
   "execution_count": 52,
   "id": "8ef347b7",
   "metadata": {},
   "outputs": [],
   "source": [
    "df_mini['Text_cleaning'] = df_mini['title'].astype(str) + ' '+ df_mini['text'].astype(str)"
   ]
  },
  {
   "cell_type": "code",
   "execution_count": 53,
   "id": "b1038e7d",
   "metadata": {},
   "outputs": [
    {
     "data": {
      "text/plain": [
       "4988"
      ]
     },
     "execution_count": 53,
     "metadata": {},
     "output_type": "execute_result"
    }
   ],
   "source": [
    "df_mini['text'].astype(str).apply(len).max()"
   ]
  },
  {
   "cell_type": "code",
   "execution_count": 54,
   "id": "87bdf11a",
   "metadata": {},
   "outputs": [],
   "source": [
    "df_mini.drop(['title', 'text'], axis = 1, inplace = True)"
   ]
  },
  {
   "cell_type": "code",
   "execution_count": 55,
   "id": "e0eb27b2",
   "metadata": {},
   "outputs": [
    {
     "data": {
      "text/plain": [
       "(127696, 2)"
      ]
     },
     "execution_count": 55,
     "metadata": {},
     "output_type": "execute_result"
    }
   ],
   "source": [
    "df_mini.shape"
   ]
  },
  {
   "cell_type": "code",
   "execution_count": 64,
   "id": "4b7e8a13",
   "metadata": {},
   "outputs": [
    {
     "name": "stdout",
     "output_type": "stream",
     "text": [
      "Collecting pymorphy2Note: you may need to restart the kernel to use updated packages.\n",
      "\n",
      "  Downloading pymorphy2-0.9.1-py3-none-any.whl (55 kB)\n",
      "Collecting docopt>=0.6\n",
      "  Downloading docopt-0.6.2.tar.gz (25 kB)\n",
      "Collecting dawg-python>=0.7.1\n",
      "  Downloading DAWG_Python-0.7.2-py2.py3-none-any.whl (11 kB)\n",
      "Collecting pymorphy2-dicts-ru<3.0,>=2.4\n",
      "  Downloading pymorphy2_dicts_ru-2.4.417127.4579844-py2.py3-none-any.whl (8.2 MB)\n",
      "Building wheels for collected packages: docopt\n",
      "  Building wheel for docopt (setup.py): started\n",
      "  Building wheel for docopt (setup.py): finished with status 'done'\n",
      "  Created wheel for docopt: filename=docopt-0.6.2-py2.py3-none-any.whl size=13705 sha256=a6f394fecd070a498dce8969b76d338afbad74913c1d85da435053bf95341d16\n",
      "  Stored in directory: c:\\users\\владислав\\appdata\\local\\pip\\cache\\wheels\\56\\ea\\58\\ead137b087d9e326852a851351d1debf4ada529b6ac0ec4e8c\n",
      "Successfully built docopt\n",
      "Installing collected packages: pymorphy2-dicts-ru, docopt, dawg-python, pymorphy2\n",
      "Successfully installed dawg-python-0.7.2 docopt-0.6.2 pymorphy2-0.9.1 pymorphy2-dicts-ru-2.4.417127.4579844\n"
     ]
    }
   ],
   "source": [
    "pip install pymorphy2\n",
    "import pymorphy2\n",
    "morph = pymorphy2.MorphAnalyzer()\n"
   ]
  },
  {
   "cell_type": "code",
   "execution_count": 110,
   "id": "e3b5e5ba",
   "metadata": {},
   "outputs": [],
   "source": [
    "#sentence_example = df.iloc[113]['title']\n",
    "sentence_example = 'введение платы за углеродные выбросы'\n",
    "tokens = word_tokenize(sentence_example, language = 'russian')\n",
    "token_with_out_punctuation = [i for i in tokens if (i not in string.punctuation) & (i != '—') & (i != '»') & (i != '«')]\n",
    "russian_stopwords = stopwords.words('russian')\n",
    "token_with_out_punctuation_and_stopwords = [i.lower() for i in token_with_out_punctuation if i not in russian_stopwords ]\n",
    "lem_word = [ morph.parse(i)[0].normal_form for i in token_with_out_punctuation_and_stopwords]\n",
    "snowball_stem = SnowballStemmer(language = 'russian')\n",
    "stemmed_tokens = [snowball_stem.stem(i) for i in lem_word]"
   ]
  },
  {
   "cell_type": "code",
   "execution_count": 111,
   "id": "5dc5542c",
   "metadata": {},
   "outputs": [
    {
     "name": "stdout",
     "output_type": "stream",
     "text": [
      "введение платы за углеродные выбросы\n",
      "---------------------------------------------\n",
      "['введение', 'платы', 'за', 'углеродные', 'выбросы']\n",
      "---------------------------------------------\n",
      "['введение', 'платы', 'за', 'углеродные', 'выбросы']\n",
      "---------------------------------------------\n",
      "['введение', 'платы', 'углеродные', 'выбросы']\n",
      "---------------------------------------------\n",
      "['введение', 'плата', 'углеродный', 'выброс']\n",
      "---------------------------------------------\n",
      "['введен', 'плат', 'углеродн', 'выброс']\n"
     ]
    }
   ],
   "source": [
    "print(sentence_example)\n",
    "print('---------------------------------------------')\n",
    "print(tokens)\n",
    "print('---------------------------------------------')\n",
    "print(token_with_out_punctuation)\n",
    "print('---------------------------------------------')\n",
    "print(token_with_out_punctuation_and_stopwords)\n",
    "print('---------------------------------------------')\n",
    "print(lem_word)\n",
    "print('---------------------------------------------')\n",
    "print(stemmed_tokens)"
   ]
  },
  {
   "cell_type": "code",
   "execution_count": 74,
   "id": "0b44c9e5",
   "metadata": {},
   "outputs": [],
   "source": [
    "def clean_text(text):\n",
    "    tokens = word_tokenize(text.lower(), language = 'russian')\n",
    "    token_with_out_punctuation = [i for i in tokens if (i not in string.punctuation) & (i != '—') & (i != '«') & (i != '»')]\n",
    "    russian_stopwords = stopwords.words('russian')\n",
    "    token_with_out_punctuation_and_stopwords = [i for i in token_with_out_punctuation if i not in russian_stopwords ]\n",
    "    token_with_out_punctuation_and_stopwords_and_lemming = [ morph.parse(i)[0].normal_form for i in token_with_out_punctuation_and_stopwords]\n",
    "    snowball_stem = SnowballStemmer(language = 'russian')\n",
    "    text = \" \".join([snowball_stem.stem(i) for i in token_with_out_punctuation_and_stopwords_and_lemming])\n",
    "    return text"
   ]
  },
  {
   "cell_type": "code",
   "execution_count": 107,
   "id": "ba5475ac",
   "metadata": {},
   "outputs": [
    {
     "data": {
      "text/plain": [
       "'9 ма ден побед'"
      ]
     },
     "execution_count": 107,
     "metadata": {},
     "output_type": "execute_result"
    }
   ],
   "source": [
    "clean_text('9 мая - день победы')"
   ]
  },
  {
   "cell_type": "code",
   "execution_count": 50,
   "id": "5046f0a4",
   "metadata": {},
   "outputs": [
    {
     "data": {
      "text/html": [
       "<div>\n",
       "<style scoped>\n",
       "    .dataframe tbody tr th:only-of-type {\n",
       "        vertical-align: middle;\n",
       "    }\n",
       "\n",
       "    .dataframe tbody tr th {\n",
       "        vertical-align: top;\n",
       "    }\n",
       "\n",
       "    .dataframe thead th {\n",
       "        text-align: right;\n",
       "    }\n",
       "</style>\n",
       "<table border=\"1\" class=\"dataframe\">\n",
       "  <thead>\n",
       "    <tr style=\"text-align: right;\">\n",
       "      <th></th>\n",
       "      <th>topic</th>\n",
       "      <th>Text_cleaning</th>\n",
       "    </tr>\n",
       "  </thead>\n",
       "  <tbody>\n",
       "    <tr>\n",
       "      <th>0</th>\n",
       "      <td>Ценности</td>\n",
       "      <td>седин станет модн американск интернет-сервис p...</td>\n",
       "    </tr>\n",
       "    <tr>\n",
       "      <th>1</th>\n",
       "      <td>Путешествия</td>\n",
       "      <td>египтян организова турист секс пирамид поплат ...</td>\n",
       "    </tr>\n",
       "    <tr>\n",
       "      <th>2</th>\n",
       "      <td>Ценности</td>\n",
       "      <td>хваста дорог вещ батюшк раскр источник сво бог...</td>\n",
       "    </tr>\n",
       "    <tr>\n",
       "      <th>3</th>\n",
       "      <td>Путешествия</td>\n",
       "      <td>индиец попристава модел самолет сел девя лет п...</td>\n",
       "    </tr>\n",
       "    <tr>\n",
       "      <th>4</th>\n",
       "      <td>Ценности</td>\n",
       "      <td>раскрыт реальн внешност модел victoria ’ s sec...</td>\n",
       "    </tr>\n",
       "    <tr>\n",
       "      <th>...</th>\n",
       "      <td>...</td>\n",
       "      <td>...</td>\n",
       "    </tr>\n",
       "    <tr>\n",
       "      <th>127691</th>\n",
       "      <td>Силовые структуры</td>\n",
       "      <td>заверш следств дел генера мвд сугробов заверш ...</td>\n",
       "    </tr>\n",
       "    <tr>\n",
       "      <th>127692</th>\n",
       "      <td>Силовые структуры</td>\n",
       "      <td>задержа подозрева убийств эпизодник гардемарин...</td>\n",
       "    </tr>\n",
       "    <tr>\n",
       "      <th>127693</th>\n",
       "      <td>Силовые структуры</td>\n",
       "      <td>крест умер предполага насильник гантел следств...</td>\n",
       "    </tr>\n",
       "    <tr>\n",
       "      <th>127694</th>\n",
       "      <td>Силовые структуры</td>\n",
       "      <td>суд арестова активист барабаш дел журналист рб...</td>\n",
       "    </tr>\n",
       "    <tr>\n",
       "      <th>127695</th>\n",
       "      <td>Силовые структуры</td>\n",
       "      <td>международн эксперт призна объективн мак вскры...</td>\n",
       "    </tr>\n",
       "  </tbody>\n",
       "</table>\n",
       "<p>127696 rows × 2 columns</p>\n",
       "</div>"
      ],
      "text/plain": [
       "                    topic                                      Text_cleaning\n",
       "0                Ценности  седин станет модн американск интернет-сервис p...\n",
       "1             Путешествия  египтян организова турист секс пирамид поплат ...\n",
       "2                Ценности  хваста дорог вещ батюшк раскр источник сво бог...\n",
       "3             Путешествия  индиец попристава модел самолет сел девя лет п...\n",
       "4                Ценности  раскрыт реальн внешност модел victoria ’ s sec...\n",
       "...                   ...                                                ...\n",
       "127691  Силовые структуры  заверш следств дел генера мвд сугробов заверш ...\n",
       "127692  Силовые структуры  задержа подозрева убийств эпизодник гардемарин...\n",
       "127693  Силовые структуры  крест умер предполага насильник гантел следств...\n",
       "127694  Силовые структуры  суд арестова активист барабаш дел журналист рб...\n",
       "127695  Силовые структуры  международн эксперт призна объективн мак вскры...\n",
       "\n",
       "[127696 rows x 2 columns]"
      ]
     },
     "execution_count": 50,
     "metadata": {},
     "output_type": "execute_result"
    }
   ],
   "source": [
    "df_mini['Text_cleaning'] = df_mini.Text_cleaning.apply(clean_text)\n",
    "df_mini"
   ]
  },
  {
   "cell_type": "code",
   "execution_count": 51,
   "id": "bcd80500",
   "metadata": {},
   "outputs": [
    {
     "data": {
      "image/png": "[encoded data removed]",
      "text/plain": [
       "<Figure size 1440x720 with 1 Axes>"
      ]
     },
     "metadata": {
      "needs_background": "light"
     },
     "output_type": "display_data"
    }
   ],
   "source": [
    "plt.figure(figsize=(20,10))\n",
    "count = df_mini.topic.value_counts()\n",
    "sns.barplot(x=count.index, y=count)\n",
    "plt.xlabel('Category')\n",
    "plt.ylabel('Count')\n",
    "plt.xticks(rotation=90);"
   ]
  },
  {
   "cell_type": "code",
   "execution_count": 55,
   "id": "f69c81ea",
   "metadata": {},
   "outputs": [],
   "source": [
    "df_mini.to_csv('df_for_model.csv')"
   ]
  },
  {
   "cell_type": "code",
   "execution_count": 2,
   "id": "4fe48a31",
   "metadata": {},
   "outputs": [],
   "source": [
    "df_for_model = pd.read_csv('df_for_model.csv', index_col=0)"
   ]
  },
  {
   "cell_type": "code",
   "execution_count": 3,
   "id": "4155b787",
   "metadata": {},
   "outputs": [
    {
     "data": {
      "text/html": [
       "<div>\n",
       "<style scoped>\n",
       "    .dataframe tbody tr th:only-of-type {\n",
       "        vertical-align: middle;\n",
       "    }\n",
       "\n",
       "    .dataframe tbody tr th {\n",
       "        vertical-align: top;\n",
       "    }\n",
       "\n",
       "    .dataframe thead th {\n",
       "        text-align: right;\n",
       "    }\n",
       "</style>\n",
       "<table border=\"1\" class=\"dataframe\">\n",
       "  <thead>\n",
       "    <tr style=\"text-align: right;\">\n",
       "      <th></th>\n",
       "      <th>topic</th>\n",
       "      <th>Text_cleaning</th>\n",
       "    </tr>\n",
       "  </thead>\n",
       "  <tbody>\n",
       "    <tr>\n",
       "      <th>0</th>\n",
       "      <td>Ценности</td>\n",
       "      <td>седин станет модн американск интернет-сервис p...</td>\n",
       "    </tr>\n",
       "    <tr>\n",
       "      <th>1</th>\n",
       "      <td>Путешествия</td>\n",
       "      <td>египтян организова турист секс пирамид поплат ...</td>\n",
       "    </tr>\n",
       "    <tr>\n",
       "      <th>2</th>\n",
       "      <td>Ценности</td>\n",
       "      <td>хваста дорог вещ батюшк раскр источник сво бог...</td>\n",
       "    </tr>\n",
       "    <tr>\n",
       "      <th>3</th>\n",
       "      <td>Путешествия</td>\n",
       "      <td>индиец попристава модел самолет сел девя лет п...</td>\n",
       "    </tr>\n",
       "    <tr>\n",
       "      <th>4</th>\n",
       "      <td>Ценности</td>\n",
       "      <td>раскрыт реальн внешност модел victoria ’ s sec...</td>\n",
       "    </tr>\n",
       "    <tr>\n",
       "      <th>...</th>\n",
       "      <td>...</td>\n",
       "      <td>...</td>\n",
       "    </tr>\n",
       "    <tr>\n",
       "      <th>127691</th>\n",
       "      <td>Силовые структуры</td>\n",
       "      <td>заверш следств дел генера мвд сугробов заверш ...</td>\n",
       "    </tr>\n",
       "    <tr>\n",
       "      <th>127692</th>\n",
       "      <td>Силовые структуры</td>\n",
       "      <td>задержа подозрева убийств эпизодник гардемарин...</td>\n",
       "    </tr>\n",
       "    <tr>\n",
       "      <th>127693</th>\n",
       "      <td>Силовые структуры</td>\n",
       "      <td>крест умер предполага насильник гантел следств...</td>\n",
       "    </tr>\n",
       "    <tr>\n",
       "      <th>127694</th>\n",
       "      <td>Силовые структуры</td>\n",
       "      <td>суд арестова активист барабаш дел журналист рб...</td>\n",
       "    </tr>\n",
       "    <tr>\n",
       "      <th>127695</th>\n",
       "      <td>Силовые структуры</td>\n",
       "      <td>международн эксперт призна объективн мак вскры...</td>\n",
       "    </tr>\n",
       "  </tbody>\n",
       "</table>\n",
       "<p>127696 rows × 2 columns</p>\n",
       "</div>"
      ],
      "text/plain": [
       "                    topic                                      Text_cleaning\n",
       "0                Ценности  седин станет модн американск интернет-сервис p...\n",
       "1             Путешествия  египтян организова турист секс пирамид поплат ...\n",
       "2                Ценности  хваста дорог вещ батюшк раскр источник сво бог...\n",
       "3             Путешествия  индиец попристава модел самолет сел девя лет п...\n",
       "4                Ценности  раскрыт реальн внешност модел victoria ’ s sec...\n",
       "...                   ...                                                ...\n",
       "127691  Силовые структуры  заверш следств дел генера мвд сугробов заверш ...\n",
       "127692  Силовые структуры  задержа подозрева убийств эпизодник гардемарин...\n",
       "127693  Силовые структуры  крест умер предполага насильник гантел следств...\n",
       "127694  Силовые структуры  суд арестова активист барабаш дел журналист рб...\n",
       "127695  Силовые структуры  международн эксперт призна объективн мак вскры...\n",
       "\n",
       "[127696 rows x 2 columns]"
      ]
     },
     "execution_count": 3,
     "metadata": {},
     "output_type": "execute_result"
    }
   ],
   "source": [
    "df_for_model"
   ]
  },
  {
   "cell_type": "code",
   "execution_count": 4,
   "id": "cb32a401",
   "metadata": {},
   "outputs": [],
   "source": [
    "df_for_model = df_for_model[(df_for_model.topic != 'Крым') & (df_for_model.topic != '69-я параллель')].reset_index(drop=True)"
   ]
  },
  {
   "cell_type": "code",
   "execution_count": 5,
   "id": "7cb1935b",
   "metadata": {},
   "outputs": [
    {
     "data": {
      "text/plain": [
       "Экономика            10000\n",
       "Наука и техника      10000\n",
       "Силовые структуры    10000\n",
       "Мир                  10000\n",
       "Бывший СССР          10000\n",
       "Дом                  10000\n",
       "Россия               10000\n",
       "Культура             10000\n",
       "Интернет и СМИ       10000\n",
       "Спорт                10000\n",
       "Из жизни             10000\n",
       "Бизнес                6948\n",
       "Ценности              4877\n",
       "Путешествия           4563\n",
       "Name: topic, dtype: int64"
      ]
     },
     "execution_count": 5,
     "metadata": {},
     "output_type": "execute_result"
    }
   ],
   "source": [
    "df_for_model.topic.value_counts()"
   ]
  },
  {
   "cell_type": "code",
   "execution_count": 6,
   "id": "ef1829d8",
   "metadata": {},
   "outputs": [],
   "source": [
    "from sklearn.linear_model import SGDClassifier\n",
    "from sklearn.neighbors import KNeighborsClassifier\n",
    "from sklearn.model_selection import GridSearchCV\n",
    "from sklearn import metrics"
   ]
  },
  {
   "cell_type": "code",
   "execution_count": 7,
   "id": "3af048dc",
   "metadata": {},
   "outputs": [],
   "source": [
    "X_train, X_test, y_train, y_test = \\\n",
    "train_test_split(df_for_model['Text_cleaning'], df_for_model['topic'], test_size=0.2, random_state=42)"
   ]
  },
  {
   "cell_type": "code",
   "execution_count": 11,
   "id": "3c7ad4ca",
   "metadata": {},
   "outputs": [],
   "source": [
    "from sklearn.feature_extraction.text import  TfidfVectorizer\n",
    "\n",
    "sgd_ppl_clf = Pipeline([\n",
    "    ('vectorizer', TfidfVectorizer()),\n",
    "    ('model', SGDClassifier(random_state=42))])\n",
    "knb_ppl_clf = Pipeline([\n",
    "    ('vectorizer', TfidfVectorizer()),\n",
    "    ('model', KNeighborsClassifier())])"
   ]
  },
  {
   "cell_type": "code",
   "execution_count": 12,
   "id": "b2ded55d",
   "metadata": {},
   "outputs": [
    {
     "data": {
      "text/plain": [
       "Pipeline(steps=[('vectorizer', TfidfVectorizer()),\n",
       "                ('model', SGDClassifier(random_state=42))])"
      ]
     },
     "execution_count": 12,
     "metadata": {},
     "output_type": "execute_result"
    }
   ],
   "source": [
    "sgd_ppl_clf.fit(X_train, y_train)"
   ]
  },
  {
   "cell_type": "code",
   "execution_count": 13,
   "id": "f04b8608",
   "metadata": {},
   "outputs": [
    {
     "name": "stdout",
     "output_type": "stream",
     "text": [
      "                   precision    recall  f1-score   support\n",
      "\n",
      "           Бизнес       0.72      0.78      0.75      1292\n",
      "      Бывший СССР       0.92      0.85      0.89      2128\n",
      "              Дом       0.93      0.89      0.91      2042\n",
      "         Из жизни       0.77      0.82      0.79      1901\n",
      "   Интернет и СМИ       0.79      0.82      0.81      2008\n",
      "         Культура       0.94      0.85      0.89      2272\n",
      "              Мир       0.84      0.80      0.82      2106\n",
      "  Наука и техника       0.90      0.89      0.89      1937\n",
      "      Путешествия       0.86      0.82      0.84       946\n",
      "           Россия       0.65      0.84      0.74      1501\n",
      "Силовые структуры       0.86      0.78      0.82      2143\n",
      "            Спорт       0.98      0.92      0.95      2090\n",
      "         Ценности       0.87      0.89      0.88      1002\n",
      "        Экономика       0.79      0.85      0.82      1910\n",
      "\n",
      "         accuracy                           0.84     25278\n",
      "        macro avg       0.84      0.84      0.84     25278\n",
      "     weighted avg       0.85      0.84      0.85     25278\n",
      "\n"
     ]
    }
   ],
   "source": [
    "predicted_sgd = sgd_ppl_clf.predict(X_test)\n",
    "print(metrics.classification_report(predicted_sgd, y_test))"
   ]
  },
  {
   "cell_type": "code",
   "execution_count": 14,
   "id": "2a6e5435",
   "metadata": {},
   "outputs": [
    {
     "name": "stdout",
     "output_type": "stream",
     "text": [
      "                   precision    recall  f1-score   support\n",
      "\n",
      "           Бизнес       0.74      0.72      0.73      1440\n",
      "      Бывший СССР       0.92      0.83      0.87      2187\n",
      "              Дом       0.92      0.89      0.90      2038\n",
      "         Из жизни       0.68      0.87      0.76      1578\n",
      "   Интернет и СМИ       0.76      0.81      0.78      1933\n",
      "         Культура       0.93      0.84      0.88      2279\n",
      "              Мир       0.84      0.79      0.81      2151\n",
      "  Наука и техника       0.89      0.88      0.88      1946\n",
      "      Путешествия       0.91      0.73      0.81      1137\n",
      "           Россия       0.59      0.87      0.71      1323\n",
      "Силовые структуры       0.86      0.76      0.80      2213\n",
      "            Спорт       0.98      0.91      0.94      2127\n",
      "         Ценности       0.91      0.84      0.87      1107\n",
      "        Экономика       0.77      0.87      0.81      1819\n",
      "\n",
      "         accuracy                           0.83     25278\n",
      "        macro avg       0.84      0.83      0.83     25278\n",
      "     weighted avg       0.84      0.83      0.83     25278\n",
      "\n"
     ]
    }
   ],
   "source": [
    "sgd_ppl_clf_1 = Pipeline([\n",
    "    ('vectorizer', TfidfVectorizer(ngram_range=(1, 2), strip_accents = 'unicode')),\n",
    "    ('model', SGDClassifier(penalty='l2', class_weight='balanced', loss='hinge', random_state=42))])\n",
    "sgd_ppl_clf_1.fit(X_train, y_train)\n",
    "predicted_sgd = sgd_ppl_clf_1.predict(X_test)\n",
    "print(metrics.classification_report(predicted_sgd, y_test))"
   ]
  },
  {
   "cell_type": "code",
   "execution_count": 15,
   "id": "6b63f59c",
   "metadata": {},
   "outputs": [
    {
     "name": "stdout",
     "output_type": "stream",
     "text": [
      "                   precision    recall  f1-score   support\n",
      "\n",
      "           Бизнес       0.74      0.72      0.73      1442\n",
      "      Бывший СССР       0.92      0.83      0.88      2188\n",
      "              Дом       0.92      0.89      0.91      2039\n",
      "         Из жизни       0.68      0.87      0.76      1580\n",
      "   Интернет и СМИ       0.76      0.81      0.78      1933\n",
      "         Культура       0.93      0.84      0.88      2280\n",
      "              Мир       0.84      0.79      0.81      2152\n",
      "  Наука и техника       0.89      0.88      0.88      1944\n",
      "      Путешествия       0.91      0.73      0.81      1135\n",
      "           Россия       0.59      0.87      0.70      1323\n",
      "Силовые структуры       0.86      0.76      0.80      2212\n",
      "            Спорт       0.98      0.91      0.95      2126\n",
      "         Ценности       0.91      0.84      0.87      1107\n",
      "        Экономика       0.76      0.87      0.81      1817\n",
      "\n",
      "         accuracy                           0.83     25278\n",
      "        macro avg       0.84      0.83      0.83     25278\n",
      "     weighted avg       0.84      0.83      0.83     25278\n",
      "\n"
     ]
    }
   ],
   "source": [
    "sgd_ppl_clf_1 = Pipeline([\n",
    "    ('vectorizer', TfidfVectorizer(ngram_range=(1, 2), strip_accents = None)),\n",
    "    ('model', SGDClassifier(penalty='l2', class_weight='balanced', loss='hinge', random_state=42))])\n",
    "sgd_ppl_clf_1.fit(X_train, y_train)\n",
    "predicted_sgd = sgd_ppl_clf_1.predict(X_test)\n",
    "print(metrics.classification_report(predicted_sgd, y_test))"
   ]
  },
  {
   "cell_type": "code",
   "execution_count": 76,
   "id": "fce833ec",
   "metadata": {},
   "outputs": [
    {
     "name": "stdout",
     "output_type": "stream",
     "text": [
      "                   precision    recall  f1-score   support\n",
      "\n",
      "   69-я параллель       0.25      0.03      0.05      1277\n",
      "           Бизнес       0.31      0.54      0.40       806\n",
      "      Бывший СССР       0.57      0.28      0.38      4215\n",
      "              Дом       0.39      0.57      0.46      1309\n",
      "         Из жизни       0.37      0.53      0.44      1413\n",
      "   Интернет и СМИ       0.51      0.55      0.53      1863\n",
      "             Крым       0.26      0.04      0.07       683\n",
      "         Культура       0.40      0.56      0.47      1445\n",
      "              Мир       0.40      0.52      0.45      1598\n",
      "  Наука и техника       0.65      0.67      0.66      1829\n",
      "      Путешествия       0.46      0.21      0.29      2015\n",
      "           Россия       0.05      0.20      0.09       533\n",
      "Силовые структуры       0.30      0.35      0.32      1630\n",
      "            Спорт       0.45      0.61      0.52      1458\n",
      "         Ценности       0.69      0.71      0.70       958\n",
      "        Экономика       0.49      0.41      0.44      2508\n",
      "\n",
      "         accuracy                           0.42     25540\n",
      "        macro avg       0.41      0.42      0.39     25540\n",
      "     weighted avg       0.45      0.42      0.41     25540\n",
      "\n"
     ]
    }
   ],
   "source": [
    "sgd_ppl_clf_1 = Pipeline([\n",
    "    ('vectorizer', CountVectorizer(ngram_range=(1, 2), strip_accents = 'ascii')),\n",
    "    ('model', SGDClassifier(penalty='l1', class_weight='balanced', loss='hinge', random_state=42))])\n",
    "sgd_ppl_clf_1.fit(X_train, y_train)\n",
    "predicted_sgd = sgd_ppl_clf_1.predict(X_test)\n",
    "print(metrics.classification_report(predicted_sgd, y_test))"
   ]
  },
  {
   "cell_type": "code",
   "execution_count": 77,
   "id": "9a61545e",
   "metadata": {},
   "outputs": [
    {
     "name": "stdout",
     "output_type": "stream",
     "text": [
      "                   precision    recall  f1-score   support\n",
      "\n",
      "   69-я параллель       0.26      0.08      0.13       449\n",
      "           Бизнес       0.55      0.39      0.46      1969\n",
      "      Бывший СССР       0.50      0.59      0.54      1754\n",
      "              Дом       0.52      0.60      0.56      1692\n",
      "         Из жизни       0.52      0.59      0.55      1797\n",
      "   Интернет и СМИ       0.57      0.60      0.58      1887\n",
      "             Крым       0.41      0.04      0.06      1362\n",
      "         Культура       0.55      0.57      0.56      1952\n",
      "              Мир       0.50      0.52      0.51      1972\n",
      "  Наука и техника       0.73      0.76      0.75      1802\n",
      "      Путешествия       0.48      0.50      0.49       887\n",
      "           Россия       0.27      0.28      0.27      1904\n",
      "Силовые структуры       0.42      0.45      0.43      1795\n",
      "            Спорт       0.53      0.69      0.60      1543\n",
      "         Ценности       0.82      0.71      0.76      1132\n",
      "        Экономика       0.48      0.61      0.54      1643\n",
      "\n",
      "         accuracy                           0.52     25540\n",
      "        macro avg       0.51      0.50      0.49     25540\n",
      "     weighted avg       0.51      0.52      0.50     25540\n",
      "\n"
     ]
    }
   ],
   "source": [
    "sgd_ppl_clf_1 = Pipeline([\n",
    "    ('vectorizer', CountVectorizer(ngram_range=(1, 2), strip_accents = 'ascii')),\n",
    "    ('model', SGDClassifier(penalty='elasticnet', class_weight='balanced', loss='hinge', random_state=42))])\n",
    "sgd_ppl_clf_1.fit(X_train, y_train)\n",
    "predicted_sgd = sgd_ppl_clf_1.predict(X_test)\n",
    "print(metrics.classification_report(predicted_sgd, y_test))"
   ]
  },
  {
   "cell_type": "code",
   "execution_count": 78,
   "id": "2199b79d",
   "metadata": {},
   "outputs": [
    {
     "name": "stdout",
     "output_type": "stream",
     "text": [
      "                   precision    recall  f1-score   support\n",
      "\n",
      "   69-я параллель       0.16      0.05      0.08       426\n",
      "           Бизнес       0.45      0.51      0.48      1242\n",
      "      Бывший СССР       0.53      0.51      0.52      2182\n",
      "              Дом       0.48      0.56      0.52      1684\n",
      "         Из жизни       0.45      0.52      0.48      1732\n",
      "   Интернет и СМИ       0.52      0.55      0.54      1881\n",
      "             Крым       0.20      0.05      0.09       423\n",
      "         Культура       0.51      0.54      0.53      1881\n",
      "              Мир       0.49      0.48      0.48      2071\n",
      "  Наука и техника       0.71      0.74      0.72      1777\n",
      "      Путешествия       0.44      0.40      0.42      1016\n",
      "           Россия       0.39      0.27      0.32      2798\n",
      "Силовые структуры       0.40      0.44      0.42      1784\n",
      "            Спорт       0.53      0.59      0.56      1805\n",
      "         Ценности       0.75      0.75      0.75       989\n",
      "        Экономика       0.47      0.53      0.50      1849\n",
      "\n",
      "         accuracy                           0.50     25540\n",
      "        macro avg       0.47      0.47      0.46     25540\n",
      "     weighted avg       0.49      0.50      0.49     25540\n",
      "\n"
     ]
    }
   ],
   "source": [
    "sgd_ppl_clf_1 = Pipeline([\n",
    "    ('vectorizer', CountVectorizer(ngram_range=(1, 2), strip_accents = 'ascii')),\n",
    "    ('model', SGDClassifier(penalty='None', class_weight='balanced', loss='hinge', random_state=42))])\n",
    "sgd_ppl_clf_1.fit(X_train, y_train)\n",
    "predicted_sgd = sgd_ppl_clf_1.predict(X_test)\n",
    "print(metrics.classification_report(predicted_sgd, y_test))"
   ]
  },
  {
   "cell_type": "code",
   "execution_count": 79,
   "id": "6c6336c7",
   "metadata": {},
   "outputs": [
    {
     "name": "stdout",
     "output_type": "stream",
     "text": [
      "                   precision    recall  f1-score   support\n",
      "\n",
      "   69-я параллель       0.26      0.05      0.08       853\n",
      "           Бизнес       0.45      0.60      0.51      1056\n",
      "      Бывший СССР       0.58      0.53      0.55      2255\n",
      "              Дом       0.53      0.63      0.58      1632\n",
      "         Из жизни       0.55      0.61      0.58      1803\n",
      "   Интернет и СМИ       0.55      0.66      0.60      1672\n",
      "             Крым       0.33      0.05      0.09       724\n",
      "         Культура       0.52      0.68      0.59      1564\n",
      "              Мир       0.52      0.57      0.54      1863\n",
      "  Наука и техника       0.69      0.87      0.77      1486\n",
      "      Путешествия       0.45      0.60      0.51       693\n",
      "           Россия       0.50      0.27      0.35      3672\n",
      "Силовые структуры       0.45      0.46      0.46      1945\n",
      "            Спорт       0.55      0.68      0.61      1592\n",
      "         Ценности       0.77      0.87      0.81       867\n",
      "        Экономика       0.52      0.58      0.55      1863\n",
      "\n",
      "         accuracy                           0.54     25540\n",
      "        macro avg       0.51      0.54      0.51     25540\n",
      "     weighted avg       0.52      0.54      0.52     25540\n",
      "\n"
     ]
    }
   ],
   "source": [
    "sgd_ppl_clf_1 = Pipeline([\n",
    "    ('vectorizer', CountVectorizer(ngram_range=(1, 2), strip_accents = 'ascii')),\n",
    "    ('model', SGDClassifier(penalty='l2', class_weight='balanced', loss='log', random_state=42))])\n",
    "sgd_ppl_clf_1.fit(X_train, y_train)\n",
    "predicted_sgd = sgd_ppl_clf_1.predict(X_test)\n",
    "print(metrics.classification_report(predicted_sgd, y_test))"
   ]
  },
  {
   "cell_type": "code",
   "execution_count": 80,
   "id": "45c8dc68",
   "metadata": {},
   "outputs": [
    {
     "name": "stdout",
     "output_type": "stream",
     "text": [
      "                   precision    recall  f1-score   support\n",
      "\n",
      "   69-я параллель       0.25      0.05      0.09       693\n",
      "           Бизнес       0.51      0.56      0.53      1276\n",
      "      Бывший СССР       0.61      0.53      0.57      2377\n",
      "              Дом       0.54      0.63      0.58      1639\n",
      "         Из жизни       0.56      0.60      0.58      1868\n",
      "   Интернет и СМИ       0.57      0.66      0.61      1720\n",
      "             Крым       0.30      0.05      0.09       694\n",
      "         Культура       0.57      0.63      0.60      1842\n",
      "              Мир       0.55      0.60      0.57      1884\n",
      "  Наука и техника       0.73      0.85      0.78      1616\n",
      "      Путешествия       0.50      0.47      0.48       988\n",
      "           Россия       0.42      0.31      0.36      2690\n",
      "Силовые структуры       0.48      0.47      0.48      1996\n",
      "            Спорт       0.60      0.68      0.63      1751\n",
      "         Ценности       0.70      0.82      0.76       838\n",
      "        Экономика       0.50      0.62      0.56      1668\n",
      "\n",
      "         accuracy                           0.55     25540\n",
      "        macro avg       0.52      0.53      0.52     25540\n",
      "     weighted avg       0.54      0.55      0.54     25540\n",
      "\n"
     ]
    }
   ],
   "source": [
    "sgd_ppl_clf_1 = Pipeline([\n",
    "    ('vectorizer', CountVectorizer(ngram_range=(1, 2), strip_accents = 'ascii')),\n",
    "    ('model', SGDClassifier(penalty='l2', class_weight='balanced', loss='modified_huber', random_state=42))])\n",
    "sgd_ppl_clf_1.fit(X_train, y_train)\n",
    "predicted_sgd = sgd_ppl_clf_1.predict(X_test)\n",
    "print(metrics.classification_report(predicted_sgd, y_test))"
   ]
  },
  {
   "cell_type": "code",
   "execution_count": 81,
   "id": "6705648f",
   "metadata": {},
   "outputs": [
    {
     "name": "stderr",
     "output_type": "stream",
     "text": [
      "C:\\ProgramData\\Anaconda3\\lib\\site-packages\\sklearn\\linear_model\\_stochastic_gradient.py:574: ConvergenceWarning: Maximum number of iteration reached before convergence. Consider increasing max_iter to improve the fit.\n",
      "  warnings.warn(\"Maximum number of iteration reached before \"\n"
     ]
    },
    {
     "name": "stdout",
     "output_type": "stream",
     "text": [
      "                   precision    recall  f1-score   support\n",
      "\n",
      "   69-я параллель       0.11      0.08      0.09       211\n",
      "           Бизнес       0.40      0.45      0.43      1240\n",
      "      Бывший СССР       0.52      0.34      0.41      3145\n",
      "              Дом       0.43      0.63      0.51      1332\n",
      "         Из жизни       0.35      0.57      0.43      1237\n",
      "   Интернет и СМИ       0.45      0.64      0.53      1410\n",
      "             Крым       0.16      0.03      0.05       579\n",
      "         Культура       0.48      0.62      0.54      1546\n",
      "              Мир       0.48      0.45      0.46      2190\n",
      "  Наука и техника       0.56      0.71      0.63      1475\n",
      "      Путешествия       0.33      0.45      0.38       691\n",
      "           Россия       0.51      0.19      0.28      5173\n",
      "Силовые структуры       0.35      0.45      0.39      1536\n",
      "            Спорт       0.50      0.66      0.57      1490\n",
      "         Ценности       0.54      0.58      0.56       912\n",
      "        Экономика       0.39      0.60      0.48      1373\n",
      "\n",
      "         accuracy                           0.45     25540\n",
      "        macro avg       0.41      0.47      0.42     25540\n",
      "     weighted avg       0.46      0.45      0.43     25540\n",
      "\n"
     ]
    }
   ],
   "source": [
    "sgd_ppl_clf_1 = Pipeline([\n",
    "    ('vectorizer', CountVectorizer(ngram_range=(1, 2), strip_accents = 'ascii')),\n",
    "    ('model', SGDClassifier(penalty='l2', class_weight='balanced', loss='squared_hinge', random_state=42))])\n",
    "sgd_ppl_clf_1.fit(X_train, y_train)\n",
    "predicted_sgd = sgd_ppl_clf_1.predict(X_test)\n",
    "print(metrics.classification_report(predicted_sgd, y_test))"
   ]
  },
  {
   "cell_type": "code",
   "execution_count": 82,
   "id": "bf924ae7",
   "metadata": {},
   "outputs": [
    {
     "name": "stdout",
     "output_type": "stream",
     "text": [
      "                   precision    recall  f1-score   support\n",
      "\n",
      "   69-я параллель       0.16      0.10      0.12       234\n",
      "           Бизнес       0.50      0.51      0.50      1381\n",
      "      Бывший СССР       0.48      0.53      0.50      1899\n",
      "              Дом       0.49      0.64      0.55      1496\n",
      "         Из жизни       0.48      0.56      0.52      1743\n",
      "   Интернет и СМИ       0.55      0.57      0.56      1925\n",
      "             Крым       0.16      0.07      0.10       276\n",
      "         Культура       0.55      0.51      0.53      2157\n",
      "              Мир       0.50      0.49      0.49      2108\n",
      "  Наука и техника       0.71      0.77      0.74      1717\n",
      "      Путешествия       0.45      0.53      0.49       785\n",
      "           Россия       0.39      0.27      0.32      2849\n",
      "Силовые структуры       0.45      0.38      0.41      2287\n",
      "            Спорт       0.54      0.62      0.58      1717\n",
      "         Ценности       0.68      0.81      0.74       826\n",
      "        Экономика       0.48      0.46      0.47      2140\n",
      "\n",
      "         accuracy                           0.51     25540\n",
      "        macro avg       0.47      0.49      0.48     25540\n",
      "     weighted avg       0.50      0.51      0.50     25540\n",
      "\n"
     ]
    }
   ],
   "source": [
    "sgd_ppl_clf_1 = Pipeline([\n",
    "    ('vectorizer', CountVectorizer(ngram_range=(1, 2), strip_accents = 'ascii')),\n",
    "    ('model', SGDClassifier(penalty='l2', class_weight='balanced', loss='perceptron', random_state=42))])\n",
    "sgd_ppl_clf_1.fit(X_train, y_train)\n",
    "predicted_sgd = sgd_ppl_clf_1.predict(X_test)\n",
    "print(metrics.classification_report(predicted_sgd, y_test))"
   ]
  },
  {
   "cell_type": "code",
   "execution_count": 84,
   "id": "7acfba05",
   "metadata": {},
   "outputs": [
    {
     "name": "stdout",
     "output_type": "stream",
     "text": [
      "                   precision    recall  f1-score   support\n",
      "\n",
      "   69-я параллель       0.11      0.59      0.18        27\n",
      "           Бизнес       0.47      0.60      0.53      1090\n",
      "      Бывший СССР       0.62      0.54      0.58      2403\n",
      "              Дом       0.58      0.59      0.58      1886\n",
      "         Из жизни       0.58      0.56      0.57      2088\n",
      "   Интернет и СМИ       0.60      0.58      0.59      2077\n",
      "             Крым       0.06      0.26      0.10        27\n",
      "         Культура       0.57      0.61      0.59      1903\n",
      "              Мир       0.59      0.52      0.55      2305\n",
      "  Наука и техника       0.75      0.79      0.77      1783\n",
      "      Путешествия       0.45      0.64      0.53       655\n",
      "           Россия       0.33      0.35      0.34      1862\n",
      "Силовые структуры       0.55      0.43      0.48      2548\n",
      "            Спорт       0.61      0.64      0.62      1898\n",
      "         Ценности       0.79      0.87      0.83       898\n",
      "        Экономика       0.56      0.56      0.56      2090\n",
      "\n",
      "         accuracy                           0.57     25540\n",
      "        macro avg       0.51      0.57      0.53     25540\n",
      "     weighted avg       0.58      0.57      0.57     25540\n",
      "\n"
     ]
    }
   ],
   "source": [
    "sgd_ppl_clf_1 = Pipeline([\n",
    "    ('vectorizer', CountVectorizer(ngram_range=(1, 2), strip_accents = 'ascii')),\n",
    "    ('model', SGDClassifier(penalty='l2', class_weight=None, loss='hinge', random_state=42))])\n",
    "sgd_ppl_clf_1.fit(X_train, y_train)\n",
    "predicted_sgd = sgd_ppl_clf_1.predict(X_test)\n",
    "print(metrics.classification_report(predicted_sgd, y_test))"
   ]
  },
  {
   "cell_type": "code",
   "execution_count": 86,
   "id": "773ff9df",
   "metadata": {},
   "outputs": [
    {
     "name": "stdout",
     "output_type": "stream",
     "text": [
      "                   precision    recall  f1-score   support\n",
      "\n",
      "   69-я параллель       0.23      0.08      0.12       405\n",
      "           Бизнес       0.51      0.52      0.52      1353\n",
      "      Бывший СССР       0.54      0.55      0.55      2046\n",
      "              Дом       0.52      0.57      0.54      1789\n",
      "         Из жизни       0.51      0.54      0.52      1880\n",
      "   Интернет и СМИ       0.49      0.63      0.55      1560\n",
      "             Крым       0.29      0.06      0.10       537\n",
      "         Культура       0.52      0.62      0.56      1677\n",
      "              Мир       0.53      0.52      0.52      2072\n",
      "  Наука и техника       0.64      0.79      0.71      1518\n",
      "      Путешествия       0.45      0.43      0.44       966\n",
      "           Россия       0.39      0.26      0.31      2915\n",
      "Силовые структуры       0.43      0.47      0.45      1772\n",
      "            Спорт       0.60      0.58      0.59      2029\n",
      "         Ценности       0.77      0.82      0.79       926\n",
      "        Экономика       0.55      0.55      0.55      2095\n",
      "\n",
      "         accuracy                           0.52     25540\n",
      "        macro avg       0.50      0.50      0.49     25540\n",
      "     weighted avg       0.51      0.52      0.51     25540\n",
      "\n"
     ]
    }
   ],
   "source": [
    "sgd_ppl_clf_1 = Pipeline([\n",
    "    ('vectorizer', CountVectorizer(ngram_range=(2, 3), strip_accents = 'ascii')),\n",
    "    ('model', SGDClassifier(penalty='l2', class_weight='balanced', loss='hinge', random_state=42))])\n",
    "sgd_ppl_clf_1.fit(X_train, y_train)\n",
    "predicted_sgd = sgd_ppl_clf_1.predict(X_test)\n",
    "print(metrics.classification_report(predicted_sgd, y_test))"
   ]
  },
  {
   "cell_type": "code",
   "execution_count": 87,
   "id": "2517bb5c",
   "metadata": {},
   "outputs": [
    {
     "name": "stdout",
     "output_type": "stream",
     "text": [
      "                   precision    recall  f1-score   support\n",
      "\n",
      "   69-я параллель       0.10      0.13      0.11       117\n",
      "           Бизнес       0.44      0.49      0.47      1263\n",
      "      Бывший СССР       0.36      0.58      0.44      1291\n",
      "              Дом       0.37      0.58      0.45      1240\n",
      "         Из жизни       0.34      0.52      0.41      1299\n",
      "   Интернет и СМИ       0.36      0.63      0.46      1166\n",
      "             Крым       0.20      0.12      0.15       193\n",
      "         Культура       0.40      0.63      0.49      1297\n",
      "              Мир       0.72      0.16      0.26      9304\n",
      "  Наука и техника       0.48      0.76      0.59      1172\n",
      "      Путешествия       0.32      0.36      0.34       830\n",
      "           Россия       0.16      0.43      0.24       746\n",
      "Силовые структуры       0.33      0.49      0.39      1341\n",
      "            Спорт       0.48      0.62      0.54      1528\n",
      "         Ценности       0.71      0.83      0.77       841\n",
      "        Экономика       0.49      0.53      0.51      1912\n",
      "\n",
      "         accuracy                           0.42     25540\n",
      "        macro avg       0.39      0.49      0.41     25540\n",
      "     weighted avg       0.52      0.42      0.39     25540\n",
      "\n"
     ]
    }
   ],
   "source": [
    "sgd_ppl_clf_1 = Pipeline([\n",
    "    ('vectorizer', CountVectorizer(ngram_range=(3, 4), strip_accents = 'ascii')),\n",
    "    ('model', SGDClassifier(penalty='l2', class_weight='balanced', loss='hinge', random_state=42))])\n",
    "sgd_ppl_clf_1.fit(X_train, y_train)\n",
    "predicted_sgd = sgd_ppl_clf_1.predict(X_test)\n",
    "print(metrics.classification_report(predicted_sgd, y_test))"
   ]
  },
  {
   "cell_type": "code",
   "execution_count": 16,
   "id": "9327fe21",
   "metadata": {},
   "outputs": [
    {
     "data": {
      "text/plain": [
       "Pipeline(steps=[('vectorizer', TfidfVectorizer()),\n",
       "                ('model', KNeighborsClassifier())])"
      ]
     },
     "execution_count": 16,
     "metadata": {},
     "output_type": "execute_result"
    }
   ],
   "source": [
    "knb_ppl_clf.fit(X_train, y_train)"
   ]
  },
  {
   "cell_type": "code",
   "execution_count": 17,
   "id": "29a5ed8d",
   "metadata": {},
   "outputs": [
    {
     "name": "stdout",
     "output_type": "stream",
     "text": [
      "                   precision    recall  f1-score   support\n",
      "\n",
      "           Бизнес       0.74      0.65      0.69      1586\n",
      "      Бывший СССР       0.89      0.79      0.84      2197\n",
      "              Дом       0.87      0.81      0.84      2122\n",
      "         Из жизни       0.65      0.68      0.66      1945\n",
      "   Интернет и СМИ       0.63      0.77      0.69      1691\n",
      "         Культура       0.82      0.81      0.81      2114\n",
      "              Мир       0.79      0.73      0.76      2204\n",
      "  Наука и техника       0.83      0.84      0.83      1884\n",
      "      Путешествия       0.74      0.79      0.77       851\n",
      "           Россия       0.63      0.71      0.66      1713\n",
      "Силовые структуры       0.76      0.76      0.76      1962\n",
      "            Спорт       0.95      0.92      0.93      2046\n",
      "         Ценности       0.80      0.88      0.84       931\n",
      "        Экономика       0.79      0.80      0.80      2032\n",
      "\n",
      "         accuracy                           0.78     25278\n",
      "        macro avg       0.78      0.78      0.78     25278\n",
      "     weighted avg       0.78      0.78      0.78     25278\n",
      "\n"
     ]
    }
   ],
   "source": [
    "predicted_knb = knb_ppl_clf.predict(X_test)\n",
    "print(metrics.classification_report(predicted_knb, y_test))"
   ]
  },
  {
   "cell_type": "code",
   "execution_count": null,
   "id": "e43d9dd3",
   "metadata": {},
   "outputs": [
    {
     "name": "stdout",
     "output_type": "stream",
     "text": [
      "Подборка началась...\n",
      "Fitting 5 folds for each of 10 candidates, totalling 50 fits\n",
      "[CV 1/5] END model__class_weight=balanced, model__loss=log, model__penalty=l1, vectorizer__ngram_range=(3, 4), vectorizer__strip_accents=ascii; total time=  31.5s\n",
      "[CV 2/5] END model__class_weight=balanced, model__loss=log, model__penalty=l1, vectorizer__ngram_range=(3, 4), vectorizer__strip_accents=ascii; total time=  31.5s\n",
      "[CV 3/5] END model__class_weight=balanced, model__loss=log, model__penalty=l1, vectorizer__ngram_range=(3, 4), vectorizer__strip_accents=ascii; total time=  31.3s\n",
      "[CV 4/5] END model__class_weight=balanced, model__loss=log, model__penalty=l1, vectorizer__ngram_range=(3, 4), vectorizer__strip_accents=ascii; total time=  31.4s\n",
      "[CV 5/5] END model__class_weight=balanced, model__loss=log, model__penalty=l1, vectorizer__ngram_range=(3, 4), vectorizer__strip_accents=ascii; total time=  31.4s\n",
      "[CV 1/5] END model__class_weight=balanced, model__loss=perceptron, model__penalty=elasticnet, vectorizer__ngram_range=(3, 4), vectorizer__strip_accents=ascii; total time=  27.6s\n",
      "[CV 2/5] END model__class_weight=balanced, model__loss=perceptron, model__penalty=elasticnet, vectorizer__ngram_range=(3, 4), vectorizer__strip_accents=ascii; total time=  27.5s\n",
      "[CV 3/5] END model__class_weight=balanced, model__loss=perceptron, model__penalty=elasticnet, vectorizer__ngram_range=(3, 4), vectorizer__strip_accents=ascii; total time=  27.6s\n",
      "[CV 4/5] END model__class_weight=balanced, model__loss=perceptron, model__penalty=elasticnet, vectorizer__ngram_range=(3, 4), vectorizer__strip_accents=ascii; total time=  27.6s\n",
      "[CV 5/5] END model__class_weight=balanced, model__loss=perceptron, model__penalty=elasticnet, vectorizer__ngram_range=(3, 4), vectorizer__strip_accents=ascii; total time=  27.5s\n",
      "[CV 1/5] END model__class_weight=balanced, model__loss=perceptron, model__penalty=l2, vectorizer__ngram_range=(3, 4), vectorizer__strip_accents=ascii; total time=  23.6s\n",
      "[CV 2/5] END model__class_weight=balanced, model__loss=perceptron, model__penalty=l2, vectorizer__ngram_range=(3, 4), vectorizer__strip_accents=ascii; total time=  23.5s\n",
      "[CV 3/5] END model__class_weight=balanced, model__loss=perceptron, model__penalty=l2, vectorizer__ngram_range=(3, 4), vectorizer__strip_accents=ascii; total time=  24.0s\n",
      "[CV 4/5] END model__class_weight=balanced, model__loss=perceptron, model__penalty=l2, vectorizer__ngram_range=(3, 4), vectorizer__strip_accents=ascii; total time=  23.6s\n",
      "[CV 5/5] END model__class_weight=balanced, model__loss=perceptron, model__penalty=l2, vectorizer__ngram_range=(3, 4), vectorizer__strip_accents=ascii; total time=  23.7s\n",
      "[CV 1/5] END model__class_weight=None, model__loss=modified_huber, model__penalty=elasticnet, vectorizer__ngram_range=(1, 2), vectorizer__strip_accents=ascii; total time=  26.4s\n",
      "[CV 2/5] END model__class_weight=None, model__loss=modified_huber, model__penalty=elasticnet, vectorizer__ngram_range=(1, 2), vectorizer__strip_accents=ascii; total time=  26.2s\n",
      "[CV 3/5] END model__class_weight=None, model__loss=modified_huber, model__penalty=elasticnet, vectorizer__ngram_range=(1, 2), vectorizer__strip_accents=ascii; total time=  26.2s\n",
      "[CV 4/5] END model__class_weight=None, model__loss=modified_huber, model__penalty=elasticnet, vectorizer__ngram_range=(1, 2), vectorizer__strip_accents=ascii; total time=  26.3s\n",
      "[CV 5/5] END model__class_weight=None, model__loss=modified_huber, model__penalty=elasticnet, vectorizer__ngram_range=(1, 2), vectorizer__strip_accents=ascii; total time=  26.7s\n",
      "[CV 1/5] END model__class_weight=balanced, model__loss=modified_huber, model__penalty=None, vectorizer__ngram_range=(1, 2), vectorizer__strip_accents=ascii; total time=  37.4s\n",
      "[CV 2/5] END model__class_weight=balanced, model__loss=modified_huber, model__penalty=None, vectorizer__ngram_range=(1, 2), vectorizer__strip_accents=ascii; total time=  35.1s\n",
      "[CV 3/5] END model__class_weight=balanced, model__loss=modified_huber, model__penalty=None, vectorizer__ngram_range=(1, 2), vectorizer__strip_accents=ascii; total time=  35.9s\n",
      "[CV 4/5] END model__class_weight=balanced, model__loss=modified_huber, model__penalty=None, vectorizer__ngram_range=(1, 2), vectorizer__strip_accents=ascii; total time=  35.7s\n",
      "[CV 5/5] END model__class_weight=balanced, model__loss=modified_huber, model__penalty=None, vectorizer__ngram_range=(1, 2), vectorizer__strip_accents=ascii; total time=  37.2s\n",
      "[CV 1/5] END model__class_weight=None, model__loss=log, model__penalty=l1, vectorizer__ngram_range=(1, 2), vectorizer__strip_accents=unicode; total time= 6.2min\n",
      "[CV 2/5] END model__class_weight=None, model__loss=log, model__penalty=l1, vectorizer__ngram_range=(1, 2), vectorizer__strip_accents=unicode; total time= 6.1min\n",
      "[CV 3/5] END model__class_weight=None, model__loss=log, model__penalty=l1, vectorizer__ngram_range=(1, 2), vectorizer__strip_accents=unicode; total time= 6.1min\n",
      "[CV 4/5] END model__class_weight=None, model__loss=log, model__penalty=l1, vectorizer__ngram_range=(1, 2), vectorizer__strip_accents=unicode; total time= 6.0min\n",
      "[CV 5/5] END model__class_weight=None, model__loss=log, model__penalty=l1, vectorizer__ngram_range=(1, 2), vectorizer__strip_accents=unicode; total time= 6.1min\n",
      "[CV 1/5] END model__class_weight=None, model__loss=hinge, model__penalty=l1, vectorizer__ngram_range=(1, 2), vectorizer__strip_accents=ascii; total time=  22.8s\n",
      "[CV 2/5] END model__class_weight=None, model__loss=hinge, model__penalty=l1, vectorizer__ngram_range=(1, 2), vectorizer__strip_accents=ascii; total time=  21.2s\n",
      "[CV 3/5] END model__class_weight=None, model__loss=hinge, model__penalty=l1, vectorizer__ngram_range=(1, 2), vectorizer__strip_accents=ascii; total time=  21.2s\n",
      "[CV 4/5] END model__class_weight=None, model__loss=hinge, model__penalty=l1, vectorizer__ngram_range=(1, 2), vectorizer__strip_accents=ascii; total time=  21.2s\n",
      "[CV 5/5] END model__class_weight=None, model__loss=hinge, model__penalty=l1, vectorizer__ngram_range=(1, 2), vectorizer__strip_accents=ascii; total time=  21.2s\n",
      "[CV 1/5] END model__class_weight=balanced, model__loss=modified_huber, model__penalty=elasticnet, vectorizer__ngram_range=(1, 2), vectorizer__strip_accents=unicode; total time= 5.4min\n",
      "[CV 2/5] END model__class_weight=balanced, model__loss=modified_huber, model__penalty=elasticnet, vectorizer__ngram_range=(1, 2), vectorizer__strip_accents=unicode; total time= 5.4min\n",
      "[CV 3/5] END model__class_weight=balanced, model__loss=modified_huber, model__penalty=elasticnet, vectorizer__ngram_range=(1, 2), vectorizer__strip_accents=unicode; total time= 5.4min\n",
      "[CV 4/5] END model__class_weight=balanced, model__loss=modified_huber, model__penalty=elasticnet, vectorizer__ngram_range=(1, 2), vectorizer__strip_accents=unicode; total time= 5.4min\n",
      "[CV 5/5] END model__class_weight=balanced, model__loss=modified_huber, model__penalty=elasticnet, vectorizer__ngram_range=(1, 2), vectorizer__strip_accents=unicode; total time= 5.4min\n",
      "[CV 1/5] END model__class_weight=None, model__loss=perceptron, model__penalty=l2, vectorizer__ngram_range=(1, 2), vectorizer__strip_accents=unicode; total time= 3.6min\n",
      "[CV 2/5] END model__class_weight=None, model__loss=perceptron, model__penalty=l2, vectorizer__ngram_range=(1, 2), vectorizer__strip_accents=unicode; total time= 3.5min\n",
      "[CV 3/5] END model__class_weight=None, model__loss=perceptron, model__penalty=l2, vectorizer__ngram_range=(1, 2), vectorizer__strip_accents=unicode; total time= 3.7min\n",
      "[CV 4/5] END model__class_weight=None, model__loss=perceptron, model__penalty=l2, vectorizer__ngram_range=(1, 2), vectorizer__strip_accents=unicode; total time= 3.5min\n",
      "[CV 5/5] END model__class_weight=None, model__loss=perceptron, model__penalty=l2, vectorizer__ngram_range=(1, 2), vectorizer__strip_accents=unicode; total time= 3.5min\n"
     ]
    }
   ],
   "source": [
    "\n",
    "\n",
    "parameters = { \n",
    "              'model__loss':['hinge', 'log', 'modified_huber', 'perceptron'],\n",
    "              'model__class_weight':[None, 'balanced'],\n",
    "              'model__penalty':[None, 'l2', 'l1', 'elasticnet'],\n",
    "              'vectorizer__strip_accents':['ascii', 'unicode'],\n",
    "              'vectorizer__ngram_range':[(1,2), (3,4)]\n",
    "              }\n",
    "#model = GridSearchCV(sgd_ppl_clf_1, parameters,cv=4, n_jobs=-1).fit(X_train_1, y_train_1)\n",
    "#search = RandomizedSearchCV(sgd_ppl_clf_1, \n",
    "#param_distributions=parameters, n_iter=50)\n",
    "#search.fit(X_train_1, y_train_1)\n",
    "\n",
    "\n",
    "print(\"Подборка началась...\") \n",
    "search = RandomizedSearchCV(sgd_ppl_clf, param_distributions=parameters, verbose=8, error_score='raise') \n",
    "search.fit(X_train, y_train) \n"
   ]
  },
  {
   "cell_type": "code",
   "execution_count": 19,
   "id": "d3bb4b3e",
   "metadata": {},
   "outputs": [
    {
     "name": "stdout",
     "output_type": "stream",
     "text": [
      "                   precision    recall  f1-score   support\n",
      "\n",
      "           Бизнес       0.80      0.82      0.81      1355\n",
      "      Бывший СССР       0.93      0.90      0.91      2022\n",
      "              Дом       0.94      0.93      0.94      1980\n",
      "         Из жизни       0.82      0.85      0.84      1957\n",
      "   Интернет и СМИ       0.81      0.87      0.84      1940\n",
      "         Культура       0.90      0.91      0.91      2052\n",
      "              Мир       0.87      0.84      0.86      2088\n",
      "  Наука и техника       0.92      0.92      0.92      1919\n",
      "      Путешествия       0.89      0.85      0.87       952\n",
      "           Россия       0.82      0.80      0.81      1986\n",
      "Силовые структуры       0.88      0.84      0.86      2038\n",
      "            Спорт       0.97      0.95      0.96      2017\n",
      "         Ценности       0.93      0.91      0.92      1041\n",
      "        Экономика       0.84      0.89      0.87      1931\n",
      "\n",
      "         accuracy                           0.88     25278\n",
      "        macro avg       0.88      0.88      0.88     25278\n",
      "     weighted avg       0.88      0.88      0.88     25278\n",
      "\n"
     ]
    }
   ],
   "source": [
    "sgd_ppl_clf_1 = Pipeline([\n",
    "    ('vectorizer', TfidfVectorizer(ngram_range=(1, 2), strip_accents = 'unicode')),\n",
    "    ('model', SGDClassifier(penalty='l2', class_weight=None, loss='perceptron', random_state=42))])\n",
    "sgd_ppl_clf_1.fit(X_train, y_train)\n",
    "predicted_sgd = sgd_ppl_clf_1.predict(X_test)\n",
    "print(metrics.classification_report(predicted_sgd, y_test))"
   ]
  },
  {
   "cell_type": "code",
   "execution_count": 20,
   "id": "055007e0",
   "metadata": {},
   "outputs": [
    {
     "name": "stdout",
     "output_type": "stream",
     "text": [
      "                   precision    recall  f1-score   support\n",
      "\n",
      "           Бизнес       0.76      0.72      0.74      1462\n",
      "      Бывший СССР       0.90      0.86      0.88      2065\n",
      "              Дом       0.91      0.91      0.91      1974\n",
      "         Из жизни       0.76      0.81      0.78      1904\n",
      "   Интернет и СМИ       0.77      0.81      0.79      1950\n",
      "         Культура       0.91      0.87      0.89      2167\n",
      "              Мир       0.84      0.80      0.82      2104\n",
      "  Наука и техника       0.88      0.89      0.89      1901\n",
      "      Путешествия       0.90      0.79      0.84      1027\n",
      "           Россия       0.69      0.81      0.74      1650\n",
      "Силовые структуры       0.85      0.78      0.81      2119\n",
      "            Спорт       0.97      0.94      0.95      2053\n",
      "         Ценности       0.88      0.87      0.88      1033\n",
      "        Экономика       0.78      0.86      0.82      1869\n",
      "\n",
      "         accuracy                           0.84     25278\n",
      "        macro avg       0.84      0.84      0.84     25278\n",
      "     weighted avg       0.84      0.84      0.84     25278\n",
      "\n"
     ]
    }
   ],
   "source": [
    "sgd_ppl_clf_1 = Pipeline([\n",
    "    ('vectorizer', TfidfVectorizer(ngram_range=(1, 2), strip_accents = 'unicode')),\n",
    "    ('model', SGDClassifier(penalty='elasticnet', class_weight='balanced', loss='modified_huber', random_state=42))])\n",
    "sgd_ppl_clf_1.fit(X_train, y_train)\n",
    "predicted_sgd = sgd_ppl_clf_1.predict(X_test)\n",
    "print(metrics.classification_report(predicted_sgd, y_test))"
   ]
  },
  {
   "cell_type": "code",
   "execution_count": 21,
   "id": "03404208",
   "metadata": {},
   "outputs": [
    {
     "name": "stdout",
     "output_type": "stream",
     "text": [
      "                   precision    recall  f1-score   support\n",
      "\n",
      "           Бизнес       0.58      0.60      0.59      1345\n",
      "      Бывший СССР       0.82      0.77      0.79      2113\n",
      "              Дом       0.85      0.84      0.84      1994\n",
      "         Из жизни       0.68      0.59      0.63      2370\n",
      "   Интернет и СМИ       0.68      0.71      0.69      1979\n",
      "         Культура       0.83      0.80      0.81      2146\n",
      "              Мир       0.66      0.65      0.65      2043\n",
      "  Наука и техника       0.79      0.82      0.81      1848\n",
      "      Путешествия       0.72      0.78      0.75       837\n",
      "           Россия       0.54      0.63      0.58      1650\n",
      "Силовые структуры       0.75      0.65      0.70      2230\n",
      "            Спорт       0.94      0.90      0.92      2067\n",
      "         Ценности       0.68      0.87      0.77       806\n",
      "        Экономика       0.68      0.76      0.72      1850\n",
      "\n",
      "         accuracy                           0.73     25278\n",
      "        macro avg       0.73      0.74      0.73     25278\n",
      "     weighted avg       0.74      0.73      0.73     25278\n",
      "\n"
     ]
    }
   ],
   "source": [
    "sgd_ppl_clf_1 = Pipeline([\n",
    "    ('vectorizer', TfidfVectorizer(ngram_range=(1, 2), strip_accents = 'unicode')),\n",
    "    ('model', SGDClassifier(penalty='l1', class_weight=None, loss='log', random_state=42))])\n",
    "sgd_ppl_clf_1.fit(X_train, y_train)\n",
    "predicted_sgd = sgd_ppl_clf_1.predict(X_test)\n",
    "print(metrics.classification_report(predicted_sgd, y_test))"
   ]
  },
  {
   "cell_type": "code",
   "execution_count": 20,
   "id": "5811ec6e",
   "metadata": {},
   "outputs": [],
   "source": [
    "from sklearn.ensemble import RandomForestClassifier\n",
    "rndf_ppl_clf = Pipeline([\n",
    "    ('vectorizer', TfidfVectorizer()),\n",
    "    ('model', RandomForestClassifier())])\n"
   ]
  },
  {
   "cell_type": "code",
   "execution_count": 21,
   "id": "d87e284b",
   "metadata": {},
   "outputs": [
    {
     "name": "stdout",
     "output_type": "stream",
     "text": [
      "                   precision    recall  f1-score   support\n",
      "\n",
      "           Бизнес       0.66      0.77      0.71      1195\n",
      "      Бывший СССР       0.87      0.81      0.84      2123\n",
      "              Дом       0.89      0.87      0.88      2006\n",
      "         Из жизни       0.76      0.70      0.73      2191\n",
      "   Интернет и СМИ       0.69      0.77      0.72      1854\n",
      "         Культура       0.87      0.83      0.85      2171\n",
      "              Мир       0.78      0.75      0.76      2097\n",
      "  Наука и техника       0.86      0.88      0.87      1887\n",
      "      Путешествия       0.73      0.83      0.78       796\n",
      "           Россия       0.59      0.78      0.67      1458\n",
      "Силовые структуры       0.83      0.72      0.77      2273\n",
      "            Спорт       0.98      0.90      0.93      2155\n",
      "         Ценности       0.82      0.93      0.87       905\n",
      "        Экономика       0.82      0.78      0.80      2167\n",
      "\n",
      "         accuracy                           0.80     25278\n",
      "        macro avg       0.80      0.81      0.80     25278\n",
      "     weighted avg       0.81      0.80      0.80     25278\n",
      "\n"
     ]
    }
   ],
   "source": [
    "rndf_ppl_clf.fit(X_train, y_train)\n",
    "predicted_rndf = rndf_ppl_clf.predict(X_test)\n",
    "print(metrics.classification_report(predicted_rndf, y_test))"
   ]
  },
  {
   "cell_type": "code",
   "execution_count": 22,
   "id": "d911ec2c",
   "metadata": {},
   "outputs": [
    {
     "name": "stdout",
     "output_type": "stream",
     "text": [
      "Fitting 3 folds for each of 100 candidates, totalling 300 fits\n"
     ]
    },
    {
     "ename": "BrokenProcessPool",
     "evalue": "A task has failed to un-serialize. Please ensure that the arguments of the function are all picklable.",
     "output_type": "error",
     "traceback": [
      "\u001b[1;31m---------------------------------------------------------------------------\u001b[0m",
      "\u001b[1;31m_RemoteTraceback\u001b[0m                          Traceback (most recent call last)",
      "\u001b[1;31m_RemoteTraceback\u001b[0m: \n\"\"\"\nTraceback (most recent call last):\n  File \"C:\\ProgramData\\Anaconda3\\lib\\site-packages\\joblib\\externals\\loky\\process_executor.py\", line 404, in _process_worker\n    call_item = call_queue.get(block=True, timeout=timeout)\n  File \"C:\\ProgramData\\Anaconda3\\lib\\multiprocessing\\queues.py\", line 116, in get\n    return _ForkingPickler.loads(res)\nMemoryError\n\"\"\"",
      "\nThe above exception was the direct cause of the following exception:\n",
      "\u001b[1;31mBrokenProcessPool\u001b[0m                         Traceback (most recent call last)",
      "\u001b[1;32m<ipython-input-22-1971ba0ad929>\u001b[0m in \u001b[0;36m<module>\u001b[1;34m\u001b[0m\n\u001b[0;32m     19\u001b[0m                         \u001b[0mn_jobs\u001b[0m\u001b[1;33m=\u001b[0m\u001b[1;33m-\u001b[0m\u001b[1;36m1\u001b[0m\u001b[1;33m,\u001b[0m\u001b[1;33m\u001b[0m\u001b[1;33m\u001b[0m\u001b[0m\n\u001b[0;32m     20\u001b[0m                         random_state=0)\n\u001b[1;32m---> 21\u001b[1;33m \u001b[0mrs\u001b[0m\u001b[1;33m.\u001b[0m\u001b[0mfit\u001b[0m\u001b[1;33m(\u001b[0m\u001b[0mX_train\u001b[0m\u001b[1;33m,\u001b[0m \u001b[0my_train\u001b[0m\u001b[1;33m)\u001b[0m\u001b[1;33m\u001b[0m\u001b[1;33m\u001b[0m\u001b[0m\n\u001b[0m\u001b[0;32m     22\u001b[0m \u001b[0mrs\u001b[0m\u001b[1;33m.\u001b[0m\u001b[0mbest_params_\u001b[0m\u001b[1;33m\u001b[0m\u001b[1;33m\u001b[0m\u001b[0m\n",
      "\u001b[1;32mC:\\ProgramData\\Anaconda3\\lib\\site-packages\\sklearn\\utils\\validation.py\u001b[0m in \u001b[0;36minner_f\u001b[1;34m(*args, **kwargs)\u001b[0m\n\u001b[0;32m     61\u001b[0m             \u001b[0mextra_args\u001b[0m \u001b[1;33m=\u001b[0m \u001b[0mlen\u001b[0m\u001b[1;33m(\u001b[0m\u001b[0margs\u001b[0m\u001b[1;33m)\u001b[0m \u001b[1;33m-\u001b[0m \u001b[0mlen\u001b[0m\u001b[1;33m(\u001b[0m\u001b[0mall_args\u001b[0m\u001b[1;33m)\u001b[0m\u001b[1;33m\u001b[0m\u001b[1;33m\u001b[0m\u001b[0m\n\u001b[0;32m     62\u001b[0m             \u001b[1;32mif\u001b[0m \u001b[0mextra_args\u001b[0m \u001b[1;33m<=\u001b[0m \u001b[1;36m0\u001b[0m\u001b[1;33m:\u001b[0m\u001b[1;33m\u001b[0m\u001b[1;33m\u001b[0m\u001b[0m\n\u001b[1;32m---> 63\u001b[1;33m                 \u001b[1;32mreturn\u001b[0m \u001b[0mf\u001b[0m\u001b[1;33m(\u001b[0m\u001b[1;33m*\u001b[0m\u001b[0margs\u001b[0m\u001b[1;33m,\u001b[0m \u001b[1;33m**\u001b[0m\u001b[0mkwargs\u001b[0m\u001b[1;33m)\u001b[0m\u001b[1;33m\u001b[0m\u001b[1;33m\u001b[0m\u001b[0m\n\u001b[0m\u001b[0;32m     64\u001b[0m \u001b[1;33m\u001b[0m\u001b[0m\n\u001b[0;32m     65\u001b[0m             \u001b[1;31m# extra_args > 0\u001b[0m\u001b[1;33m\u001b[0m\u001b[1;33m\u001b[0m\u001b[1;33m\u001b[0m\u001b[0m\n",
      "\u001b[1;32mC:\\ProgramData\\Anaconda3\\lib\\site-packages\\sklearn\\model_selection\\_search.py\u001b[0m in \u001b[0;36mfit\u001b[1;34m(self, X, y, groups, **fit_params)\u001b[0m\n\u001b[0;32m    839\u001b[0m                 \u001b[1;32mreturn\u001b[0m \u001b[0mresults\u001b[0m\u001b[1;33m\u001b[0m\u001b[1;33m\u001b[0m\u001b[0m\n\u001b[0;32m    840\u001b[0m \u001b[1;33m\u001b[0m\u001b[0m\n\u001b[1;32m--> 841\u001b[1;33m             \u001b[0mself\u001b[0m\u001b[1;33m.\u001b[0m\u001b[0m_run_search\u001b[0m\u001b[1;33m(\u001b[0m\u001b[0mevaluate_candidates\u001b[0m\u001b[1;33m)\u001b[0m\u001b[1;33m\u001b[0m\u001b[1;33m\u001b[0m\u001b[0m\n\u001b[0m\u001b[0;32m    842\u001b[0m \u001b[1;33m\u001b[0m\u001b[0m\n\u001b[0;32m    843\u001b[0m             \u001b[1;31m# multimetric is determined here because in the case of a callable\u001b[0m\u001b[1;33m\u001b[0m\u001b[1;33m\u001b[0m\u001b[1;33m\u001b[0m\u001b[0m\n",
      "\u001b[1;32mC:\\ProgramData\\Anaconda3\\lib\\site-packages\\sklearn\\model_selection\\_search.py\u001b[0m in \u001b[0;36m_run_search\u001b[1;34m(self, evaluate_candidates)\u001b[0m\n\u001b[0;32m   1617\u001b[0m     \u001b[1;32mdef\u001b[0m \u001b[0m_run_search\u001b[0m\u001b[1;33m(\u001b[0m\u001b[0mself\u001b[0m\u001b[1;33m,\u001b[0m \u001b[0mevaluate_candidates\u001b[0m\u001b[1;33m)\u001b[0m\u001b[1;33m:\u001b[0m\u001b[1;33m\u001b[0m\u001b[1;33m\u001b[0m\u001b[0m\n\u001b[0;32m   1618\u001b[0m         \u001b[1;34m\"\"\"Search n_iter candidates from param_distributions\"\"\"\u001b[0m\u001b[1;33m\u001b[0m\u001b[1;33m\u001b[0m\u001b[0m\n\u001b[1;32m-> 1619\u001b[1;33m         evaluate_candidates(ParameterSampler(\n\u001b[0m\u001b[0;32m   1620\u001b[0m             \u001b[0mself\u001b[0m\u001b[1;33m.\u001b[0m\u001b[0mparam_distributions\u001b[0m\u001b[1;33m,\u001b[0m \u001b[0mself\u001b[0m\u001b[1;33m.\u001b[0m\u001b[0mn_iter\u001b[0m\u001b[1;33m,\u001b[0m\u001b[1;33m\u001b[0m\u001b[1;33m\u001b[0m\u001b[0m\n\u001b[0;32m   1621\u001b[0m             random_state=self.random_state))\n",
      "\u001b[1;32mC:\\ProgramData\\Anaconda3\\lib\\site-packages\\sklearn\\model_selection\\_search.py\u001b[0m in \u001b[0;36mevaluate_candidates\u001b[1;34m(candidate_params, cv, more_results)\u001b[0m\n\u001b[0;32m    793\u001b[0m                               n_splits, n_candidates, n_candidates * n_splits))\n\u001b[0;32m    794\u001b[0m \u001b[1;33m\u001b[0m\u001b[0m\n\u001b[1;32m--> 795\u001b[1;33m                 out = parallel(delayed(_fit_and_score)(clone(base_estimator),\n\u001b[0m\u001b[0;32m    796\u001b[0m                                                        \u001b[0mX\u001b[0m\u001b[1;33m,\u001b[0m \u001b[0my\u001b[0m\u001b[1;33m,\u001b[0m\u001b[1;33m\u001b[0m\u001b[1;33m\u001b[0m\u001b[0m\n\u001b[0;32m    797\u001b[0m                                                        \u001b[0mtrain\u001b[0m\u001b[1;33m=\u001b[0m\u001b[0mtrain\u001b[0m\u001b[1;33m,\u001b[0m \u001b[0mtest\u001b[0m\u001b[1;33m=\u001b[0m\u001b[0mtest\u001b[0m\u001b[1;33m,\u001b[0m\u001b[1;33m\u001b[0m\u001b[1;33m\u001b[0m\u001b[0m\n",
      "\u001b[1;32mC:\\ProgramData\\Anaconda3\\lib\\site-packages\\joblib\\parallel.py\u001b[0m in \u001b[0;36m__call__\u001b[1;34m(self, iterable)\u001b[0m\n\u001b[0;32m   1052\u001b[0m \u001b[1;33m\u001b[0m\u001b[0m\n\u001b[0;32m   1053\u001b[0m             \u001b[1;32mwith\u001b[0m \u001b[0mself\u001b[0m\u001b[1;33m.\u001b[0m\u001b[0m_backend\u001b[0m\u001b[1;33m.\u001b[0m\u001b[0mretrieval_context\u001b[0m\u001b[1;33m(\u001b[0m\u001b[1;33m)\u001b[0m\u001b[1;33m:\u001b[0m\u001b[1;33m\u001b[0m\u001b[1;33m\u001b[0m\u001b[0m\n\u001b[1;32m-> 1054\u001b[1;33m                 \u001b[0mself\u001b[0m\u001b[1;33m.\u001b[0m\u001b[0mretrieve\u001b[0m\u001b[1;33m(\u001b[0m\u001b[1;33m)\u001b[0m\u001b[1;33m\u001b[0m\u001b[1;33m\u001b[0m\u001b[0m\n\u001b[0m\u001b[0;32m   1055\u001b[0m             \u001b[1;31m# Make sure that we get a last message telling us we are done\u001b[0m\u001b[1;33m\u001b[0m\u001b[1;33m\u001b[0m\u001b[1;33m\u001b[0m\u001b[0m\n\u001b[0;32m   1056\u001b[0m             \u001b[0melapsed_time\u001b[0m \u001b[1;33m=\u001b[0m \u001b[0mtime\u001b[0m\u001b[1;33m.\u001b[0m\u001b[0mtime\u001b[0m\u001b[1;33m(\u001b[0m\u001b[1;33m)\u001b[0m \u001b[1;33m-\u001b[0m \u001b[0mself\u001b[0m\u001b[1;33m.\u001b[0m\u001b[0m_start_time\u001b[0m\u001b[1;33m\u001b[0m\u001b[1;33m\u001b[0m\u001b[0m\n",
      "\u001b[1;32mC:\\ProgramData\\Anaconda3\\lib\\site-packages\\joblib\\parallel.py\u001b[0m in \u001b[0;36mretrieve\u001b[1;34m(self)\u001b[0m\n\u001b[0;32m    931\u001b[0m             \u001b[1;32mtry\u001b[0m\u001b[1;33m:\u001b[0m\u001b[1;33m\u001b[0m\u001b[1;33m\u001b[0m\u001b[0m\n\u001b[0;32m    932\u001b[0m                 \u001b[1;32mif\u001b[0m \u001b[0mgetattr\u001b[0m\u001b[1;33m(\u001b[0m\u001b[0mself\u001b[0m\u001b[1;33m.\u001b[0m\u001b[0m_backend\u001b[0m\u001b[1;33m,\u001b[0m \u001b[1;34m'supports_timeout'\u001b[0m\u001b[1;33m,\u001b[0m \u001b[1;32mFalse\u001b[0m\u001b[1;33m)\u001b[0m\u001b[1;33m:\u001b[0m\u001b[1;33m\u001b[0m\u001b[1;33m\u001b[0m\u001b[0m\n\u001b[1;32m--> 933\u001b[1;33m                     \u001b[0mself\u001b[0m\u001b[1;33m.\u001b[0m\u001b[0m_output\u001b[0m\u001b[1;33m.\u001b[0m\u001b[0mextend\u001b[0m\u001b[1;33m(\u001b[0m\u001b[0mjob\u001b[0m\u001b[1;33m.\u001b[0m\u001b[0mget\u001b[0m\u001b[1;33m(\u001b[0m\u001b[0mtimeout\u001b[0m\u001b[1;33m=\u001b[0m\u001b[0mself\u001b[0m\u001b[1;33m.\u001b[0m\u001b[0mtimeout\u001b[0m\u001b[1;33m)\u001b[0m\u001b[1;33m)\u001b[0m\u001b[1;33m\u001b[0m\u001b[1;33m\u001b[0m\u001b[0m\n\u001b[0m\u001b[0;32m    934\u001b[0m                 \u001b[1;32melse\u001b[0m\u001b[1;33m:\u001b[0m\u001b[1;33m\u001b[0m\u001b[1;33m\u001b[0m\u001b[0m\n\u001b[0;32m    935\u001b[0m                     \u001b[0mself\u001b[0m\u001b[1;33m.\u001b[0m\u001b[0m_output\u001b[0m\u001b[1;33m.\u001b[0m\u001b[0mextend\u001b[0m\u001b[1;33m(\u001b[0m\u001b[0mjob\u001b[0m\u001b[1;33m.\u001b[0m\u001b[0mget\u001b[0m\u001b[1;33m(\u001b[0m\u001b[1;33m)\u001b[0m\u001b[1;33m)\u001b[0m\u001b[1;33m\u001b[0m\u001b[1;33m\u001b[0m\u001b[0m\n",
      "\u001b[1;32mC:\\ProgramData\\Anaconda3\\lib\\site-packages\\joblib\\_parallel_backends.py\u001b[0m in \u001b[0;36mwrap_future_result\u001b[1;34m(future, timeout)\u001b[0m\n\u001b[0;32m    540\u001b[0m         AsyncResults.get from multiprocessing.\"\"\"\n\u001b[0;32m    541\u001b[0m         \u001b[1;32mtry\u001b[0m\u001b[1;33m:\u001b[0m\u001b[1;33m\u001b[0m\u001b[1;33m\u001b[0m\u001b[0m\n\u001b[1;32m--> 542\u001b[1;33m             \u001b[1;32mreturn\u001b[0m \u001b[0mfuture\u001b[0m\u001b[1;33m.\u001b[0m\u001b[0mresult\u001b[0m\u001b[1;33m(\u001b[0m\u001b[0mtimeout\u001b[0m\u001b[1;33m=\u001b[0m\u001b[0mtimeout\u001b[0m\u001b[1;33m)\u001b[0m\u001b[1;33m\u001b[0m\u001b[1;33m\u001b[0m\u001b[0m\n\u001b[0m\u001b[0;32m    543\u001b[0m         \u001b[1;32mexcept\u001b[0m \u001b[0mCfTimeoutError\u001b[0m \u001b[1;32mas\u001b[0m \u001b[0me\u001b[0m\u001b[1;33m:\u001b[0m\u001b[1;33m\u001b[0m\u001b[1;33m\u001b[0m\u001b[0m\n\u001b[0;32m    544\u001b[0m             \u001b[1;32mraise\u001b[0m \u001b[0mTimeoutError\u001b[0m \u001b[1;32mfrom\u001b[0m \u001b[0me\u001b[0m\u001b[1;33m\u001b[0m\u001b[1;33m\u001b[0m\u001b[0m\n",
      "\u001b[1;32mC:\\ProgramData\\Anaconda3\\lib\\concurrent\\futures\\_base.py\u001b[0m in \u001b[0;36mresult\u001b[1;34m(self, timeout)\u001b[0m\n\u001b[0;32m    437\u001b[0m                 \u001b[1;32mraise\u001b[0m \u001b[0mCancelledError\u001b[0m\u001b[1;33m(\u001b[0m\u001b[1;33m)\u001b[0m\u001b[1;33m\u001b[0m\u001b[1;33m\u001b[0m\u001b[0m\n\u001b[0;32m    438\u001b[0m             \u001b[1;32melif\u001b[0m \u001b[0mself\u001b[0m\u001b[1;33m.\u001b[0m\u001b[0m_state\u001b[0m \u001b[1;33m==\u001b[0m \u001b[0mFINISHED\u001b[0m\u001b[1;33m:\u001b[0m\u001b[1;33m\u001b[0m\u001b[1;33m\u001b[0m\u001b[0m\n\u001b[1;32m--> 439\u001b[1;33m                 \u001b[1;32mreturn\u001b[0m \u001b[0mself\u001b[0m\u001b[1;33m.\u001b[0m\u001b[0m__get_result\u001b[0m\u001b[1;33m(\u001b[0m\u001b[1;33m)\u001b[0m\u001b[1;33m\u001b[0m\u001b[1;33m\u001b[0m\u001b[0m\n\u001b[0m\u001b[0;32m    440\u001b[0m             \u001b[1;32melse\u001b[0m\u001b[1;33m:\u001b[0m\u001b[1;33m\u001b[0m\u001b[1;33m\u001b[0m\u001b[0m\n\u001b[0;32m    441\u001b[0m                 \u001b[1;32mraise\u001b[0m \u001b[0mTimeoutError\u001b[0m\u001b[1;33m(\u001b[0m\u001b[1;33m)\u001b[0m\u001b[1;33m\u001b[0m\u001b[1;33m\u001b[0m\u001b[0m\n",
      "\u001b[1;32mC:\\ProgramData\\Anaconda3\\lib\\concurrent\\futures\\_base.py\u001b[0m in \u001b[0;36m__get_result\u001b[1;34m(self)\u001b[0m\n\u001b[0;32m    386\u001b[0m     \u001b[1;32mdef\u001b[0m \u001b[0m__get_result\u001b[0m\u001b[1;33m(\u001b[0m\u001b[0mself\u001b[0m\u001b[1;33m)\u001b[0m\u001b[1;33m:\u001b[0m\u001b[1;33m\u001b[0m\u001b[1;33m\u001b[0m\u001b[0m\n\u001b[0;32m    387\u001b[0m         \u001b[1;32mif\u001b[0m \u001b[0mself\u001b[0m\u001b[1;33m.\u001b[0m\u001b[0m_exception\u001b[0m\u001b[1;33m:\u001b[0m\u001b[1;33m\u001b[0m\u001b[1;33m\u001b[0m\u001b[0m\n\u001b[1;32m--> 388\u001b[1;33m             \u001b[1;32mraise\u001b[0m \u001b[0mself\u001b[0m\u001b[1;33m.\u001b[0m\u001b[0m_exception\u001b[0m\u001b[1;33m\u001b[0m\u001b[1;33m\u001b[0m\u001b[0m\n\u001b[0m\u001b[0;32m    389\u001b[0m         \u001b[1;32melse\u001b[0m\u001b[1;33m:\u001b[0m\u001b[1;33m\u001b[0m\u001b[1;33m\u001b[0m\u001b[0m\n\u001b[0;32m    390\u001b[0m             \u001b[1;32mreturn\u001b[0m \u001b[0mself\u001b[0m\u001b[1;33m.\u001b[0m\u001b[0m_result\u001b[0m\u001b[1;33m\u001b[0m\u001b[1;33m\u001b[0m\u001b[0m\n",
      "\u001b[1;31mBrokenProcessPool\u001b[0m: A task has failed to un-serialize. Please ensure that the arguments of the function are all picklable."
     ]
    }
   ],
   "source": [
    "from sklearn.model_selection import RandomizedSearchCV\n",
    "n_estimators = [int(x) for x in np.linspace(start = 100, stop = 1000, num = 10)]\n",
    "max_features = ['log2', 'sqrt']\n",
    "max_depth = [int(x) for x in np.linspace(start = 1, stop = 150, num = 50)]\n",
    "min_samples_split = [int(x) for x in np.linspace(start = 2, stop = 50, num = 10)]\n",
    "min_samples_leaf = [int(x) for x in np.linspace(start = 2, stop = 50, num = 10)]\n",
    "bootstrap = [True, False]\n",
    "param_dist = {'model__n_estimators': n_estimators,\n",
    "               'model__max_features': max_features,\n",
    "               'model__max_depth': max_depth,\n",
    "               'model__min_samples_split': min_samples_split,\n",
    "               'model__min_samples_leaf': min_samples_leaf,\n",
    "               'model__bootstrap': bootstrap}\n",
    "rs = RandomizedSearchCV(rndf_ppl_clf, \n",
    "                        param_dist, \n",
    "                        n_iter = 100, \n",
    "                        cv = 3, \n",
    "                        verbose = 4, \n",
    "                        n_jobs=-1, \n",
    "                        random_state=0)\n",
    "rs.fit(X_train, y_train)\n",
    "rs.best_params_"
   ]
  },
  {
   "cell_type": "code",
   "execution_count": 19,
   "id": "e0b3a59a",
   "metadata": {},
   "outputs": [
    {
     "name": "stdout",
     "output_type": "stream",
     "text": [
      "                   precision    recall  f1-score   support\n",
      "\n",
      "           Бизнес       0.66      0.78      0.72      1179\n",
      "      Бывший СССР       0.89      0.81      0.85      2155\n",
      "              Дом       0.90      0.88      0.89      2016\n",
      "         Из жизни       0.76      0.74      0.75      2075\n",
      "   Интернет и СМИ       0.69      0.77      0.73      1854\n",
      "         Культура       0.89      0.82      0.86      2222\n",
      "              Мир       0.79      0.75      0.77      2108\n",
      "  Наука и техника       0.87      0.89      0.88      1893\n",
      "      Путешествия       0.76      0.85      0.80       811\n",
      "           Россия       0.59      0.80      0.68      1433\n",
      "Силовые структуры       0.84      0.71      0.77      2306\n",
      "            Спорт       0.98      0.89      0.93      2178\n",
      "         Ценности       0.82      0.93      0.87       908\n",
      "        Экономика       0.82      0.79      0.81      2140\n",
      "\n",
      "         accuracy                           0.81     25278\n",
      "        macro avg       0.80      0.82      0.81     25278\n",
      "     weighted avg       0.82      0.81      0.81     25278\n",
      "\n"
     ]
    }
   ],
   "source": [
    "rndf_ppl_clf = Pipeline([\n",
    "    ('vectorizer', TfidfVectorizer()),\n",
    "    ('model', RandomForestClassifier(n_estimators = 600, min_samples_split = 23, min_samples_leaf = 2, max_features = 'sqrt', bootstrap = False))])\n",
    "rndf_ppl_clf.fit(X_train, y_train)\n",
    "predicted_rndf = rndf_ppl_clf.predict(X_test)\n",
    "print(metrics.classification_report(predicted_rndf, y_test))"
   ]
  },
  {
   "cell_type": "code",
   "execution_count": 17,
   "id": "8736c9e8",
   "metadata": {},
   "outputs": [
    {
     "data": {
      "text/html": [
       "<div>\n",
       "<style scoped>\n",
       "    .dataframe tbody tr th:only-of-type {\n",
       "        vertical-align: middle;\n",
       "    }\n",
       "\n",
       "    .dataframe tbody tr th {\n",
       "        vertical-align: top;\n",
       "    }\n",
       "\n",
       "    .dataframe thead th {\n",
       "        text-align: right;\n",
       "    }\n",
       "</style>\n",
       "<table border=\"1\" class=\"dataframe\">\n",
       "  <thead>\n",
       "    <tr style=\"text-align: right;\">\n",
       "      <th></th>\n",
       "      <th>param_model__n_estimators</th>\n",
       "      <th>param_model__min_samples_split</th>\n",
       "      <th>param_model__min_samples_leaf</th>\n",
       "      <th>param_model__max_features</th>\n",
       "      <th>param_model__max_depth</th>\n",
       "      <th>param_model__bootstrap</th>\n",
       "      <th>mean_test_score</th>\n",
       "      <th>rank_test_score</th>\n",
       "    </tr>\n",
       "  </thead>\n",
       "  <tbody>\n",
       "    <tr>\n",
       "      <th>0</th>\n",
       "      <td>600</td>\n",
       "      <td>23</td>\n",
       "      <td>2</td>\n",
       "      <td>sqrt</td>\n",
       "      <td>15</td>\n",
       "      <td>False</td>\n",
       "      <td>0.712452</td>\n",
       "      <td>1</td>\n",
       "    </tr>\n",
       "    <tr>\n",
       "      <th>1</th>\n",
       "      <td>400</td>\n",
       "      <td>23</td>\n",
       "      <td>2</td>\n",
       "      <td>sqrt</td>\n",
       "      <td>14</td>\n",
       "      <td>False</td>\n",
       "      <td>0.708585</td>\n",
       "      <td>2</td>\n",
       "    </tr>\n",
       "    <tr>\n",
       "      <th>2</th>\n",
       "      <td>700</td>\n",
       "      <td>12</td>\n",
       "      <td>2</td>\n",
       "      <td>sqrt</td>\n",
       "      <td>13</td>\n",
       "      <td>False</td>\n",
       "      <td>0.702740</td>\n",
       "      <td>3</td>\n",
       "    </tr>\n",
       "    <tr>\n",
       "      <th>3</th>\n",
       "      <td>800</td>\n",
       "      <td>28</td>\n",
       "      <td>12</td>\n",
       "      <td>sqrt</td>\n",
       "      <td>14</td>\n",
       "      <td>True</td>\n",
       "      <td>0.697636</td>\n",
       "      <td>4</td>\n",
       "    </tr>\n",
       "    <tr>\n",
       "      <th>4</th>\n",
       "      <td>600</td>\n",
       "      <td>50</td>\n",
       "      <td>23</td>\n",
       "      <td>sqrt</td>\n",
       "      <td>14</td>\n",
       "      <td>False</td>\n",
       "      <td>0.695856</td>\n",
       "      <td>5</td>\n",
       "    </tr>\n",
       "    <tr>\n",
       "      <th>5</th>\n",
       "      <td>1000</td>\n",
       "      <td>34</td>\n",
       "      <td>23</td>\n",
       "      <td>sqrt</td>\n",
       "      <td>14</td>\n",
       "      <td>True</td>\n",
       "      <td>0.692464</td>\n",
       "      <td>6</td>\n",
       "    </tr>\n",
       "    <tr>\n",
       "      <th>6</th>\n",
       "      <td>500</td>\n",
       "      <td>12</td>\n",
       "      <td>18</td>\n",
       "      <td>sqrt</td>\n",
       "      <td>13</td>\n",
       "      <td>False</td>\n",
       "      <td>0.691425</td>\n",
       "      <td>7</td>\n",
       "    </tr>\n",
       "    <tr>\n",
       "      <th>7</th>\n",
       "      <td>300</td>\n",
       "      <td>18</td>\n",
       "      <td>18</td>\n",
       "      <td>sqrt</td>\n",
       "      <td>13</td>\n",
       "      <td>True</td>\n",
       "      <td>0.684868</td>\n",
       "      <td>8</td>\n",
       "    </tr>\n",
       "    <tr>\n",
       "      <th>8</th>\n",
       "      <td>400</td>\n",
       "      <td>23</td>\n",
       "      <td>12</td>\n",
       "      <td>sqrt</td>\n",
       "      <td>11</td>\n",
       "      <td>True</td>\n",
       "      <td>0.683988</td>\n",
       "      <td>9</td>\n",
       "    </tr>\n",
       "    <tr>\n",
       "      <th>9</th>\n",
       "      <td>800</td>\n",
       "      <td>44</td>\n",
       "      <td>44</td>\n",
       "      <td>sqrt</td>\n",
       "      <td>12</td>\n",
       "      <td>False</td>\n",
       "      <td>0.683681</td>\n",
       "      <td>10</td>\n",
       "    </tr>\n",
       "  </tbody>\n",
       "</table>\n",
       "</div>"
      ],
      "text/plain": [
       "  param_model__n_estimators param_model__min_samples_split  \\\n",
       "0                       600                             23   \n",
       "1                       400                             23   \n",
       "2                       700                             12   \n",
       "3                       800                             28   \n",
       "4                       600                             50   \n",
       "5                      1000                             34   \n",
       "6                       500                             12   \n",
       "7                       300                             18   \n",
       "8                       400                             23   \n",
       "9                       800                             44   \n",
       "\n",
       "  param_model__min_samples_leaf param_model__max_features  \\\n",
       "0                             2                      sqrt   \n",
       "1                             2                      sqrt   \n",
       "2                             2                      sqrt   \n",
       "3                            12                      sqrt   \n",
       "4                            23                      sqrt   \n",
       "5                            23                      sqrt   \n",
       "6                            18                      sqrt   \n",
       "7                            18                      sqrt   \n",
       "8                            12                      sqrt   \n",
       "9                            44                      sqrt   \n",
       "\n",
       "  param_model__max_depth param_model__bootstrap  mean_test_score  \\\n",
       "0                     15                  False         0.712452   \n",
       "1                     14                  False         0.708585   \n",
       "2                     13                  False         0.702740   \n",
       "3                     14                   True         0.697636   \n",
       "4                     14                  False         0.695856   \n",
       "5                     14                   True         0.692464   \n",
       "6                     13                  False         0.691425   \n",
       "7                     13                   True         0.684868   \n",
       "8                     11                   True         0.683988   \n",
       "9                     12                  False         0.683681   \n",
       "\n",
       "   rank_test_score  \n",
       "0                1  \n",
       "1                2  \n",
       "2                3  \n",
       "3                4  \n",
       "4                5  \n",
       "5                6  \n",
       "6                7  \n",
       "7                8  \n",
       "8                9  \n",
       "9               10  "
      ]
     },
     "execution_count": 17,
     "metadata": {},
     "output_type": "execute_result"
    }
   ],
   "source": [
    "rs_df = pd.DataFrame(rs.cv_results_).sort_values('rank_test_score').reset_index(drop=True)\n",
    "rs_df = rs_df.drop([\n",
    "            'mean_fit_time', \n",
    "            'std_fit_time', \n",
    "            'mean_score_time',\n",
    "            'std_score_time', \n",
    "            'params', \n",
    "            'split0_test_score', \n",
    "            'split1_test_score', \n",
    "            'split2_test_score', \n",
    "            'std_test_score'],\n",
    "            axis=1)\n",
    "rs_df.head(10)"
   ]
  },
  {
   "cell_type": "code",
   "execution_count": null,
   "id": "82a3f125",
   "metadata": {},
   "outputs": [],
   "source": []
  }
 ],
 "metadata": {
  "kernelspec": {
   "display_name": "Python 3",
   "language": "python",
   "name": "python3"
  },
  "language_info": {
   "codemirror_mode": {
    "name": "ipython",
    "version": 3
   },
   "file_extension": ".py",
   "mimetype": "text/x-python",
   "name": "python",
   "nbconvert_exporter": "python",
   "pygments_lexer": "ipython3",
   "version": "3.8.8"
  }
 },
 "nbformat": 4,
 "nbformat_minor": 5
}
