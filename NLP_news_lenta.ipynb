def x(x):
 return x

