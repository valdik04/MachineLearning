{
 "cells": [
  {
   "cell_type": "code",
   "execution_count": 3,
   "id": "ef6a95f2",
   "metadata": {},
   "outputs": [
    {
     "name": "stderr",
     "output_type": "stream",
     "text": [
      "[nltk_data] Downloading package stopwords to\n",
      "[nltk_data]     C:\\Users\\Владислав\\AppData\\Roaming\\nltk_data...\n",
      "[nltk_data]   Package stopwords is already up-to-date!\n",
      "[nltk_data] Downloading package punkt to\n",
      "[nltk_data]     C:\\Users\\Владислав\\AppData\\Roaming\\nltk_data...\n",
      "[nltk_data]   Package punkt is already up-to-date!\n"
     ]
    }
   ],
   "source": [
    "import pandas as pd\n",
    "import json\n",
    "import seaborn as sns\n",
    "import re\n",
    "from sklearn.model_selection import train_test_split\n",
    "import nltk\n",
    "nltk.download('stopwords')\n",
    "import string\n",
    "from nltk.corpus import stopwords\n",
    "from nltk.tokenize import word_tokenize\n",
    "from nltk.stem import SnowballStemmer\n",
    "nltk.download('punkt')\n",
    "from sklearn.pipeline import Pipeline\n",
    "from sklearn.linear_model import LogisticRegression\n",
    "from sklearn.feature_extraction.text import TfidfVectorizer\n",
    "from sklearn.metrics import precision_score, recall_score, precision_recall_curve\n",
    "from matplotlib import pyplot as plt\n",
    "import numpy as np\n",
    "from sklearn.decomposition import TruncatedSVD\n",
    "from sklearn.feature_extraction.text import TfidfVectorizer\n",
    "from sklearn.feature_extraction.text import CountVectorizer\n",
    "from sklearn.metrics import classification_report\n",
    "from sklearn.model_selection import RandomizedSearchCV\n",
    "from sklearn.pipeline import Pipeline\n",
    "import os\n",
    "os.chdir(\"/Users/Владислав/Data science\")"
   ]
  },
  {
   "cell_type": "code",
   "execution_count": 4,
   "id": "379e3800",
   "metadata": {},
   "outputs": [],
   "source": [
    "df = pd.read_csv('lenta-ru-news.csv')"
   ]
  },
  {
   "cell_type": "code",
   "execution_count": 5,
   "id": "77446c14",
   "metadata": {},
   "outputs": [
    {
     "data": {
      "text/html": [
       "<div>\n",
       "<style scoped>\n",
       "    .dataframe tbody tr th:only-of-type {\n",
       "        vertical-align: middle;\n",
       "    }\n",
       "\n",
       "    .dataframe tbody tr th {\n",
       "        vertical-align: top;\n",
       "    }\n",
       "\n",
       "    .dataframe thead th {\n",
       "        text-align: right;\n",
       "    }\n",
       "</style>\n",
       "<table border=\"1\" class=\"dataframe\">\n",
       "  <thead>\n",
       "    <tr style=\"text-align: right;\">\n",
       "      <th></th>\n",
       "      <th>url</th>\n",
       "      <th>title</th>\n",
       "      <th>text</th>\n",
       "      <th>topic</th>\n",
       "      <th>tags</th>\n",
       "    </tr>\n",
       "  </thead>\n",
       "  <tbody>\n",
       "    <tr>\n",
       "      <th>0</th>\n",
       "      <td>https://lenta.ru/news/2018/12/14/cancer/</td>\n",
       "      <td>Названы регионы России с самой высокой смертно...</td>\n",
       "      <td>Вице-премьер по социальным вопросам Татьяна Го...</td>\n",
       "      <td>Россия</td>\n",
       "      <td>Общество</td>\n",
       "    </tr>\n",
       "    <tr>\n",
       "      <th>1</th>\n",
       "      <td>https://lenta.ru/news/2018/12/15/doping/</td>\n",
       "      <td>Австрия не представила доказательств вины росс...</td>\n",
       "      <td>Австрийские правоохранительные органы не предс...</td>\n",
       "      <td>Спорт</td>\n",
       "      <td>Зимние виды</td>\n",
       "    </tr>\n",
       "    <tr>\n",
       "      <th>2</th>\n",
       "      <td>https://lenta.ru/news/2018/12/15/disneyland/</td>\n",
       "      <td>Обнаружено самое счастливое место на планете</td>\n",
       "      <td>Сотрудники социальной сети Instagram проанализ...</td>\n",
       "      <td>Путешествия</td>\n",
       "      <td>Мир</td>\n",
       "    </tr>\n",
       "    <tr>\n",
       "      <th>3</th>\n",
       "      <td>https://lenta.ru/news/2018/12/15/usa25/</td>\n",
       "      <td>В США раскрыли сумму расходов на расследование...</td>\n",
       "      <td>С начала расследования российского вмешательст...</td>\n",
       "      <td>Мир</td>\n",
       "      <td>Политика</td>\n",
       "    </tr>\n",
       "    <tr>\n",
       "      <th>4</th>\n",
       "      <td>https://lenta.ru/news/2018/12/15/integrity/</td>\n",
       "      <td>Хакеры рассказали о планах Великобритании зами...</td>\n",
       "      <td>Хакерская группировка Anonymous опубликовала н...</td>\n",
       "      <td>Мир</td>\n",
       "      <td>Общество</td>\n",
       "    </tr>\n",
       "  </tbody>\n",
       "</table>\n",
       "</div>"
      ],
      "text/plain": [
       "                                            url  \\\n",
       "0      https://lenta.ru/news/2018/12/14/cancer/   \n",
       "1      https://lenta.ru/news/2018/12/15/doping/   \n",
       "2  https://lenta.ru/news/2018/12/15/disneyland/   \n",
       "3       https://lenta.ru/news/2018/12/15/usa25/   \n",
       "4   https://lenta.ru/news/2018/12/15/integrity/   \n",
       "\n",
       "                                               title  \\\n",
       "0  Названы регионы России с самой высокой смертно...   \n",
       "1  Австрия не представила доказательств вины росс...   \n",
       "2       Обнаружено самое счастливое место на планете   \n",
       "3  В США раскрыли сумму расходов на расследование...   \n",
       "4  Хакеры рассказали о планах Великобритании зами...   \n",
       "\n",
       "                                                text        topic         tags  \n",
       "0  Вице-премьер по социальным вопросам Татьяна Го...       Россия     Общество  \n",
       "1  Австрийские правоохранительные органы не предс...        Спорт  Зимние виды  \n",
       "2  Сотрудники социальной сети Instagram проанализ...  Путешествия          Мир  \n",
       "3  С начала расследования российского вмешательст...          Мир     Политика  \n",
       "4  Хакерская группировка Anonymous опубликовала н...          Мир     Общество  "
      ]
     },
     "execution_count": 5,
     "metadata": {},
     "output_type": "execute_result"
    }
   ],
   "source": [
    "df.head()"
   ]
  },
  {
   "cell_type": "code",
   "execution_count": 6,
   "id": "7428280d",
   "metadata": {},
   "outputs": [
    {
     "data": {
      "text/plain": [
       "Россия               160519\n",
       "Мир                  136680\n",
       "Экономика             79538\n",
       "Спорт                 64421\n",
       "Культура              53803\n",
       "Бывший СССР           53402\n",
       "Наука и техника       53136\n",
       "Интернет и СМИ        44675\n",
       "Из жизни              27611\n",
       "Дом                   21734\n",
       "Силовые структуры     19596\n",
       "Ценности               7766\n",
       "Бизнес                 7399\n",
       "Путешествия            6408\n",
       "69-я параллель         1268\n",
       "Крым                    666\n",
       "Культпросвет            340\n",
       "Легпром                 114\n",
       "Библиотека               65\n",
       "Оружие                    3\n",
       "ЧМ-2014                   2\n",
       "Сочи                      1\n",
       "МедНовости                1\n",
       "Name: topic, dtype: int64"
      ]
     },
     "execution_count": 6,
     "metadata": {},
     "output_type": "execute_result"
    }
   ],
   "source": [
    "df.topic.value_counts()"
   ]
  },
  {
   "cell_type": "code",
   "execution_count": 7,
   "id": "c5852178",
   "metadata": {},
   "outputs": [
    {
     "data": {
      "text/html": [
       "<div>\n",
       "<style scoped>\n",
       "    .dataframe tbody tr th:only-of-type {\n",
       "        vertical-align: middle;\n",
       "    }\n",
       "\n",
       "    .dataframe tbody tr th {\n",
       "        vertical-align: top;\n",
       "    }\n",
       "\n",
       "    .dataframe thead th {\n",
       "        text-align: right;\n",
       "    }\n",
       "</style>\n",
       "<table border=\"1\" class=\"dataframe\">\n",
       "  <thead>\n",
       "    <tr style=\"text-align: right;\">\n",
       "      <th></th>\n",
       "      <th>title</th>\n",
       "      <th>text</th>\n",
       "      <th>topic</th>\n",
       "    </tr>\n",
       "  </thead>\n",
       "  <tbody>\n",
       "    <tr>\n",
       "      <th>0</th>\n",
       "      <td>Названы регионы России с самой высокой смертно...</td>\n",
       "      <td>Вице-премьер по социальным вопросам Татьяна Го...</td>\n",
       "      <td>Россия</td>\n",
       "    </tr>\n",
       "    <tr>\n",
       "      <th>1</th>\n",
       "      <td>Австрия не представила доказательств вины росс...</td>\n",
       "      <td>Австрийские правоохранительные органы не предс...</td>\n",
       "      <td>Спорт</td>\n",
       "    </tr>\n",
       "    <tr>\n",
       "      <th>2</th>\n",
       "      <td>Обнаружено самое счастливое место на планете</td>\n",
       "      <td>Сотрудники социальной сети Instagram проанализ...</td>\n",
       "      <td>Путешествия</td>\n",
       "    </tr>\n",
       "    <tr>\n",
       "      <th>3</th>\n",
       "      <td>В США раскрыли сумму расходов на расследование...</td>\n",
       "      <td>С начала расследования российского вмешательст...</td>\n",
       "      <td>Мир</td>\n",
       "    </tr>\n",
       "    <tr>\n",
       "      <th>4</th>\n",
       "      <td>Хакеры рассказали о планах Великобритании зами...</td>\n",
       "      <td>Хакерская группировка Anonymous опубликовала н...</td>\n",
       "      <td>Мир</td>\n",
       "    </tr>\n",
       "  </tbody>\n",
       "</table>\n",
       "</div>"
      ],
      "text/plain": [
       "                                               title  \\\n",
       "0  Названы регионы России с самой высокой смертно...   \n",
       "1  Австрия не представила доказательств вины росс...   \n",
       "2       Обнаружено самое счастливое место на планете   \n",
       "3  В США раскрыли сумму расходов на расследование...   \n",
       "4  Хакеры рассказали о планах Великобритании зами...   \n",
       "\n",
       "                                                text        topic  \n",
       "0  Вице-премьер по социальным вопросам Татьяна Го...       Россия  \n",
       "1  Австрийские правоохранительные органы не предс...        Спорт  \n",
       "2  Сотрудники социальной сети Instagram проанализ...  Путешествия  \n",
       "3  С начала расследования российского вмешательст...          Мир  \n",
       "4  Хакерская группировка Anonymous опубликовала н...          Мир  "
      ]
     },
     "execution_count": 7,
     "metadata": {},
     "output_type": "execute_result"
    }
   ],
   "source": [
    "df.drop(['url', 'tags'], axis = 1, inplace = True)\n",
    "df.head()"
   ]
  },
  {
   "cell_type": "code",
   "execution_count": 32,
   "id": "8d8e952d",
   "metadata": {},
   "outputs": [],
   "source": [
    "df = df[(df.topic != 'Оружие') & (df.topic != 'ЧМ-2014') & (df.topic != 'МедНовости') & (df.topic != 'Сочи') & \\\n",
    "        (df.topic != 'Библиотека') & (df.topic != 'Легпром') & (df.topic != 'Культпросвет ') & (df.topic != 'Крым') & (df.topic != '69-я параллель')].reset_index(drop=True)"
   ]
  },
  {
   "cell_type": "code",
   "execution_count": 33,
   "id": "d81298fb",
   "metadata": {},
   "outputs": [
    {
     "data": {
      "text/plain": [
       "Россия               110679\n",
       "Мир                   96626\n",
       "Экономика             67255\n",
       "Наука и техника       44511\n",
       "Бывший СССР           42766\n",
       "Спорт                 36118\n",
       "Культура              36047\n",
       "Интернет и СМИ        34655\n",
       "Дом                   18357\n",
       "Из жизни              17092\n",
       "Силовые структуры     16275\n",
       "Бизнес                 6948\n",
       "Ценности               4877\n",
       "Путешествия            4563\n",
       "Name: topic, dtype: int64"
      ]
     },
     "execution_count": 33,
     "metadata": {},
     "output_type": "execute_result"
    }
   ],
   "source": [
    "df.topic.value_counts()"
   ]
  },
  {
   "cell_type": "code",
   "execution_count": 34,
   "id": "ec62d73d",
   "metadata": {},
   "outputs": [
    {
     "data": {
      "text/plain": [
       "107"
      ]
     },
     "execution_count": 34,
     "metadata": {},
     "output_type": "execute_result"
    }
   ],
   "source": [
    "df.duplicated(subset=['title','text']).sum()"
   ]
  },
  {
   "cell_type": "code",
   "execution_count": 35,
   "id": "9e660ce1",
   "metadata": {},
   "outputs": [
    {
     "name": "stdout",
     "output_type": "stream",
     "text": [
      "0\n"
     ]
    }
   ],
   "source": [
    "print(len(df[df['title'] == \"\"]))"
   ]
  },
  {
   "cell_type": "code",
   "execution_count": 36,
   "id": "6bf41b8a",
   "metadata": {},
   "outputs": [
    {
     "name": "stdout",
     "output_type": "stream",
     "text": [
      "0\n"
     ]
    }
   ],
   "source": [
    "print(len(df[df['text'] == \"\"]))"
   ]
  },
  {
   "cell_type": "code",
   "execution_count": 37,
   "id": "60e24f7f",
   "metadata": {},
   "outputs": [
    {
     "name": "stdout",
     "output_type": "stream",
     "text": [
      "0\n"
     ]
    }
   ],
   "source": [
    "print(len(df[df['topic'] == \"\"]))"
   ]
  },
  {
   "cell_type": "code",
   "execution_count": 38,
   "id": "98a7d061",
   "metadata": {},
   "outputs": [],
   "source": [
    "df.drop_duplicates(subset=['title','text'],keep='last',inplace=True)"
   ]
  },
  {
   "cell_type": "code",
   "execution_count": 39,
   "id": "fc32fa2a",
   "metadata": {},
   "outputs": [
    {
     "data": {
      "text/plain": [
       "0"
      ]
     },
     "execution_count": 39,
     "metadata": {},
     "output_type": "execute_result"
    }
   ],
   "source": [
    "df.duplicated(subset=['title','text']).sum()"
   ]
  },
  {
   "cell_type": "code",
   "execution_count": 40,
   "id": "72b5b8a5",
   "metadata": {},
   "outputs": [
    {
     "name": "stdout",
     "output_type": "stream",
     "text": [
      "0\n"
     ]
    }
   ],
   "source": [
    "print(len(df[df['topic'] == np.nan]))"
   ]
  },
  {
   "cell_type": "code",
   "execution_count": 41,
   "id": "7b02e586",
   "metadata": {},
   "outputs": [
    {
     "name": "stdout",
     "output_type": "stream",
     "text": [
      "0\n"
     ]
    }
   ],
   "source": [
    "print(len(df[df['text'] == np.nan]))"
   ]
  },
  {
   "cell_type": "code",
   "execution_count": 42,
   "id": "0430b085",
   "metadata": {},
   "outputs": [
    {
     "name": "stdout",
     "output_type": "stream",
     "text": [
      "0\n"
     ]
    }
   ],
   "source": [
    "print(len(df[df['title'] == np.nan]))"
   ]
  },
  {
   "cell_type": "code",
   "execution_count": 43,
   "id": "e5612b0c",
   "metadata": {},
   "outputs": [
    {
     "data": {
      "text/html": [
       "<div>\n",
       "<style scoped>\n",
       "    .dataframe tbody tr th:only-of-type {\n",
       "        vertical-align: middle;\n",
       "    }\n",
       "\n",
       "    .dataframe tbody tr th {\n",
       "        vertical-align: top;\n",
       "    }\n",
       "\n",
       "    .dataframe thead th {\n",
       "        text-align: right;\n",
       "    }\n",
       "</style>\n",
       "<table border=\"1\" class=\"dataframe\">\n",
       "  <thead>\n",
       "    <tr style=\"text-align: right;\">\n",
       "      <th></th>\n",
       "    </tr>\n",
       "  </thead>\n",
       "  <tbody>\n",
       "  </tbody>\n",
       "</table>\n",
       "</div>"
      ],
      "text/plain": [
       "Empty DataFrame\n",
       "Columns: []\n",
       "Index: []"
      ]
     },
     "execution_count": 43,
     "metadata": {},
     "output_type": "execute_result"
    }
   ],
   "source": [
    "row_mask=df.isnull().any(axis=1)\n",
    "col_mask=df.isnull().any(axis=0)\n",
    "df.loc[row_mask,col_mask]"
   ]
  },
  {
   "cell_type": "code",
   "execution_count": 44,
   "id": "7fdbfed6",
   "metadata": {},
   "outputs": [],
   "source": [
    "df = df.drop(index=df.loc[row_mask,col_mask].index)"
   ]
  },
  {
   "cell_type": "code",
   "execution_count": 45,
   "id": "8ea4f5fc",
   "metadata": {},
   "outputs": [
    {
     "data": {
      "text/html": [
       "<div>\n",
       "<style scoped>\n",
       "    .dataframe tbody tr th:only-of-type {\n",
       "        vertical-align: middle;\n",
       "    }\n",
       "\n",
       "    .dataframe tbody tr th {\n",
       "        vertical-align: top;\n",
       "    }\n",
       "\n",
       "    .dataframe thead th {\n",
       "        text-align: right;\n",
       "    }\n",
       "</style>\n",
       "<table border=\"1\" class=\"dataframe\">\n",
       "  <thead>\n",
       "    <tr style=\"text-align: right;\">\n",
       "      <th></th>\n",
       "    </tr>\n",
       "  </thead>\n",
       "  <tbody>\n",
       "  </tbody>\n",
       "</table>\n",
       "</div>"
      ],
      "text/plain": [
       "Empty DataFrame\n",
       "Columns: []\n",
       "Index: []"
      ]
     },
     "execution_count": 45,
     "metadata": {},
     "output_type": "execute_result"
    }
   ],
   "source": [
    "row_mask=df.isnull().any(axis=1)\n",
    "col_mask=df.isnull().any(axis=0)\n",
    "df.loc[row_mask,col_mask]"
   ]
  },
  {
   "cell_type": "code",
   "execution_count": 46,
   "id": "6ab87b4f",
   "metadata": {},
   "outputs": [
    {
     "data": {
      "image/png": "[encoded data removed]",
      "text/plain": [
       "<Figure size 1440x720 with 1 Axes>"
      ]
     },
     "metadata": {
      "needs_background": "light"
     },
     "output_type": "display_data"
    }
   ],
   "source": [
    "plt.figure(figsize=(20,10))\n",
    "count = df.topic.value_counts()\n",
    "sns.barplot(x=count.index, y=count)\n",
    "plt.xlabel('Category')\n",
    "plt.ylabel('Count')\n",
    "plt.xticks(rotation=90);"
   ]
  },
  {
   "cell_type": "code",
   "execution_count": 47,
   "id": "31b2a2fa",
   "metadata": {},
   "outputs": [
    {
     "data": {
      "text/plain": [
       "132"
      ]
     },
     "execution_count": 47,
     "metadata": {},
     "output_type": "execute_result"
    }
   ],
   "source": [
    "df['title'].astype(str).apply(len).max()"
   ]
  },
  {
   "cell_type": "code",
   "execution_count": 48,
   "id": "d5fc2dc5",
   "metadata": {},
   "outputs": [
    {
     "data": {
      "text/plain": [
       "13"
      ]
     },
     "execution_count": 48,
     "metadata": {},
     "output_type": "execute_result"
    }
   ],
   "source": [
    "df['title'].astype(str).apply(len).min()"
   ]
  },
  {
   "cell_type": "code",
   "execution_count": 49,
   "id": "c88ec681",
   "metadata": {},
   "outputs": [
    {
     "data": {
      "text/plain": [
       "4993"
      ]
     },
     "execution_count": 49,
     "metadata": {},
     "output_type": "execute_result"
    }
   ],
   "source": [
    "df['text'].astype(str).apply(len).max()"
   ]
  },
  {
   "cell_type": "code",
   "execution_count": 50,
   "id": "2a2d2a74",
   "metadata": {},
   "outputs": [
    {
     "data": {
      "text/plain": [
       "1001"
      ]
     },
     "execution_count": 50,
     "metadata": {},
     "output_type": "execute_result"
    }
   ],
   "source": [
    "df['text'].astype(str).apply(len).min()"
   ]
  },
  {
   "cell_type": "code",
   "execution_count": 51,
   "id": "5605dda8",
   "metadata": {},
   "outputs": [],
   "source": [
    "df = df[(df['text'].astype(str).apply(len) < 5000) &  (df['text'].astype(str).apply(len) > 1000)].reset_index(drop=True)"
   ]
  },
  {
   "cell_type": "code",
   "execution_count": 52,
   "id": "70e01325",
   "metadata": {},
   "outputs": [],
   "source": [
    "df_mini = df[df.topic != 'Россия'].append(df[df.topic == 'Россия'].head(10000))"
   ]
  },
  {
   "cell_type": "code",
   "execution_count": 53,
   "id": "339edb6e",
   "metadata": {},
   "outputs": [],
   "source": [
    "df_mini = df_mini[df_mini.topic != 'Мир'].append(df_mini[df_mini.topic == 'Мир'].head(10000))"
   ]
  },
  {
   "cell_type": "code",
   "execution_count": 54,
   "id": "ce15c2d1",
   "metadata": {},
   "outputs": [],
   "source": [
    "df_mini = df_mini[df_mini.topic != 'Экономика'].append(df_mini[df_mini.topic == 'Экономика'].head(10000))"
   ]
  },
  {
   "cell_type": "code",
   "execution_count": 55,
   "id": "27c0ac6b",
   "metadata": {},
   "outputs": [],
   "source": [
    "df_mini = df_mini[df_mini.topic != 'Спорт'].append(df_mini[df_mini.topic == 'Спорт'].head(10000))"
   ]
  },
  {
   "cell_type": "code",
   "execution_count": 56,
   "id": "dcf02014",
   "metadata": {},
   "outputs": [],
   "source": [
    "df_mini = df_mini[df_mini.topic != 'Культура'].append(df_mini[df_mini.topic == 'Культура'].head(10000))"
   ]
  },
  {
   "cell_type": "code",
   "execution_count": 57,
   "id": "4cf4ad5a",
   "metadata": {},
   "outputs": [],
   "source": [
    "df_mini = df_mini[df_mini.topic != 'Бывший СССР'].append(df_mini[df_mini.topic == 'Бывший СССР'].head(10000))"
   ]
  },
  {
   "cell_type": "code",
   "execution_count": 58,
   "id": "510af88f",
   "metadata": {},
   "outputs": [],
   "source": [
    "df_mini = df_mini[df_mini.topic != 'Наука и техника'].append(df_mini[df_mini.topic == 'Наука и техника'].head(10000))"
   ]
  },
  {
   "cell_type": "code",
   "execution_count": 59,
   "id": "35aa062b",
   "metadata": {},
   "outputs": [],
   "source": [
    "df_mini = df_mini[df_mini.topic != 'Интернет и СМИ'].append(df_mini[df_mini.topic == 'Интернет и СМИ'].head(10000))"
   ]
  },
  {
   "cell_type": "code",
   "execution_count": 60,
   "id": "3f5dc63c",
   "metadata": {},
   "outputs": [],
   "source": [
    "df_mini = df_mini[df_mini.topic != 'Из жизни'].append(df_mini[df_mini.topic == 'Из жизни'].head(10000))"
   ]
  },
  {
   "cell_type": "code",
   "execution_count": 61,
   "id": "b61d8c0b",
   "metadata": {},
   "outputs": [],
   "source": [
    "df_mini = df_mini[df_mini.topic != 'Дом'].append(df_mini[df_mini.topic == 'Дом'].head(10000))"
   ]
  },
  {
   "cell_type": "code",
   "execution_count": 62,
   "id": "c8a54465",
   "metadata": {},
   "outputs": [],
   "source": [
    "df_mini = df_mini[df_mini.topic != 'Силовые структуры'].append(df_mini[df_mini.topic == 'Силовые структуры'].head(10000)).reset_index(drop=True)"
   ]
  },
  {
   "cell_type": "code",
   "execution_count": 63,
   "id": "def44a42",
   "metadata": {},
   "outputs": [
    {
     "data": {
      "image/png": "[encoded data removed]",
      "text/plain": [
       "<Figure size 1440x720 with 1 Axes>"
      ]
     },
     "metadata": {
      "needs_background": "light"
     },
     "output_type": "display_data"
    }
   ],
   "source": [
    "plt.figure(figsize=(20,10))\n",
    "count = df_mini.topic.value_counts()\n",
    "sns.barplot(x=count.index, y=count)\n",
    "plt.xlabel('Category')\n",
    "plt.ylabel('Count')\n",
    "plt.xticks(rotation=90);"
   ]
  },
  {
   "cell_type": "code",
   "execution_count": 64,
   "id": "87dbd352",
   "metadata": {},
   "outputs": [
    {
     "data": {
      "text/plain": [
       "<AxesSubplot:>"
      ]
     },
     "execution_count": 64,
     "metadata": {},
     "output_type": "execute_result"
    },
    {
     "data": {
      "image/png": "[encoded data removed]",
      "text/plain": [
       "<Figure size 432x288 with 1 Axes>"
      ]
     },
     "metadata": {
      "needs_background": "light"
     },
     "output_type": "display_data"
    }
   ],
   "source": [
    "df_mini['text'].astype(str).apply(len).plot()"
   ]
  },
  {
   "cell_type": "code",
   "execution_count": 52,
   "id": "8ef347b7",
   "metadata": {},
   "outputs": [],
   "source": [
    "df_mini['Text_cleaning'] = df_mini['title'].astype(str) + ' '+ df_mini['text'].astype(str)"
   ]
  },
  {
   "cell_type": "code",
   "execution_count": 54,
   "id": "87bdf11a",
   "metadata": {},
   "outputs": [],
   "source": [
    "df_mini.drop(['title', 'text'], axis = 1, inplace = True)"
   ]
  },
  {
   "cell_type": "code",
   "execution_count": 64,
   "id": "4b7e8a13",
   "metadata": {},
   "outputs": [
    {
     "name": "stdout",
     "output_type": "stream",
     "text": [
      "Collecting pymorphy2Note: you may need to restart the kernel to use updated packages.\n",
      "\n",
      "  Downloading pymorphy2-0.9.1-py3-none-any.whl (55 kB)\n",
      "Collecting docopt>=0.6\n",
      "  Downloading docopt-0.6.2.tar.gz (25 kB)\n",
      "Collecting dawg-python>=0.7.1\n",
      "  Downloading DAWG_Python-0.7.2-py2.py3-none-any.whl (11 kB)\n",
      "Collecting pymorphy2-dicts-ru<3.0,>=2.4\n",
      "  Downloading pymorphy2_dicts_ru-2.4.417127.4579844-py2.py3-none-any.whl (8.2 MB)\n",
      "Building wheels for collected packages: docopt\n",
      "  Building wheel for docopt (setup.py): started\n",
      "  Building wheel for docopt (setup.py): finished with status 'done'\n",
      "  Created wheel for docopt: filename=docopt-0.6.2-py2.py3-none-any.whl size=13705 sha256=a6f394fecd070a498dce8969b76d338afbad74913c1d85da435053bf95341d16\n",
      "  Stored in directory: c:\\users\\владислав\\appdata\\local\\pip\\cache\\wheels\\56\\ea\\58\\ead137b087d9e326852a851351d1debf4ada529b6ac0ec4e8c\n",
      "Successfully built docopt\n",
      "Installing collected packages: pymorphy2-dicts-ru, docopt, dawg-python, pymorphy2\n",
      "Successfully installed dawg-python-0.7.2 docopt-0.6.2 pymorphy2-0.9.1 pymorphy2-dicts-ru-2.4.417127.4579844\n"
     ]
    }
   ],
   "source": [
    "pip install pymorphy2\n",
    "import pymorphy2\n",
    "morph = pymorphy2.MorphAnalyzer()\n"
   ]
  },
  {
   "cell_type": "code",
   "execution_count": 110,
   "id": "e3b5e5ba",
   "metadata": {},
   "outputs": [],
   "source": [
    "#sentence_example = df.iloc[113]['title']\n",
    "sentence_example = 'введение платы за углеродные выбросы'\n",
    "tokens = word_tokenize(sentence_example, language = 'russian')\n",
    "token_with_out_punctuation = [i for i in tokens if (i not in string.punctuation) & (i != '—') & (i != '»') & (i != '«')]\n",
    "russian_stopwords = stopwords.words('russian')\n",
    "token_with_out_punctuation_and_stopwords = [i.lower() for i in token_with_out_punctuation if i not in russian_stopwords ]\n",
    "lem_word = [ morph.parse(i)[0].normal_form for i in token_with_out_punctuation_and_stopwords]\n",
    "snowball_stem = SnowballStemmer(language = 'russian')\n",
    "stemmed_tokens = [snowball_stem.stem(i) for i in lem_word]"
   ]
  },
  {
   "cell_type": "code",
   "execution_count": 111,
   "id": "5dc5542c",
   "metadata": {},
   "outputs": [
    {
     "name": "stdout",
     "output_type": "stream",
     "text": [
      "введение платы за углеродные выбросы\n",
      "---------------------------------------------\n",
      "['введение', 'платы', 'за', 'углеродные', 'выбросы']\n",
      "---------------------------------------------\n",
      "['введение', 'платы', 'за', 'углеродные', 'выбросы']\n",
      "---------------------------------------------\n",
      "['введение', 'платы', 'углеродные', 'выбросы']\n",
      "---------------------------------------------\n",
      "['введение', 'плата', 'углеродный', 'выброс']\n",
      "---------------------------------------------\n",
      "['введен', 'плат', 'углеродн', 'выброс']\n"
     ]
    }
   ],
   "source": [
    "print(sentence_example)\n",
    "print('---------------------------------------------')\n",
    "print(tokens)\n",
    "print('---------------------------------------------')\n",
    "print(token_with_out_punctuation)\n",
    "print('---------------------------------------------')\n",
    "print(token_with_out_punctuation_and_stopwords)\n",
    "print('---------------------------------------------')\n",
    "print(lem_word)\n",
    "print('---------------------------------------------')\n",
    "print(stemmed_tokens)"
   ]
  },
  {
   "cell_type": "code",
   "execution_count": 74,
   "id": "0b44c9e5",
   "metadata": {},
   "outputs": [],
   "source": [
    "def clean_text(text):\n",
    "    tokens = word_tokenize(text.lower(), language = 'russian')\n",
    "    token_with_out_punctuation = [i for i in tokens if (i not in string.punctuation) & (i != '—') & (i != '«') & (i != '»')]\n",
    "    russian_stopwords = stopwords.words('russian')\n",
    "    token_with_out_punctuation_and_stopwords = [i for i in token_with_out_punctuation if i not in russian_stopwords ]\n",
    "    token_with_out_punctuation_and_stopwords_and_lemming = [ morph.parse(i)[0].normal_form for i in token_with_out_punctuation_and_stopwords]\n",
    "    snowball_stem = SnowballStemmer(language = 'russian')\n",
    "    text = \" \".join([snowball_stem.stem(i) for i in token_with_out_punctuation_and_stopwords_and_lemming])\n",
    "    return text"
   ]
  },
  {
   "cell_type": "code",
   "execution_count": 50,
   "id": "5046f0a4",
   "metadata": {},
   "outputs": [
    {
     "data": {
      "text/html": [
       "<div>\n",
       "<style scoped>\n",
       "    .dataframe tbody tr th:only-of-type {\n",
       "        vertical-align: middle;\n",
       "    }\n",
       "\n",
       "    .dataframe tbody tr th {\n",
       "        vertical-align: top;\n",
       "    }\n",
       "\n",
       "    .dataframe thead th {\n",
       "        text-align: right;\n",
       "    }\n",
       "</style>\n",
       "<table border=\"1\" class=\"dataframe\">\n",
       "  <thead>\n",
       "    <tr style=\"text-align: right;\">\n",
       "      <th></th>\n",
       "      <th>topic</th>\n",
       "      <th>Text_cleaning</th>\n",
       "    </tr>\n",
       "  </thead>\n",
       "  <tbody>\n",
       "    <tr>\n",
       "      <th>0</th>\n",
       "      <td>Ценности</td>\n",
       "      <td>седин станет модн американск интернет-сервис p...</td>\n",
       "    </tr>\n",
       "    <tr>\n",
       "      <th>1</th>\n",
       "      <td>Путешествия</td>\n",
       "      <td>египтян организова турист секс пирамид поплат ...</td>\n",
       "    </tr>\n",
       "    <tr>\n",
       "      <th>2</th>\n",
       "      <td>Ценности</td>\n",
       "      <td>хваста дорог вещ батюшк раскр источник сво бог...</td>\n",
       "    </tr>\n",
       "    <tr>\n",
       "      <th>3</th>\n",
       "      <td>Путешествия</td>\n",
       "      <td>индиец попристава модел самолет сел девя лет п...</td>\n",
       "    </tr>\n",
       "    <tr>\n",
       "      <th>4</th>\n",
       "      <td>Ценности</td>\n",
       "      <td>раскрыт реальн внешност модел victoria ’ s sec...</td>\n",
       "    </tr>\n",
       "    <tr>\n",
       "      <th>...</th>\n",
       "      <td>...</td>\n",
       "      <td>...</td>\n",
       "    </tr>\n",
       "    <tr>\n",
       "      <th>127691</th>\n",
       "      <td>Силовые структуры</td>\n",
       "      <td>заверш следств дел генера мвд сугробов заверш ...</td>\n",
       "    </tr>\n",
       "    <tr>\n",
       "      <th>127692</th>\n",
       "      <td>Силовые структуры</td>\n",
       "      <td>задержа подозрева убийств эпизодник гардемарин...</td>\n",
       "    </tr>\n",
       "    <tr>\n",
       "      <th>127693</th>\n",
       "      <td>Силовые структуры</td>\n",
       "      <td>крест умер предполага насильник гантел следств...</td>\n",
       "    </tr>\n",
       "    <tr>\n",
       "      <th>127694</th>\n",
       "      <td>Силовые структуры</td>\n",
       "      <td>суд арестова активист барабаш дел журналист рб...</td>\n",
       "    </tr>\n",
       "    <tr>\n",
       "      <th>127695</th>\n",
       "      <td>Силовые структуры</td>\n",
       "      <td>международн эксперт призна объективн мак вскры...</td>\n",
       "    </tr>\n",
       "  </tbody>\n",
       "</table>\n",
       "<p>127696 rows × 2 columns</p>\n",
       "</div>"
      ],
      "text/plain": [
       "                    topic                                      Text_cleaning\n",
       "0                Ценности  седин станет модн американск интернет-сервис p...\n",
       "1             Путешествия  египтян организова турист секс пирамид поплат ...\n",
       "2                Ценности  хваста дорог вещ батюшк раскр источник сво бог...\n",
       "3             Путешествия  индиец попристава модел самолет сел девя лет п...\n",
       "4                Ценности  раскрыт реальн внешност модел victoria ’ s sec...\n",
       "...                   ...                                                ...\n",
       "127691  Силовые структуры  заверш следств дел генера мвд сугробов заверш ...\n",
       "127692  Силовые структуры  задержа подозрева убийств эпизодник гардемарин...\n",
       "127693  Силовые структуры  крест умер предполага насильник гантел следств...\n",
       "127694  Силовые структуры  суд арестова активист барабаш дел журналист рб...\n",
       "127695  Силовые структуры  международн эксперт призна объективн мак вскры...\n",
       "\n",
       "[127696 rows x 2 columns]"
      ]
     },
     "execution_count": 50,
     "metadata": {},
     "output_type": "execute_result"
    }
   ],
   "source": [
    "df_mini['Text_cleaning'] = df_mini.Text_cleaning.apply(clean_text)\n",
    "df_mini"
   ]
  },
  {
   "cell_type": "code",
   "execution_count": 55,
   "id": "f69c81ea",
   "metadata": {},
   "outputs": [],
   "source": [
    "df_mini.to_csv('df_for_model.csv')"
   ]
  },
  {
   "cell_type": "code",
   "execution_count": 2,
   "id": "4fe48a31",
   "metadata": {},
   "outputs": [],
   "source": [
    "df_for_model = pd.read_csv('df_for_model.csv', index_col=0)"
   ]
  },
  {
   "cell_type": "code",
   "execution_count": 3,
   "id": "4155b787",
   "metadata": {},
   "outputs": [
    {
     "data": {
      "text/html": [
       "<div>\n",
       "<style scoped>\n",
       "    .dataframe tbody tr th:only-of-type {\n",
       "        vertical-align: middle;\n",
       "    }\n",
       "\n",
       "    .dataframe tbody tr th {\n",
       "        vertical-align: top;\n",
       "    }\n",
       "\n",
       "    .dataframe thead th {\n",
       "        text-align: right;\n",
       "    }\n",
       "</style>\n",
       "<table border=\"1\" class=\"dataframe\">\n",
       "  <thead>\n",
       "    <tr style=\"text-align: right;\">\n",
       "      <th></th>\n",
       "      <th>topic</th>\n",
       "      <th>Text_cleaning</th>\n",
       "    </tr>\n",
       "  </thead>\n",
       "  <tbody>\n",
       "    <tr>\n",
       "      <th>0</th>\n",
       "      <td>Ценности</td>\n",
       "      <td>седин станет модн американск интернет-сервис p...</td>\n",
       "    </tr>\n",
       "    <tr>\n",
       "      <th>1</th>\n",
       "      <td>Путешествия</td>\n",
       "      <td>египтян организова турист секс пирамид поплат ...</td>\n",
       "    </tr>\n",
       "    <tr>\n",
       "      <th>2</th>\n",
       "      <td>Ценности</td>\n",
       "      <td>хваста дорог вещ батюшк раскр источник сво бог...</td>\n",
       "    </tr>\n",
       "    <tr>\n",
       "      <th>3</th>\n",
       "      <td>Путешествия</td>\n",
       "      <td>индиец попристава модел самолет сел девя лет п...</td>\n",
       "    </tr>\n",
       "    <tr>\n",
       "      <th>4</th>\n",
       "      <td>Ценности</td>\n",
       "      <td>раскрыт реальн внешност модел victoria ’ s sec...</td>\n",
       "    </tr>\n",
       "    <tr>\n",
       "      <th>...</th>\n",
       "      <td>...</td>\n",
       "      <td>...</td>\n",
       "    </tr>\n",
       "    <tr>\n",
       "      <th>127691</th>\n",
       "      <td>Силовые структуры</td>\n",
       "      <td>заверш следств дел генера мвд сугробов заверш ...</td>\n",
       "    </tr>\n",
       "    <tr>\n",
       "      <th>127692</th>\n",
       "      <td>Силовые структуры</td>\n",
       "      <td>задержа подозрева убийств эпизодник гардемарин...</td>\n",
       "    </tr>\n",
       "    <tr>\n",
       "      <th>127693</th>\n",
       "      <td>Силовые структуры</td>\n",
       "      <td>крест умер предполага насильник гантел следств...</td>\n",
       "    </tr>\n",
       "    <tr>\n",
       "      <th>127694</th>\n",
       "      <td>Силовые структуры</td>\n",
       "      <td>суд арестова активист барабаш дел журналист рб...</td>\n",
       "    </tr>\n",
       "    <tr>\n",
       "      <th>127695</th>\n",
       "      <td>Силовые структуры</td>\n",
       "      <td>международн эксперт призна объективн мак вскры...</td>\n",
       "    </tr>\n",
       "  </tbody>\n",
       "</table>\n",
       "<p>127696 rows × 2 columns</p>\n",
       "</div>"
      ],
      "text/plain": [
       "                    topic                                      Text_cleaning\n",
       "0                Ценности  седин станет модн американск интернет-сервис p...\n",
       "1             Путешествия  египтян организова турист секс пирамид поплат ...\n",
       "2                Ценности  хваста дорог вещ батюшк раскр источник сво бог...\n",
       "3             Путешествия  индиец попристава модел самолет сел девя лет п...\n",
       "4                Ценности  раскрыт реальн внешност модел victoria ’ s sec...\n",
       "...                   ...                                                ...\n",
       "127691  Силовые структуры  заверш следств дел генера мвд сугробов заверш ...\n",
       "127692  Силовые структуры  задержа подозрева убийств эпизодник гардемарин...\n",
       "127693  Силовые структуры  крест умер предполага насильник гантел следств...\n",
       "127694  Силовые структуры  суд арестова активист барабаш дел журналист рб...\n",
       "127695  Силовые структуры  международн эксперт призна объективн мак вскры...\n",
       "\n",
       "[127696 rows x 2 columns]"
      ]
     },
     "execution_count": 3,
     "metadata": {},
     "output_type": "execute_result"
    }
   ],
   "source": [
    "df_for_model"
   ]
  },
  {
   "cell_type": "code",
   "execution_count": 5,
   "id": "7cb1935b",
   "metadata": {},
   "outputs": [
    {
     "data": {
      "text/plain": [
       "Экономика            10000\n",
       "Наука и техника      10000\n",
       "Силовые структуры    10000\n",
       "Мир                  10000\n",
       "Бывший СССР          10000\n",
       "Дом                  10000\n",
       "Россия               10000\n",
       "Культура             10000\n",
       "Интернет и СМИ       10000\n",
       "Спорт                10000\n",
       "Из жизни             10000\n",
       "Бизнес                6948\n",
       "Ценности              4877\n",
       "Путешествия           4563\n",
       "Name: topic, dtype: int64"
      ]
     },
     "execution_count": 5,
     "metadata": {},
     "output_type": "execute_result"
    }
   ],
   "source": [
    "df_for_model.topic.value_counts()"
   ]
  },
  {
   "cell_type": "code",
   "execution_count": 6,
   "id": "ef1829d8",
   "metadata": {},
   "outputs": [],
   "source": [
    "from sklearn.linear_model import SGDClassifier\n",
    "from sklearn.neighbors import KNeighborsClassifier\n",
    "from sklearn.model_selection import GridSearchCV\n",
    "from sklearn import metrics"
   ]
  },
  {
   "cell_type": "code",
   "execution_count": 7,
   "id": "3af048dc",
   "metadata": {},
   "outputs": [],
   "source": [
    "X_train, X_test, y_train, y_test = \\\n",
    "train_test_split(df_for_model['Text_cleaning'], df_for_model['topic'], test_size=0.2, random_state=42)"
   ]
  },
  {
   "cell_type": "code",
   "execution_count": 11,
   "id": "3c7ad4ca",
   "metadata": {},
   "outputs": [],
   "source": [
    "from sklearn.feature_extraction.text import  TfidfVectorizer\n",
    "\n",
    "sgd_ppl_clf = Pipeline([\n",
    "    ('vectorizer', TfidfVectorizer()),\n",
    "    ('model', SGDClassifier(random_state=42))])\n",
    "knb_ppl_clf = Pipeline([\n",
    "    ('vectorizer', TfidfVectorizer()),\n",
    "    ('model', KNeighborsClassifier())])"
   ]
  },
  {
   "cell_type": "code",
   "execution_count": 12,
   "id": "b2ded55d",
   "metadata": {},
   "outputs": [
    {
     "data": {
      "text/plain": [
       "Pipeline(steps=[('vectorizer', TfidfVectorizer()),\n",
       "                ('model', SGDClassifier(random_state=42))])"
      ]
     },
     "execution_count": 12,
     "metadata": {},
     "output_type": "execute_result"
    }
   ],
   "source": [
    "sgd_ppl_clf.fit(X_train, y_train)"
   ]
  },
  {
   "cell_type": "code",
   "execution_count": 13,
   "id": "f04b8608",
   "metadata": {},
   "outputs": [
    {
     "name": "stdout",
     "output_type": "stream",
     "text": [
      "                   precision    recall  f1-score   support\n",
      "\n",
      "           Бизнес       0.72      0.78      0.75      1292\n",
      "      Бывший СССР       0.92      0.85      0.89      2128\n",
      "              Дом       0.93      0.89      0.91      2042\n",
      "         Из жизни       0.77      0.82      0.79      1901\n",
      "   Интернет и СМИ       0.79      0.82      0.81      2008\n",
      "         Культура       0.94      0.85      0.89      2272\n",
      "              Мир       0.84      0.80      0.82      2106\n",
      "  Наука и техника       0.90      0.89      0.89      1937\n",
      "      Путешествия       0.86      0.82      0.84       946\n",
      "           Россия       0.65      0.84      0.74      1501\n",
      "Силовые структуры       0.86      0.78      0.82      2143\n",
      "            Спорт       0.98      0.92      0.95      2090\n",
      "         Ценности       0.87      0.89      0.88      1002\n",
      "        Экономика       0.79      0.85      0.82      1910\n",
      "\n",
      "         accuracy                           0.84     25278\n",
      "        macro avg       0.84      0.84      0.84     25278\n",
      "     weighted avg       0.85      0.84      0.85     25278\n",
      "\n"
     ]
    }
   ],
   "source": [
    "predicted_sgd = sgd_ppl_clf.predict(X_test)\n",
    "print(metrics.classification_report(predicted_sgd, y_test))"
   ]
  },
  {
   "cell_type": "code",
   "execution_count": 16,
   "id": "9327fe21",
   "metadata": {},
   "outputs": [
    {
     "data": {
      "text/plain": [
       "Pipeline(steps=[('vectorizer', TfidfVectorizer()),\n",
       "                ('model', KNeighborsClassifier())])"
      ]
     },
     "execution_count": 16,
     "metadata": {},
     "output_type": "execute_result"
    }
   ],
   "source": [
    "knb_ppl_clf.fit(X_train, y_train)"
   ]
  },
  {
   "cell_type": "code",
   "execution_count": 17,
   "id": "29a5ed8d",
   "metadata": {},
   "outputs": [
    {
     "name": "stdout",
     "output_type": "stream",
     "text": [
      "                   precision    recall  f1-score   support\n",
      "\n",
      "           Бизнес       0.74      0.65      0.69      1586\n",
      "      Бывший СССР       0.89      0.79      0.84      2197\n",
      "              Дом       0.87      0.81      0.84      2122\n",
      "         Из жизни       0.65      0.68      0.66      1945\n",
      "   Интернет и СМИ       0.63      0.77      0.69      1691\n",
      "         Культура       0.82      0.81      0.81      2114\n",
      "              Мир       0.79      0.73      0.76      2204\n",
      "  Наука и техника       0.83      0.84      0.83      1884\n",
      "      Путешествия       0.74      0.79      0.77       851\n",
      "           Россия       0.63      0.71      0.66      1713\n",
      "Силовые структуры       0.76      0.76      0.76      1962\n",
      "            Спорт       0.95      0.92      0.93      2046\n",
      "         Ценности       0.80      0.88      0.84       931\n",
      "        Экономика       0.79      0.80      0.80      2032\n",
      "\n",
      "         accuracy                           0.78     25278\n",
      "        macro avg       0.78      0.78      0.78     25278\n",
      "     weighted avg       0.78      0.78      0.78     25278\n",
      "\n"
     ]
    }
   ],
   "source": [
    "predicted_knb = knb_ppl_clf.predict(X_test)\n",
    "print(metrics.classification_report(predicted_knb, y_test))"
   ]
  },
  {
   "cell_type": "code",
   "execution_count": 20,
   "id": "5811ec6e",
   "metadata": {},
   "outputs": [],
   "source": [
    "from sklearn.ensemble import RandomForestClassifier\n",
    "rndf_ppl_clf = Pipeline([\n",
    "    ('vectorizer', TfidfVectorizer()),\n",
    "    ('model', RandomForestClassifier())])\n"
   ]
  },
  {
   "cell_type": "code",
   "execution_count": 21,
   "id": "d87e284b",
   "metadata": {},
   "outputs": [
    {
     "name": "stdout",
     "output_type": "stream",
     "text": [
      "                   precision    recall  f1-score   support\n",
      "\n",
      "           Бизнес       0.66      0.77      0.71      1195\n",
      "      Бывший СССР       0.87      0.81      0.84      2123\n",
      "              Дом       0.89      0.87      0.88      2006\n",
      "         Из жизни       0.76      0.70      0.73      2191\n",
      "   Интернет и СМИ       0.69      0.77      0.72      1854\n",
      "         Культура       0.87      0.83      0.85      2171\n",
      "              Мир       0.78      0.75      0.76      2097\n",
      "  Наука и техника       0.86      0.88      0.87      1887\n",
      "      Путешествия       0.73      0.83      0.78       796\n",
      "           Россия       0.59      0.78      0.67      1458\n",
      "Силовые структуры       0.83      0.72      0.77      2273\n",
      "            Спорт       0.98      0.90      0.93      2155\n",
      "         Ценности       0.82      0.93      0.87       905\n",
      "        Экономика       0.82      0.78      0.80      2167\n",
      "\n",
      "         accuracy                           0.80     25278\n",
      "        macro avg       0.80      0.81      0.80     25278\n",
      "     weighted avg       0.81      0.80      0.80     25278\n",
      "\n"
     ]
    }
   ],
   "source": [
    "rndf_ppl_clf.fit(X_train, y_train)\n",
    "predicted_rndf = rndf_ppl_clf.predict(X_test)\n",
    "print(metrics.classification_report(predicted_rndf, y_test))"
   ]
  },
  {
   "cell_type": "code",
   "execution_count": null,
   "id": "e43d9dd3",
   "metadata": {},
   "outputs": [
    {
     "name": "stdout",
     "output_type": "stream",
     "text": [
      "Подборка началась...\n",
      "Fitting 5 folds for each of 10 candidates, totalling 50 fits\n",
      "[CV 1/5] END model__class_weight=balanced, model__loss=log, model__penalty=l1, vectorizer__ngram_range=(3, 4), vectorizer__strip_accents=ascii; total time=  31.5s\n",
      "[CV 2/5] END model__class_weight=balanced, model__loss=log, model__penalty=l1, vectorizer__ngram_range=(3, 4), vectorizer__strip_accents=ascii; total time=  31.5s\n",
      "[CV 3/5] END model__class_weight=balanced, model__loss=log, model__penalty=l1, vectorizer__ngram_range=(3, 4), vectorizer__strip_accents=ascii; total time=  31.3s\n",
      "[CV 4/5] END model__class_weight=balanced, model__loss=log, model__penalty=l1, vectorizer__ngram_range=(3, 4), vectorizer__strip_accents=ascii; total time=  31.4s\n",
      "[CV 5/5] END model__class_weight=balanced, model__loss=log, model__penalty=l1, vectorizer__ngram_range=(3, 4), vectorizer__strip_accents=ascii; total time=  31.4s\n",
      "[CV 1/5] END model__class_weight=balanced, model__loss=perceptron, model__penalty=elasticnet, vectorizer__ngram_range=(3, 4), vectorizer__strip_accents=ascii; total time=  27.6s\n",
      "[CV 2/5] END model__class_weight=balanced, model__loss=perceptron, model__penalty=elasticnet, vectorizer__ngram_range=(3, 4), vectorizer__strip_accents=ascii; total time=  27.5s\n",
      "[CV 3/5] END model__class_weight=balanced, model__loss=perceptron, model__penalty=elasticnet, vectorizer__ngram_range=(3, 4), vectorizer__strip_accents=ascii; total time=  27.6s\n",
      "[CV 4/5] END model__class_weight=balanced, model__loss=perceptron, model__penalty=elasticnet, vectorizer__ngram_range=(3, 4), vectorizer__strip_accents=ascii; total time=  27.6s\n",
      "[CV 5/5] END model__class_weight=balanced, model__loss=perceptron, model__penalty=elasticnet, vectorizer__ngram_range=(3, 4), vectorizer__strip_accents=ascii; total time=  27.5s\n",
      "[CV 1/5] END model__class_weight=balanced, model__loss=perceptron, model__penalty=l2, vectorizer__ngram_range=(3, 4), vectorizer__strip_accents=ascii; total time=  23.6s\n",
      "[CV 2/5] END model__class_weight=balanced, model__loss=perceptron, model__penalty=l2, vectorizer__ngram_range=(3, 4), vectorizer__strip_accents=ascii; total time=  23.5s\n",
      "[CV 3/5] END model__class_weight=balanced, model__loss=perceptron, model__penalty=l2, vectorizer__ngram_range=(3, 4), vectorizer__strip_accents=ascii; total time=  24.0s\n",
      "[CV 4/5] END model__class_weight=balanced, model__loss=perceptron, model__penalty=l2, vectorizer__ngram_range=(3, 4), vectorizer__strip_accents=ascii; total time=  23.6s\n",
      "[CV 5/5] END model__class_weight=balanced, model__loss=perceptron, model__penalty=l2, vectorizer__ngram_range=(3, 4), vectorizer__strip_accents=ascii; total time=  23.7s\n",
      "[CV 1/5] END model__class_weight=None, model__loss=modified_huber, model__penalty=elasticnet, vectorizer__ngram_range=(1, 2), vectorizer__strip_accents=ascii; total time=  26.4s\n",
      "[CV 2/5] END model__class_weight=None, model__loss=modified_huber, model__penalty=elasticnet, vectorizer__ngram_range=(1, 2), vectorizer__strip_accents=ascii; total time=  26.2s\n",
      "[CV 3/5] END model__class_weight=None, model__loss=modified_huber, model__penalty=elasticnet, vectorizer__ngram_range=(1, 2), vectorizer__strip_accents=ascii; total time=  26.2s\n",
      "[CV 4/5] END model__class_weight=None, model__loss=modified_huber, model__penalty=elasticnet, vectorizer__ngram_range=(1, 2), vectorizer__strip_accents=ascii; total time=  26.3s\n",
      "[CV 5/5] END model__class_weight=None, model__loss=modified_huber, model__penalty=elasticnet, vectorizer__ngram_range=(1, 2), vectorizer__strip_accents=ascii; total time=  26.7s\n",
      "[CV 1/5] END model__class_weight=balanced, model__loss=modified_huber, model__penalty=None, vectorizer__ngram_range=(1, 2), vectorizer__strip_accents=ascii; total time=  37.4s\n",
      "[CV 2/5] END model__class_weight=balanced, model__loss=modified_huber, model__penalty=None, vectorizer__ngram_range=(1, 2), vectorizer__strip_accents=ascii; total time=  35.1s\n",
      "[CV 3/5] END model__class_weight=balanced, model__loss=modified_huber, model__penalty=None, vectorizer__ngram_range=(1, 2), vectorizer__strip_accents=ascii; total time=  35.9s\n",
      "[CV 4/5] END model__class_weight=balanced, model__loss=modified_huber, model__penalty=None, vectorizer__ngram_range=(1, 2), vectorizer__strip_accents=ascii; total time=  35.7s\n",
      "[CV 5/5] END model__class_weight=balanced, model__loss=modified_huber, model__penalty=None, vectorizer__ngram_range=(1, 2), vectorizer__strip_accents=ascii; total time=  37.2s\n",
      "[CV 1/5] END model__class_weight=None, model__loss=log, model__penalty=l1, vectorizer__ngram_range=(1, 2), vectorizer__strip_accents=unicode; total time= 6.2min\n",
      "[CV 2/5] END model__class_weight=None, model__loss=log, model__penalty=l1, vectorizer__ngram_range=(1, 2), vectorizer__strip_accents=unicode; total time= 6.1min\n",
      "[CV 3/5] END model__class_weight=None, model__loss=log, model__penalty=l1, vectorizer__ngram_range=(1, 2), vectorizer__strip_accents=unicode; total time= 6.1min\n",
      "[CV 4/5] END model__class_weight=None, model__loss=log, model__penalty=l1, vectorizer__ngram_range=(1, 2), vectorizer__strip_accents=unicode; total time= 6.0min\n",
      "[CV 5/5] END model__class_weight=None, model__loss=log, model__penalty=l1, vectorizer__ngram_range=(1, 2), vectorizer__strip_accents=unicode; total time= 6.1min\n",
      "[CV 1/5] END model__class_weight=None, model__loss=hinge, model__penalty=l1, vectorizer__ngram_range=(1, 2), vectorizer__strip_accents=ascii; total time=  22.8s\n",
      "[CV 2/5] END model__class_weight=None, model__loss=hinge, model__penalty=l1, vectorizer__ngram_range=(1, 2), vectorizer__strip_accents=ascii; total time=  21.2s\n",
      "[CV 3/5] END model__class_weight=None, model__loss=hinge, model__penalty=l1, vectorizer__ngram_range=(1, 2), vectorizer__strip_accents=ascii; total time=  21.2s\n",
      "[CV 4/5] END model__class_weight=None, model__loss=hinge, model__penalty=l1, vectorizer__ngram_range=(1, 2), vectorizer__strip_accents=ascii; total time=  21.2s\n",
      "[CV 5/5] END model__class_weight=None, model__loss=hinge, model__penalty=l1, vectorizer__ngram_range=(1, 2), vectorizer__strip_accents=ascii; total time=  21.2s\n",
      "[CV 1/5] END model__class_weight=balanced, model__loss=modified_huber, model__penalty=elasticnet, vectorizer__ngram_range=(1, 2), vectorizer__strip_accents=unicode; total time= 5.4min\n",
      "[CV 2/5] END model__class_weight=balanced, model__loss=modified_huber, model__penalty=elasticnet, vectorizer__ngram_range=(1, 2), vectorizer__strip_accents=unicode; total time= 5.4min\n",
      "[CV 3/5] END model__class_weight=balanced, model__loss=modified_huber, model__penalty=elasticnet, vectorizer__ngram_range=(1, 2), vectorizer__strip_accents=unicode; total time= 5.4min\n",
      "[CV 4/5] END model__class_weight=balanced, model__loss=modified_huber, model__penalty=elasticnet, vectorizer__ngram_range=(1, 2), vectorizer__strip_accents=unicode; total time= 5.4min\n",
      "[CV 5/5] END model__class_weight=balanced, model__loss=modified_huber, model__penalty=elasticnet, vectorizer__ngram_range=(1, 2), vectorizer__strip_accents=unicode; total time= 5.4min\n",
      "[CV 1/5] END model__class_weight=None, model__loss=perceptron, model__penalty=l2, vectorizer__ngram_range=(1, 2), vectorizer__strip_accents=unicode; total time= 3.6min\n",
      "[CV 2/5] END model__class_weight=None, model__loss=perceptron, model__penalty=l2, vectorizer__ngram_range=(1, 2), vectorizer__strip_accents=unicode; total time= 3.5min\n",
      "[CV 3/5] END model__class_weight=None, model__loss=perceptron, model__penalty=l2, vectorizer__ngram_range=(1, 2), vectorizer__strip_accents=unicode; total time= 3.7min\n",
      "[CV 4/5] END model__class_weight=None, model__loss=perceptron, model__penalty=l2, vectorizer__ngram_range=(1, 2), vectorizer__strip_accents=unicode; total time= 3.5min\n",
      "[CV 5/5] END model__class_weight=None, model__loss=perceptron, model__penalty=l2, vectorizer__ngram_range=(1, 2), vectorizer__strip_accents=unicode; total time= 3.5min\n"
     ]
    }
   ],
   "source": [
    "parameters = { \n",
    "              'model__loss':['hinge', 'log', 'modified_huber', 'perceptron'],\n",
    "              'model__class_weight':[None, 'balanced'],\n",
    "              'model__penalty':[None, 'l2', 'l1', 'elasticnet'],\n",
    "              'vectorizer__strip_accents':['ascii', 'unicode'],\n",
    "              'vectorizer__ngram_range':[(1,2), (3,4)]\n",
    "              }\n",
    "#model = GridSearchCV(sgd_ppl_clf_1, parameters,cv=4, n_jobs=-1).fit(X_train_1, y_train_1)\n",
    "#search = RandomizedSearchCV(sgd_ppl_clf_1, \n",
    "#param_distributions=parameters, n_iter=50)\n",
    "#search.fit(X_train_1, y_train_1)\n",
    "\n",
    "\n",
    "print(\"Подборка началась...\") \n",
    "search = RandomizedSearchCV(sgd_ppl_clf, param_distributions=parameters, verbose=8, error_score='raise') \n",
    "search.fit(X_train, y_train) \n"
   ]
  },
  {
   "cell_type": "code",
   "execution_count": null,
   "id": "945c0a68",
   "metadata": {},
   "outputs": [],
   "source": [
    "search.best_params_"
   ]
  },
  {
   "cell_type": "code",
   "execution_count": 19,
   "id": "d3bb4b3e",
   "metadata": {},
   "outputs": [
    {
     "name": "stdout",
     "output_type": "stream",
     "text": [
      "                   precision    recall  f1-score   support\n",
      "\n",
      "           Бизнес       0.80      0.82      0.81      1355\n",
      "      Бывший СССР       0.93      0.90      0.91      2022\n",
      "              Дом       0.94      0.93      0.94      1980\n",
      "         Из жизни       0.82      0.85      0.84      1957\n",
      "   Интернет и СМИ       0.81      0.87      0.84      1940\n",
      "         Культура       0.90      0.91      0.91      2052\n",
      "              Мир       0.87      0.84      0.86      2088\n",
      "  Наука и техника       0.92      0.92      0.92      1919\n",
      "      Путешествия       0.89      0.85      0.87       952\n",
      "           Россия       0.82      0.80      0.81      1986\n",
      "Силовые структуры       0.88      0.84      0.86      2038\n",
      "            Спорт       0.97      0.95      0.96      2017\n",
      "         Ценности       0.93      0.91      0.92      1041\n",
      "        Экономика       0.84      0.89      0.87      1931\n",
      "\n",
      "         accuracy                           0.88     25278\n",
      "        macro avg       0.88      0.88      0.88     25278\n",
      "     weighted avg       0.88      0.88      0.88     25278\n",
      "\n"
     ]
    }
   ],
   "source": [
    "sgd_ppl_clf_1 = Pipeline([\n",
    "    ('vectorizer', TfidfVectorizer(ngram_range=(1, 2), strip_accents = 'unicode')),\n",
    "    ('model', SGDClassifier(penalty='l2', class_weight=None, loss='perceptron', random_state=42))])\n",
    "sgd_ppl_clf_1.fit(X_train, y_train)\n",
    "predicted_sgd = sgd_ppl_clf_1.predict(X_test)\n",
    "print(metrics.classification_report(predicted_sgd, y_test))"
   ]
  },
  {
   "cell_type": "code",
   "execution_count": null,
   "id": "82a3f125",
   "metadata": {},
   "outputs": [],
   "source": []
  }
 ],
 "metadata": {
  "kernelspec": {
   "display_name": "Python 3",
   "language": "python",
   "name": "python3"
  },
  "language_info": {
   "codemirror_mode": {
    "name": "ipython",
    "version": 3
   },
   "file_extension": ".py",
   "mimetype": "text/x-python",
   "name": "python",
   "nbconvert_exporter": "python",
   "pygments_lexer": "ipython3",
   "version": "3.8.8"
  }
 },
 "nbformat": 4,
 "nbformat_minor": 5
}
